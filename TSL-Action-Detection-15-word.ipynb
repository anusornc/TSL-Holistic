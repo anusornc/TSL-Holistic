{
 "cells": [
  {
   "cell_type": "markdown",
   "metadata": {},
   "source": [
    "# 1. Import and Install Dependencies"
   ]
  },
  {
   "cell_type": "code",
   "execution_count": null,
   "metadata": {},
   "outputs": [],
   "source": [
    "!pip install tensorflow==2.4.1 tensorflow-gpu==2.4.1 opencv-python mediapipe sklearn matplotlib"
   ]
  },
  {
   "cell_type": "markdown",
   "metadata": {},
   "source": [
    "# นำเข้า Library ที่ใช้"
   ]
  },
  {
   "cell_type": "code",
   "execution_count": 1,
   "metadata": {},
   "outputs": [],
   "source": [
    "import cv2\n",
    "import numpy as np\n",
    "import os\n",
    "from matplotlib import pyplot as plt\n",
    "import time\n",
    "import mediapipe as mp"
   ]
  },
  {
   "cell_type": "code",
   "execution_count": null,
   "metadata": {},
   "outputs": [],
   "source": [
    "print(np.__version__)"
   ]
  },
  {
   "cell_type": "markdown",
   "metadata": {},
   "source": [
    "# 2. Keypoints using MP Holistic\n",
    "Adapted from https://github.com/nicknochnack/ActionDetectionforSignLanguage"
   ]
  },
  {
   "cell_type": "code",
   "execution_count": 2,
   "metadata": {},
   "outputs": [],
   "source": [
    "mp_holistic = mp.solutions.holistic # Holistic model\n",
    "mp_drawing = mp.solutions.drawing_utils # Drawing utilities"
   ]
  },
  {
   "cell_type": "code",
   "execution_count": 3,
   "metadata": {},
   "outputs": [],
   "source": [
    "def mediapipe_detection(image, model):\n",
    "    image = cv2.cvtColor(image, cv2.COLOR_BGR2RGB) # COLOR CONVERSION BGR 2 RGB\n",
    "    image.flags.writeable = False                  # Image is no longer writeable\n",
    "    results = model.process(image)                 # Make prediction\n",
    "    image.flags.writeable = True                   # Image is now writeable \n",
    "    image = cv2.cvtColor(image, cv2.COLOR_RGB2BGR) # COLOR COVERSION RGB 2 BGR\n",
    "    return image, results"
   ]
  },
  {
   "cell_type": "code",
   "execution_count": 4,
   "metadata": {},
   "outputs": [],
   "source": [
    "def draw_landmarks(image, results):\n",
    "    mp_drawing.draw_landmarks(image, results.face_landmarks, mp_holistic.FACEMESH_TESSELATION) # Draw face connections\n",
    "    mp_drawing.draw_landmarks(image, results.pose_landmarks, mp_holistic.POSE_CONNECTIONS) # Draw pose connections\n",
    "    mp_drawing.draw_landmarks(image, results.left_hand_landmarks, mp_holistic.HAND_CONNECTIONS) # Draw left hand connections\n",
    "    mp_drawing.draw_landmarks(image, results.right_hand_landmarks, mp_holistic.HAND_CONNECTIONS) # Draw right hand connections"
   ]
  },
  {
   "cell_type": "code",
   "execution_count": 5,
   "metadata": {},
   "outputs": [],
   "source": [
    "def draw_styled_landmarks(image, results):\n",
    "    # Draw face connections\n",
    "    mp_drawing.draw_landmarks(image, results.face_landmarks, mp_holistic.FACEMESH_TESSELATION, \n",
    "                             mp_drawing.DrawingSpec(color=(80,110,10), thickness=1, circle_radius=1), \n",
    "                             mp_drawing.DrawingSpec(color=(80,256,121), thickness=1, circle_radius=1)\n",
    "                             ) \n",
    "    # Draw pose connections\n",
    "    mp_drawing.draw_landmarks(image, results.pose_landmarks, mp_holistic.POSE_CONNECTIONS,\n",
    "                             mp_drawing.DrawingSpec(color=(80,22,10), thickness=2, circle_radius=4), \n",
    "                             mp_drawing.DrawingSpec(color=(80,44,121), thickness=2, circle_radius=2)\n",
    "                             ) \n",
    "    # Draw left hand connections\n",
    "    mp_drawing.draw_landmarks(image, results.left_hand_landmarks, mp_holistic.HAND_CONNECTIONS, \n",
    "                             mp_drawing.DrawingSpec(color=(121,22,76), thickness=2, circle_radius=4), \n",
    "                             mp_drawing.DrawingSpec(color=(121,44,250), thickness=2, circle_radius=2)\n",
    "                             ) \n",
    "    # Draw right hand connections  \n",
    "    mp_drawing.draw_landmarks(image, results.right_hand_landmarks, mp_holistic.HAND_CONNECTIONS, \n",
    "                             mp_drawing.DrawingSpec(color=(245,117,66), thickness=2, circle_radius=4), \n",
    "                             mp_drawing.DrawingSpec(color=(245,66,230), thickness=2, circle_radius=2)\n",
    "                             ) "
   ]
  },
  {
   "cell_type": "markdown",
   "metadata": {},
   "source": [
    "# ทดลองเรียกใช้ OpenCV เพื่อ Capture ท่าทาง ร่างกาย จาก MediaPipe Holistics"
   ]
  },
  {
   "cell_type": "code",
   "execution_count": null,
   "metadata": {},
   "outputs": [],
   "source": [
    "cap = cv2.VideoCapture(0)\n",
    "# Set mediapipe model \n",
    "with mp_holistic.Holistic(min_detection_confidence=0.5, min_tracking_confidence=0.5) as holistic:\n",
    "    while cap.isOpened():\n",
    "\n",
    "        # Read feed\n",
    "        ret, frame = cap.read()\n",
    "\n",
    "        # Make detections\n",
    "        image, results = mediapipe_detection(frame, holistic)\n",
    "        print(results)\n",
    "        \n",
    "        # Draw landmarks\n",
    "        draw_styled_landmarks(image, results)\n",
    "\n",
    "        # Show to screen\n",
    "        cv2.imshow('OpenCV Feed', image)\n",
    "\n",
    "        # Break gracefully\n",
    "        if cv2.waitKey(10) & 0xFF == ord('q'):\n",
    "            break\n",
    "    cap.release()\n",
    "    cv2.destroyAllWindows()"
   ]
  },
  {
   "cell_type": "code",
   "execution_count": null,
   "metadata": {},
   "outputs": [],
   "source": [
    "draw_styled_landmarks(frame, results)"
   ]
  },
  {
   "cell_type": "code",
   "execution_count": null,
   "metadata": {},
   "outputs": [],
   "source": [
    "plt.imshow(cv2.cvtColor(frame, cv2.COLOR_BGR2RGB))"
   ]
  },
  {
   "cell_type": "code",
   "execution_count": null,
   "metadata": {},
   "outputs": [],
   "source": [
    "plt.imshow(cv2.cvtColor(frame, cv2.COLOR_BGR2RGB))"
   ]
  },
  {
   "cell_type": "markdown",
   "metadata": {},
   "source": [
    "# 3. Extract Keypoint Values"
   ]
  },
  {
   "cell_type": "markdown",
   "metadata": {},
   "source": [
    "## ทดลองนับจำนวนจุดที่ได้บนใบหน้าและท่าทาง"
   ]
  },
  {
   "cell_type": "code",
   "execution_count": null,
   "metadata": {},
   "outputs": [],
   "source": [
    "len(results.face_landmarks.landmark)"
   ]
  },
  {
   "cell_type": "code",
   "execution_count": null,
   "metadata": {},
   "outputs": [],
   "source": [
    "len(results.pose_landmarks.landmark)"
   ]
  },
  {
   "cell_type": "code",
   "execution_count": null,
   "metadata": {},
   "outputs": [],
   "source": [
    "## ทดลองนำจุดบนตำแหน่งของท่าทาง (pose) (33 ตัว) มาใส่ตัวแปร array"
   ]
  },
  {
   "cell_type": "code",
   "execution_count": null,
   "metadata": {},
   "outputs": [],
   "source": [
    "pose = []\n",
    "for res in results.pose_landmarks.landmark:\n",
    "    test = np.array([res.x, res.y, res.z, res.visibility])\n",
    "    pose.append(test)"
   ]
  },
  {
   "cell_type": "code",
   "execution_count": null,
   "metadata": {},
   "outputs": [],
   "source": [
    "print(pose[0])"
   ]
  },
  {
   "cell_type": "code",
   "execution_count": null,
   "metadata": {},
   "outputs": [],
   "source": [
    "print(pose[32])"
   ]
  },
  {
   "cell_type": "markdown",
   "metadata": {},
   "source": [
    "## กำหนดค่าให้ตัวแปรเพื่อแทนตำแหน่งต่างๆ ของท่าทาง\n",
    "## ประกอบไปด้วย\n",
    "#### pose เก็บตำแหน่งของท่าทาง (มีค่าเป็น 0 เมื่อไม่มีตำแหน่งปรากฏ)\n",
    "#### face เก็บตำแหน่งบนใบหน้า (มีค่าเป็น 0 เมื่อไม่มีตำแหน่งปรากฏ)\n",
    "#### lh เก็บตำแหน่งบนมือขวา (มีค่าเป็น 0 เมื่อไม่มีตำแหน่งปรากฏ)\n",
    "#### rh เก็บตำแหน่งบนมือซ้าย (มีค่าเป็น 0 เมื่อไม่มีตำแหน่งปรากฏ)"
   ]
  },
  {
   "cell_type": "code",
   "execution_count": null,
   "metadata": {},
   "outputs": [],
   "source": [
    "pose = np.array([[res.x, res.y, res.z, res.visibility] for res in results.pose_landmarks.landmark]).flatten() if results.pose_landmarks else np.zeros(132)\n",
    "face = np.array([[res.x, res.y, res.z] for res in results.face_landmarks.landmark]).flatten() if results.face_landmarks else np.zeros(1404)\n",
    "lh = np.array([[res.x, res.y, res.z] for res in results.left_hand_landmarks.landmark]).flatten() if results.left_hand_landmarks else np.zeros(21*3)\n",
    "rh = np.array([[res.x, res.y, res.z] for res in results.right_hand_landmarks.landmark]).flatten() if results.right_hand_landmarks else np.zeros(21*3)"
   ]
  },
  {
   "cell_type": "markdown",
   "metadata": {},
   "source": [
    "#### pose มีตำแหน่ง 33 จุด ดังนั้นตำแหน่งบน array 4 มิติเท่ากับ 33 * 3 = 132 ตัว\n",
    "### face มีตำแหน่ง 468 จุด ดังนั้นตำแหน่งบน array 3 มิติเท่ากับ 468 * 3 = 1040 ตัว\n",
    "### lh และ rh มีตำแหน่งข้างละ 21 จุด ดังนั้นตำแหน่งบน array 3 มิติเท่ากับ 21 * 3 = 63 จุด"
   ]
  },
  {
   "cell_type": "code",
   "execution_count": null,
   "metadata": {},
   "outputs": [],
   "source": [
    "face = np.array([[res.x, res.y, res.z] for res in results.face_landmarks.landmark]).flatten() \n",
    "    if results.face_landmarks \n",
    "    else np.zeros(1404)\n"
   ]
  },
  {
   "cell_type": "markdown",
   "metadata": {},
   "source": [
    "### นำมาเขียนเป็นฟังก์ชันเพื่อแยกจุดออกมาจากการตรวจจับของ Mediapipe ได้ดังนี้"
   ]
  },
  {
   "cell_type": "code",
   "execution_count": 6,
   "metadata": {},
   "outputs": [],
   "source": [
    "def extract_keypoints(results):\n",
    "    pose = np.array([[res.x, res.y, res.z, res.visibility] for res in results.pose_landmarks.landmark]).flatten() if results.pose_landmarks else np.zeros(33*4)\n",
    "    face = np.array([[res.x, res.y, res.z] for res in results.face_landmarks.landmark]).flatten() if results.face_landmarks else np.zeros(468*3)\n",
    "    lh = np.array([[res.x, res.y, res.z] for res in results.left_hand_landmarks.landmark]).flatten() if results.left_hand_landmarks else np.zeros(21*3)\n",
    "    rh = np.array([[res.x, res.y, res.z] for res in results.right_hand_landmarks.landmark]).flatten() if results.right_hand_landmarks else np.zeros(21*3)\n",
    "    return np.concatenate([pose, face, lh, rh])"
   ]
  },
  {
   "cell_type": "markdown",
   "metadata": {},
   "source": [
    "### ทดลองเรียกใช้งานฟังก์ชันโดยส่งรูป ที่เคย capture ไว้"
   ]
  },
  {
   "cell_type": "code",
   "execution_count": null,
   "metadata": {},
   "outputs": [],
   "source": [
    "result_test = extract_keypoints(results)"
   ]
  },
  {
   "cell_type": "code",
   "execution_count": null,
   "metadata": {},
   "outputs": [],
   "source": [
    "result_test.shape"
   ]
  },
  {
   "cell_type": "code",
   "execution_count": null,
   "metadata": {},
   "outputs": [],
   "source": [
    "result_test"
   ]
  },
  {
   "cell_type": "code",
   "execution_count": null,
   "metadata": {},
   "outputs": [],
   "source": [
    "np.save('0', result_test)"
   ]
  },
  {
   "cell_type": "code",
   "execution_count": null,
   "metadata": {},
   "outputs": [],
   "source": [
    "np.load('0.npy')"
   ]
  },
  {
   "cell_type": "code",
   "execution_count": null,
   "metadata": {},
   "outputs": [],
   "source": [
    "face = np.array([[res.x, res.y, res.z] for res in results.face_landmarks.landmark]).flatten() if results.face_landmarks else np.zeros(1404)"
   ]
  },
  {
   "cell_type": "code",
   "execution_count": null,
   "metadata": {},
   "outputs": [],
   "source": [
    "import plotly.graph_objects as go\n",
    "f = []\n",
    "for res in results.pose_landmarks.landmark:\n",
    "    test = np.array([res.x, res.y, res.z, res.visibility])\n",
    "    f.append(test)\n",
    "    \n",
    "f\n",
    "x,y,z = np.array([f[0][0],f[0][1],f[0][2]])\n",
    "x,y,z\n",
    "fig = go.Figure(data=[go.Scatter3d(x=x, y=y, z=z, mode='markers')])\n",
    "fig.show()"
   ]
  },
  {
   "cell_type": "code",
   "execution_count": null,
   "metadata": {},
   "outputs": [],
   "source": [
    "import plotly.graph_objects as go\n",
    "import numpy as np\n",
    "\n",
    "# Helix equation\n",
    "t = np.linspace(0, 10, 50)\n",
    "x, y, z = np.cos(t), np.sin(t), t\n",
    "\n",
    "x,y,z\n",
    "#fig = go.Figure(data=[go.Scatter3d(x=x, y=y, z=z, mode='markers')])\n",
    "#fig.show()"
   ]
  },
  {
   "cell_type": "markdown",
   "metadata": {},
   "source": [
    "# 4. Setup Folders for Collection"
   ]
  },
  {
   "cell_type": "code",
   "execution_count": 7,
   "metadata": {},
   "outputs": [],
   "source": [
    "# Path for exported data, numpy arrays\n",
    "DATA_PATH = os.path.join('MP_Data') \n",
    "\n",
    "# Actions that we try to detect ,'hellofriend','love','me','name','sick','six','you'\n",
    "#actions = np.array(['feelhot', 'fine','hello'])\n",
    "#actions = np.array(['hellofriend','love','me'])\n",
    "#actions = np.array(['one','two','three','four','five'])\n",
    "#actions = np.array(['six','seven'])\n",
    "#actions = np.array(['eight','nine'])\n",
    "##actions = np.array(['ten','hundred'])\n",
    "actions = np.array(['eight','feelhot','fine','five','four','hello','hellofriend','love','me','nine','one','seven','six','three','two'])\n",
    "\n",
    "\n",
    "# Fiftheen videos worth of data\n",
    "no_sequences = 60\n",
    "\n",
    "# Videos are going to be 30 frames in length\n",
    "sequence_length = 30\n"
   ]
  },
  {
   "cell_type": "markdown",
   "metadata": {},
   "source": [
    "### สร้าง Directory แบบที่หนึ่ง"
   ]
  },
  {
   "cell_type": "code",
   "execution_count": null,
   "metadata": {},
   "outputs": [],
   "source": [
    "for action in actions: \n",
    "    for sequence in range(no_sequences):\n",
    "        try: \n",
    "            os.makedirs(os.path.join(DATA_PATH, action, str(sequence)))\n",
    "        except:\n",
    "            pass"
   ]
  },
  {
   "cell_type": "markdown",
   "metadata": {},
   "source": [
    "### สร้าง Directory แบบที่สอง"
   ]
  },
  {
   "cell_type": "code",
   "execution_count": null,
   "metadata": {},
   "outputs": [],
   "source": [
    "for action in actions: \n",
    "    dirmax = np.max(np.array(os.listdir(os.path.join(DATA_PATH, action))).astype(int))\n",
    "    for sequence in range(1,no_sequences+1):\n",
    "        try: \n",
    "            os.makedirs(os.path.join(DATA_PATH, action, str(dirmax+sequence)))\n",
    "        except:\n",
    "            pass"
   ]
  },
  {
   "cell_type": "markdown",
   "metadata": {},
   "source": [
    "# 5. Collect Keypoint Values for Training and Testing"
   ]
  },
  {
   "cell_type": "code",
   "execution_count": null,
   "metadata": {},
   "outputs": [],
   "source": [
    "cap = cv2.VideoCapture(0)\n",
    "# Set mediapipe model \n",
    "with mp_holistic.Holistic(min_detection_confidence=0.5, min_tracking_confidence=0.5) as holistic:\n",
    "    \n",
    "    # NEW LOOP\n",
    "    # Loop through actions\n",
    "    for action in actions:\n",
    "        # Loop through sequences aka videos\n",
    "        for sequence in range(no_sequences):\n",
    "            # Loop through video length aka sequence length\n",
    "            for frame_num in range(sequence_length):\n",
    "\n",
    "                # Read feed\n",
    "                ret, frame = cap.read()\n",
    "\n",
    "                # Make detections\n",
    "                image, results = mediapipe_detection(frame, holistic)\n",
    "\n",
    "                # Draw landmarks\n",
    "                draw_styled_landmarks(image, results)\n",
    "                \n",
    "                # NEW Apply wait logic\n",
    "                if frame_num == 0: \n",
    "                    cv2.putText(image, 'STARTING COLLECTION', (120,200), \n",
    "                               cv2.FONT_HERSHEY_SIMPLEX, 1, (0,255, 0), 4, cv2.LINE_AA)\n",
    "                    cv2.putText(image, 'Collecting frames for {} Video Number {}'.format(action, sequence), (15,12), \n",
    "                               cv2.FONT_HERSHEY_SIMPLEX, 0.5, (0, 0, 255), 1, cv2.LINE_AA)\n",
    "                    # Show to screen\n",
    "                    cv2.imshow('OpenCV Feed', image)\n",
    "                    cv2.waitKey(1000)\n",
    "                else: \n",
    "                    cv2.putText(image, 'Collecting frames for {} Video Number {}'.format(action, sequence), (15,12), \n",
    "                               cv2.FONT_HERSHEY_SIMPLEX, 0.5, (0, 0, 255), 1, cv2.LINE_AA)\n",
    "                    # Show to screen\n",
    "                    cv2.imshow('OpenCV Feed', image)\n",
    "                \n",
    "                # NEW Export keypoints\n",
    "                keypoints = extract_keypoints(results)\n",
    "                npy_path = os.path.join(DATA_PATH, action, str(sequence), str(frame_num))\n",
    "                np.save(npy_path, keypoints)\n",
    "\n",
    "                # Break gracefully\n",
    "                if cv2.waitKey(10) & 0xFF == ord('q'):\n",
    "                    break\n",
    "                    \n",
    "    cap.release()\n",
    "    cv2.destroyAllWindows()"
   ]
  },
  {
   "cell_type": "code",
   "execution_count": null,
   "metadata": {},
   "outputs": [],
   "source": [
    "cap.release()\n",
    "cv2.destroyAllWindows()"
   ]
  },
  {
   "cell_type": "markdown",
   "metadata": {},
   "source": [
    "# 6. Preprocess Data and Create Labels and Features"
   ]
  },
  {
   "cell_type": "code",
   "execution_count": 8,
   "metadata": {},
   "outputs": [],
   "source": [
    "from sklearn.model_selection import train_test_split\n",
    "from tensorflow.keras.utils import to_categorical"
   ]
  },
  {
   "cell_type": "code",
   "execution_count": 9,
   "metadata": {},
   "outputs": [],
   "source": [
    "label_map = {label:num for num, label in enumerate(actions)}"
   ]
  },
  {
   "cell_type": "code",
   "execution_count": null,
   "metadata": {},
   "outputs": [],
   "source": [
    "label_map"
   ]
  },
  {
   "cell_type": "markdown",
   "metadata": {},
   "source": [
    "### load landmark point from file .npy"
   ]
  },
  {
   "cell_type": "code",
   "execution_count": 10,
   "metadata": {},
   "outputs": [],
   "source": [
    "sequences, labels = [], []\n",
    "for action in actions:\n",
    "    for sequence in range(no_sequences): \n",
    "        window = []\n",
    "        for frame_num in range(sequence_length):\n",
    "            res = np.load(os.path.join(DATA_PATH, action, str(sequence), \"{}.npy\".format(frame_num)))\n",
    "            window.append(res)\n",
    "        sequences.append(window)\n",
    "        labels.append(label_map[action])"
   ]
  },
  {
   "cell_type": "code",
   "execution_count": null,
   "metadata": {},
   "outputs": [],
   "source": [
    "np.array(os.listdir(os.path.join(DATA_PATH, action))).astype(int)"
   ]
  },
  {
   "cell_type": "code",
   "execution_count": null,
   "metadata": {},
   "outputs": [],
   "source": [
    "np.array(sequences).shape"
   ]
  },
  {
   "cell_type": "code",
   "execution_count": null,
   "metadata": {},
   "outputs": [],
   "source": [
    "15 * 60 * 30"
   ]
  },
  {
   "cell_type": "code",
   "execution_count": null,
   "metadata": {},
   "outputs": [],
   "source": [
    "np.array(labels).shape"
   ]
  },
  {
   "cell_type": "markdown",
   "metadata": {},
   "source": [
    "### สร้างตัวแปรสำหรับเตรียม Train"
   ]
  },
  {
   "cell_type": "code",
   "execution_count": 11,
   "metadata": {},
   "outputs": [],
   "source": [
    "X = np.array(sequences)"
   ]
  },
  {
   "cell_type": "code",
   "execution_count": 12,
   "metadata": {},
   "outputs": [
    {
     "data": {
      "text/plain": [
       "(900, 30, 1662)"
      ]
     },
     "execution_count": 12,
     "metadata": {},
     "output_type": "execute_result"
    }
   ],
   "source": [
    "X.shape"
   ]
  },
  {
   "cell_type": "code",
   "execution_count": null,
   "metadata": {},
   "outputs": [],
   "source": [
    "1662 * 30 * 60 * 15"
   ]
  },
  {
   "cell_type": "code",
   "execution_count": null,
   "metadata": {},
   "outputs": [],
   "source": [
    "180 * 30 * 1662"
   ]
  },
  {
   "cell_type": "markdown",
   "metadata": {},
   "source": [
    "# onehot encoding"
   ]
  },
  {
   "cell_type": "code",
   "execution_count": 13,
   "metadata": {},
   "outputs": [],
   "source": [
    "y = to_categorical(labels).astype(int)"
   ]
  },
  {
   "cell_type": "code",
   "execution_count": 14,
   "metadata": {},
   "outputs": [],
   "source": [
    "X_train, X_test, y_train, y_test = train_test_split(X, y, test_size=0.20)"
   ]
  },
  {
   "cell_type": "code",
   "execution_count": 15,
   "metadata": {},
   "outputs": [
    {
     "data": {
      "text/plain": [
       "(180, 15)"
      ]
     },
     "execution_count": 15,
     "metadata": {},
     "output_type": "execute_result"
    }
   ],
   "source": [
    "y_test.shape"
   ]
  },
  {
   "cell_type": "code",
   "execution_count": 16,
   "metadata": {},
   "outputs": [
    {
     "data": {
      "text/plain": [
       "(720, 30, 1662)"
      ]
     },
     "execution_count": 16,
     "metadata": {},
     "output_type": "execute_result"
    }
   ],
   "source": [
    "X_train.shape"
   ]
  },
  {
   "cell_type": "code",
   "execution_count": 17,
   "metadata": {},
   "outputs": [
    {
     "data": {
      "text/plain": [
       "(720, 15)"
      ]
     },
     "execution_count": 17,
     "metadata": {},
     "output_type": "execute_result"
    }
   ],
   "source": [
    "y_train.shape"
   ]
  },
  {
   "cell_type": "code",
   "execution_count": null,
   "metadata": {},
   "outputs": [],
   "source": [
    "X_test.shape"
   ]
  },
  {
   "cell_type": "markdown",
   "metadata": {},
   "source": [
    "# 7. Build and Train LSTM Neural Network"
   ]
  },
  {
   "cell_type": "code",
   "execution_count": 18,
   "metadata": {},
   "outputs": [],
   "source": [
    "from tensorflow.keras.models import Sequential\n",
    "from tensorflow.keras.layers import LSTM, Dense\n",
    "from tensorflow.keras.callbacks import TensorBoard"
   ]
  },
  {
   "cell_type": "code",
   "execution_count": 19,
   "metadata": {},
   "outputs": [],
   "source": [
    "log_dir = os.path.join('Logs')\n",
    "tb_callback = TensorBoard(log_dir=log_dir)"
   ]
  },
  {
   "cell_type": "code",
   "execution_count": null,
   "metadata": {},
   "outputs": [],
   "source": [
    "model = Sequential()\n",
    "model.add(LSTM(64, return_sequences=True, activation='relu', input_shape=(30,1662)))\n",
    "model.add(LSTM(128, return_sequences=True, activation='relu'))\n",
    "model.add(LSTM(64, return_sequences=False, activation='relu'))\n",
    "model.add(Dense(64, activation='relu'))\n",
    "model.add(Dense(32, activation='relu'))\n",
    "model.add(Dense(actions.shape[0], activation='softmax'))"
   ]
  },
  {
   "cell_type": "code",
   "execution_count": null,
   "metadata": {},
   "outputs": [],
   "source": [
    "model.compile(optimizer='Adam', loss='categorical_crossentropy', metrics=['categorical_accuracy'])"
   ]
  },
  {
   "cell_type": "code",
   "execution_count": null,
   "metadata": {
    "scrolled": true
   },
   "outputs": [],
   "source": [
    "history = model.fit(X_train, y_train, epochs=1000, callbacks=[tb_callback])"
   ]
  },
  {
   "cell_type": "code",
   "execution_count": null,
   "metadata": {},
   "outputs": [],
   "source": [
    "model.summary()"
   ]
  },
  {
   "cell_type": "code",
   "execution_count": null,
   "metadata": {},
   "outputs": [],
   "source": [
    "plt.plot(history.history['categorical_accuracy'])\n",
    "#plt.plot(history.history['loss'])\n",
    "plt.title('model accuracy')\n",
    "plt.ylabel('accuracy')\n",
    "plt.xlabel('epoch')\n",
    "plt.legend(['train', 'validation'], loc='upper right')\n",
    "plt.show()"
   ]
  },
  {
   "cell_type": "code",
   "execution_count": null,
   "metadata": {},
   "outputs": [],
   "source": [
    "plt.plot(history.history['loss'])\n",
    "#plt.plot(history.history['val_loss'])\n",
    "plt.title('model loss')\n",
    "plt.ylabel('loss')\n",
    "plt.xlabel('epoch')\n",
    "plt.legend(['train', 'test'], loc='upper right')\n",
    "plt.show()"
   ]
  },
  {
   "cell_type": "code",
   "execution_count": null,
   "metadata": {},
   "outputs": [],
   "source": [
    "print(history.history.keys())"
   ]
  },
  {
   "cell_type": "markdown",
   "metadata": {},
   "source": [
    "# 8. Make Predictions"
   ]
  },
  {
   "cell_type": "code",
   "execution_count": null,
   "metadata": {},
   "outputs": [],
   "source": [
    "res = model.predict(X_test)"
   ]
  },
  {
   "cell_type": "code",
   "execution_count": null,
   "metadata": {},
   "outputs": [],
   "source": [
    "actions[np.argmax(res[4])]"
   ]
  },
  {
   "cell_type": "code",
   "execution_count": null,
   "metadata": {},
   "outputs": [],
   "source": [
    "actions[np.argmax(y_test[4])]"
   ]
  },
  {
   "cell_type": "markdown",
   "metadata": {},
   "source": [
    "# 9. Save Weights"
   ]
  },
  {
   "cell_type": "code",
   "execution_count": null,
   "metadata": {},
   "outputs": [],
   "source": [
    "model.save('tsl-action-v3.h5')"
   ]
  },
  {
   "cell_type": "code",
   "execution_count": null,
   "metadata": {},
   "outputs": [],
   "source": [
    "del model"
   ]
  },
  {
   "cell_type": "code",
   "execution_count": null,
   "metadata": {},
   "outputs": [],
   "source": [
    "model.load_weights('tsl-action-v2.h5')"
   ]
  },
  {
   "cell_type": "markdown",
   "metadata": {},
   "source": [
    "# 10. Evaluation using Confusion Matrix and Accuracy"
   ]
  },
  {
   "cell_type": "code",
   "execution_count": null,
   "metadata": {},
   "outputs": [],
   "source": [
    "from sklearn.metrics import multilabel_confusion_matrix, accuracy_score"
   ]
  },
  {
   "cell_type": "code",
   "execution_count": null,
   "metadata": {},
   "outputs": [],
   "source": [
    "yhat = model.predict(X_test)"
   ]
  },
  {
   "cell_type": "code",
   "execution_count": null,
   "metadata": {},
   "outputs": [],
   "source": [
    "ytrue = np.argmax(y_test, axis=1).tolist()\n",
    "yhat = np.argmax(yhat, axis=1).tolist()"
   ]
  },
  {
   "cell_type": "code",
   "execution_count": null,
   "metadata": {},
   "outputs": [],
   "source": [
    "multilabel_confusion_matrix(ytrue, yhat)"
   ]
  },
  {
   "cell_type": "code",
   "execution_count": null,
   "metadata": {},
   "outputs": [],
   "source": [
    "accuracy_score(ytrue, yhat)"
   ]
  },
  {
   "cell_type": "markdown",
   "metadata": {},
   "source": [
    "# 11. Test in Real Time"
   ]
  },
  {
   "cell_type": "code",
   "execution_count": null,
   "metadata": {},
   "outputs": [],
   "source": [
    "from scipy import stats"
   ]
  },
  {
   "cell_type": "code",
   "execution_count": null,
   "metadata": {},
   "outputs": [],
   "source": [
    "colors = [(245,117,16), (117,245,16), (16,117,245)]\n",
    "def prob_viz(res, actions, input_frame, colors):\n",
    "    output_frame = input_frame.copy()\n",
    "    for num, prob in enumerate(res):\n",
    "        cv2.rectangle(output_frame, (0,60+num*40), (int(prob*100), 90+num*40), colors[num], -1)\n",
    "        cv2.putText(output_frame, actions[num], (0, 85+num*40), cv2.FONT_HERSHEY_SIMPLEX, 1, (255,255,255), 2, cv2.LINE_AA)\n",
    "        \n",
    "    return output_frame"
   ]
  },
  {
   "cell_type": "code",
   "execution_count": null,
   "metadata": {},
   "outputs": [],
   "source": [
    "plt.figure(figsize=(18,18))\n",
    "plt.imshow(prob_viz(res, actions, image, colors))"
   ]
  },
  {
   "cell_type": "markdown",
   "metadata": {},
   "source": [
    "# Build Multiple Model for compare"
   ]
  },
  {
   "cell_type": "code",
   "execution_count": 20,
   "metadata": {},
   "outputs": [],
   "source": [
    "def build_model_lstm(label):\n",
    "    model = tf.keras.models.Sequential()\n",
    "    model.add(tf.keras.layers.LSTM(128, return_sequences=True,\n",
    "                   input_shape=(X_train.shape[1], X_train.shape[2]))) \n",
    "    model.add(tf.keras.layers.LSTM(192, return_sequences=True))\n",
    "    model.add(tf.keras.layers.LSTM(64, return_sequences=True))\n",
    "    model.add(tf.keras.layers.Dropout(0.2))\n",
    "    model.add(tf.keras.layers.LSTM(128))\n",
    "    model.add(tf.keras.layers.Dense(label, activation='softmax'))\n",
    "    model.compile(\n",
    "        loss=tf.keras.losses.categorical_crossentropy,\n",
    "        #loss=tf.keras.losses.binary_crossentropy,\n",
    "        optimizer=tf.keras.optimizers.Adamax(),\n",
    "        metrics=['accuracy'])\n",
    "    return model"
   ]
  },
  {
   "cell_type": "code",
   "execution_count": 21,
   "metadata": {},
   "outputs": [],
   "source": [
    "def build_model_bdlstm(label):\n",
    "    model = tf.keras.models.Sequential()\n",
    "    model.add(tf.keras.layers.Bidirectional(tf.keras.layers.LSTM(128, return_sequences=True),\n",
    "                   input_shape=(X_train.shape[1], X_train.shape[2])))\n",
    "    \n",
    "    model.add(tf.keras.layers.Bidirectional(tf.keras.layers.LSTM(128, return_sequences=True)))\n",
    "    model.add(tf.keras.layers.Bidirectional(tf.keras.layers.LSTM(128, return_sequences=True)))\n",
    "    #model.add(tf.keras.layers.Bidirectional(tf.keras.layers.LSTM(64, return_sequences=True)))\n",
    "    model.add(tf.keras.layers.Bidirectional(tf.keras.layers.LSTM(64)))\n",
    "    model.add(tf.keras.layers.Dense(label, activation='softmax'))\n",
    "    model.compile(\n",
    "        loss=tf.keras.losses.categorical_crossentropy,\n",
    "        #loss=tf.keras.losses.binary_crossentropy,\n",
    "        optimizer=tf.keras.optimizers.RMSprop(),\n",
    "        metrics=['accuracy'])\n",
    "    return model"
   ]
  },
  {
   "cell_type": "code",
   "execution_count": 22,
   "metadata": {},
   "outputs": [],
   "source": [
    "def build_model_gru(label):\n",
    "    model = tf.keras.models.Sequential()\n",
    "    model.add(tf.keras.layers.GRU(192, return_sequences=True,\n",
    "                   input_shape=(X_train.shape[1], X_train.shape[2]))) \n",
    "    model.add(tf.keras.layers.GRU(192, return_sequences=True))\n",
    "    model.add(tf.keras.layers.Dropout(0.2))\n",
    "    model.add(tf.keras.layers.GRU(32))\n",
    "    model.add(tf.keras.layers.Dense(label, activation='softmax'))\n",
    "    model.compile(\n",
    "        loss=tf.keras.losses.categorical_crossentropy,\n",
    "        #loss=tf.keras.losses.binary_crossentropy,\n",
    "        optimizer=tf.keras.optimizers.Adamax(),\n",
    "        metrics=['accuracy'])\n",
    "    return model"
   ]
  },
  {
   "cell_type": "code",
   "execution_count": 23,
   "metadata": {},
   "outputs": [],
   "source": [
    "import tensorflow as tf\n",
    "\n",
    "model_lstm=build_model_lstm(actions.shape[0])\n",
    "model_bdlstm=build_model_bdlstm(actions.shape[0])\n",
    "model_gru=build_model_gru(actions.shape[0])\n"
   ]
  },
  {
   "cell_type": "markdown",
   "metadata": {},
   "source": [
    "# train lstm model"
   ]
  },
  {
   "cell_type": "markdown",
   "metadata": {},
   "source": [
    "batch size is the number of samples for each iteration that you feed to your model.\n",
    "For example, if you have a dataset that has 10,000 samples and you use a batch-size of 100, then it will take 10,000 / 100 = 100 iterations to reach an epoch.\n",
    "\n",
    "What you see in your log is the number of epochs and the number of iterations.\n",
    "Epoch 160/170 denotes that you are currently running epoch 160 out of a total 170 epochs. Each epoch of yours takes 32 iterations.\n",
    "\n",
    "knowing that your samples are only 3,459, each batch-size would be 3459 / 32 = 108."
   ]
  },
  {
   "cell_type": "code",
   "execution_count": 25,
   "metadata": {},
   "outputs": [
    {
     "name": "stdout",
     "output_type": "stream",
     "text": [
      "Epoch 1/300\n",
      "32/32 [==============================] - 11s 196ms/step - loss: 2.7377 - accuracy: 0.0861 - val_loss: 2.7074 - val_accuracy: 0.0553\n",
      "Epoch 2/300\n",
      "32/32 [==============================] - 4s 118ms/step - loss: 2.6092 - accuracy: 0.0991 - val_loss: 2.2369 - val_accuracy: 0.1336\n",
      "Epoch 3/300\n",
      "32/32 [==============================] - 3s 87ms/step - loss: 2.3025 - accuracy: 0.1266 - val_loss: 2.1699 - val_accuracy: 0.2581\n",
      "Epoch 4/300\n",
      "32/32 [==============================] - 3s 89ms/step - loss: 2.1528 - accuracy: 0.1881 - val_loss: 2.0303 - val_accuracy: 0.1751\n",
      "Epoch 5/300\n",
      "32/32 [==============================] - 3s 96ms/step - loss: 1.9717 - accuracy: 0.2523 - val_loss: 2.2353 - val_accuracy: 0.2258\n",
      "Epoch 6/300\n",
      "32/32 [==============================] - 3s 96ms/step - loss: 2.1161 - accuracy: 0.2235 - val_loss: 1.7986 - val_accuracy: 0.3226\n",
      "Epoch 7/300\n",
      "32/32 [==============================] - 3s 88ms/step - loss: 1.8099 - accuracy: 0.3384 - val_loss: 1.7538 - val_accuracy: 0.3410\n",
      "Epoch 8/300\n",
      "32/32 [==============================] - 3s 93ms/step - loss: 1.8292 - accuracy: 0.2668 - val_loss: 1.6307 - val_accuracy: 0.3641\n",
      "Epoch 9/300\n",
      "32/32 [==============================] - 3s 94ms/step - loss: 1.6051 - accuracy: 0.4021 - val_loss: 1.7411 - val_accuracy: 0.2627\n",
      "Epoch 10/300\n",
      "32/32 [==============================] - 3s 98ms/step - loss: 1.6459 - accuracy: 0.3714 - val_loss: 1.7908 - val_accuracy: 0.2995\n",
      "Epoch 11/300\n",
      "32/32 [==============================] - 3s 98ms/step - loss: 1.5874 - accuracy: 0.3775 - val_loss: 1.8314 - val_accuracy: 0.3041\n",
      "Epoch 12/300\n",
      "32/32 [==============================] - 3s 93ms/step - loss: 1.7198 - accuracy: 0.3876 - val_loss: 1.7099 - val_accuracy: 0.3272\n",
      "Epoch 13/300\n",
      "32/32 [==============================] - 4s 113ms/step - loss: 1.6270 - accuracy: 0.3582 - val_loss: 1.9921 - val_accuracy: 0.2765\n",
      "Epoch 14/300\n",
      "32/32 [==============================] - 3s 90ms/step - loss: 1.7432 - accuracy: 0.3693 - val_loss: 1.4624 - val_accuracy: 0.4977\n",
      "Epoch 15/300\n",
      "32/32 [==============================] - 3s 92ms/step - loss: 1.5119 - accuracy: 0.4090 - val_loss: 1.4345 - val_accuracy: 0.5115\n",
      "Epoch 16/300\n",
      "32/32 [==============================] - 3s 94ms/step - loss: 1.3566 - accuracy: 0.4993 - val_loss: 1.4613 - val_accuracy: 0.4793\n",
      "Epoch 17/300\n",
      "32/32 [==============================] - 3s 88ms/step - loss: 1.3949 - accuracy: 0.4803 - val_loss: 1.4751 - val_accuracy: 0.4147\n",
      "Epoch 18/300\n",
      "32/32 [==============================] - 3s 90ms/step - loss: 1.3031 - accuracy: 0.5403 - val_loss: 1.4545 - val_accuracy: 0.4562\n",
      "Epoch 19/300\n",
      "32/32 [==============================] - 3s 89ms/step - loss: 1.3742 - accuracy: 0.4580 - val_loss: 1.4973 - val_accuracy: 0.4286\n",
      "Epoch 20/300\n",
      "32/32 [==============================] - 3s 89ms/step - loss: 1.3725 - accuracy: 0.4833 - val_loss: 1.7570 - val_accuracy: 0.3456\n",
      "Epoch 21/300\n",
      "32/32 [==============================] - 3s 94ms/step - loss: 1.4812 - accuracy: 0.4098 - val_loss: 1.5545 - val_accuracy: 0.4747\n",
      "Epoch 22/300\n",
      "32/32 [==============================] - 3s 90ms/step - loss: 1.3017 - accuracy: 0.5256 - val_loss: 1.3253 - val_accuracy: 0.5161\n",
      "Epoch 23/300\n",
      "32/32 [==============================] - 3s 96ms/step - loss: 1.3511 - accuracy: 0.4836 - val_loss: 1.4732 - val_accuracy: 0.4286\n",
      "Epoch 24/300\n",
      "32/32 [==============================] - 3s 101ms/step - loss: 1.2511 - accuracy: 0.5247 - val_loss: 1.2578 - val_accuracy: 0.5576\n",
      "Epoch 25/300\n",
      "32/32 [==============================] - 3s 89ms/step - loss: 1.2511 - accuracy: 0.5461 - val_loss: 1.2552 - val_accuracy: 0.5714\n",
      "Epoch 26/300\n",
      "32/32 [==============================] - 3s 92ms/step - loss: 1.2541 - accuracy: 0.5536 - val_loss: 1.3053 - val_accuracy: 0.5392\n",
      "Epoch 27/300\n",
      "32/32 [==============================] - 3s 93ms/step - loss: 1.2610 - accuracy: 0.5437 - val_loss: 1.2728 - val_accuracy: 0.5392\n",
      "Epoch 28/300\n",
      "32/32 [==============================] - 3s 90ms/step - loss: 1.3455 - accuracy: 0.4929 - val_loss: 1.2454 - val_accuracy: 0.5438\n",
      "Epoch 29/300\n",
      "32/32 [==============================] - 3s 90ms/step - loss: 1.1807 - accuracy: 0.5723 - val_loss: 1.3447 - val_accuracy: 0.5069\n",
      "Epoch 30/300\n",
      "32/32 [==============================] - 3s 94ms/step - loss: 1.2466 - accuracy: 0.5239 - val_loss: 1.4113 - val_accuracy: 0.4608\n",
      "Epoch 31/300\n",
      "32/32 [==============================] - 3s 96ms/step - loss: 1.1964 - accuracy: 0.5782 - val_loss: 1.2967 - val_accuracy: 0.5300\n",
      "Epoch 32/300\n",
      "32/32 [==============================] - 3s 94ms/step - loss: 1.3466 - accuracy: 0.4706 - val_loss: 1.3113 - val_accuracy: 0.5161\n",
      "Epoch 33/300\n",
      "32/32 [==============================] - 3s 91ms/step - loss: 1.2262 - accuracy: 0.5259 - val_loss: 1.3116 - val_accuracy: 0.5115\n",
      "Epoch 34/300\n",
      "32/32 [==============================] - 3s 89ms/step - loss: 1.1782 - accuracy: 0.5486 - val_loss: 1.1653 - val_accuracy: 0.6359\n",
      "Epoch 35/300\n",
      "32/32 [==============================] - 3s 100ms/step - loss: 1.0882 - accuracy: 0.5939 - val_loss: 1.2510 - val_accuracy: 0.4977\n",
      "Epoch 36/300\n",
      "32/32 [==============================] - 3s 101ms/step - loss: 1.0840 - accuracy: 0.6259 - val_loss: 1.3125 - val_accuracy: 0.4977\n",
      "Epoch 37/300\n",
      "32/32 [==============================] - 3s 96ms/step - loss: 1.3229 - accuracy: 0.5161 - val_loss: 1.5247 - val_accuracy: 0.4147\n",
      "Epoch 38/300\n",
      "32/32 [==============================] - 3s 92ms/step - loss: 1.1837 - accuracy: 0.5100 - val_loss: 1.0720 - val_accuracy: 0.6359\n",
      "Epoch 39/300\n",
      "32/32 [==============================] - 3s 91ms/step - loss: 1.0519 - accuracy: 0.6352 - val_loss: 1.0277 - val_accuracy: 0.6728\n",
      "Epoch 40/300\n",
      "32/32 [==============================] - 3s 105ms/step - loss: 0.9858 - accuracy: 0.6408 - val_loss: 1.1992 - val_accuracy: 0.4977\n",
      "Epoch 41/300\n",
      "32/32 [==============================] - 3s 90ms/step - loss: 1.0431 - accuracy: 0.5854 - val_loss: 1.0118 - val_accuracy: 0.6682\n",
      "Epoch 42/300\n",
      "32/32 [==============================] - 3s 92ms/step - loss: 1.0289 - accuracy: 0.6064 - val_loss: 1.1522 - val_accuracy: 0.5853\n",
      "Epoch 43/300\n",
      "32/32 [==============================] - 3s 92ms/step - loss: 1.0462 - accuracy: 0.6013 - val_loss: 1.0029 - val_accuracy: 0.6682\n",
      "Epoch 44/300\n",
      "32/32 [==============================] - 3s 91ms/step - loss: 0.9979 - accuracy: 0.6362 - val_loss: 0.9349 - val_accuracy: 0.6682\n",
      "Epoch 45/300\n",
      "32/32 [==============================] - 3s 109ms/step - loss: 0.8516 - accuracy: 0.6644 - val_loss: 0.9384 - val_accuracy: 0.6820\n",
      "Epoch 46/300\n",
      "32/32 [==============================] - 3s 91ms/step - loss: 0.8216 - accuracy: 0.7049 - val_loss: 0.8631 - val_accuracy: 0.7143\n",
      "Epoch 47/300\n",
      "32/32 [==============================] - 3s 101ms/step - loss: 1.0343 - accuracy: 0.6166 - val_loss: 1.0600 - val_accuracy: 0.5714\n",
      "Epoch 48/300\n",
      "32/32 [==============================] - 4s 110ms/step - loss: 0.8681 - accuracy: 0.6565 - val_loss: 0.9221 - val_accuracy: 0.6774\n",
      "Epoch 49/300\n",
      "32/32 [==============================] - 4s 119ms/step - loss: 0.9282 - accuracy: 0.6377 - val_loss: 1.0122 - val_accuracy: 0.5945\n",
      "Epoch 50/300\n",
      "32/32 [==============================] - 3s 92ms/step - loss: 0.9107 - accuracy: 0.6615 - val_loss: 0.8683 - val_accuracy: 0.7235\n",
      "Epoch 51/300\n",
      "32/32 [==============================] - 3s 95ms/step - loss: 0.7589 - accuracy: 0.7301 - val_loss: 0.8521 - val_accuracy: 0.6866\n",
      "Epoch 52/300\n",
      "32/32 [==============================] - 3s 95ms/step - loss: 0.6912 - accuracy: 0.7646 - val_loss: 1.1104 - val_accuracy: 0.5760\n",
      "Epoch 53/300\n",
      "32/32 [==============================] - 3s 97ms/step - loss: 0.7548 - accuracy: 0.7375 - val_loss: 0.7831 - val_accuracy: 0.7189\n",
      "Epoch 54/300\n",
      "32/32 [==============================] - 3s 95ms/step - loss: 0.8432 - accuracy: 0.6698 - val_loss: 0.9187 - val_accuracy: 0.6636\n",
      "Epoch 55/300\n",
      "32/32 [==============================] - 4s 125ms/step - loss: 0.7011 - accuracy: 0.7675 - val_loss: 0.7967 - val_accuracy: 0.7327\n",
      "Epoch 56/300\n",
      "32/32 [==============================] - 5s 153ms/step - loss: 0.7996 - accuracy: 0.6954 - val_loss: 0.7669 - val_accuracy: 0.7097\n",
      "Epoch 57/300\n",
      "32/32 [==============================] - 5s 154ms/step - loss: 0.7439 - accuracy: 0.7223 - val_loss: 1.1181 - val_accuracy: 0.5530\n",
      "Epoch 58/300\n",
      "32/32 [==============================] - 4s 110ms/step - loss: 0.8353 - accuracy: 0.6627 - val_loss: 0.9089 - val_accuracy: 0.6636\n",
      "Epoch 59/300\n",
      "32/32 [==============================] - 3s 104ms/step - loss: 0.7696 - accuracy: 0.6844 - val_loss: 0.9809 - val_accuracy: 0.6406\n",
      "Epoch 60/300\n",
      "32/32 [==============================] - 3s 103ms/step - loss: 0.7819 - accuracy: 0.7049 - val_loss: 0.7794 - val_accuracy: 0.7512\n",
      "Epoch 61/300\n",
      "32/32 [==============================] - 3s 108ms/step - loss: 0.8568 - accuracy: 0.6701 - val_loss: 0.7988 - val_accuracy: 0.7143\n",
      "Epoch 62/300\n",
      "32/32 [==============================] - 3s 105ms/step - loss: 0.7662 - accuracy: 0.6918 - val_loss: 0.8919 - val_accuracy: 0.6866\n",
      "Epoch 63/300\n",
      "32/32 [==============================] - 3s 102ms/step - loss: 0.7200 - accuracy: 0.7193 - val_loss: 0.7870 - val_accuracy: 0.7097\n",
      "Epoch 64/300\n",
      "32/32 [==============================] - 3s 104ms/step - loss: 0.6993 - accuracy: 0.7179 - val_loss: 0.8650 - val_accuracy: 0.6590\n",
      "Epoch 65/300\n",
      "32/32 [==============================] - 3s 102ms/step - loss: 0.6775 - accuracy: 0.7613 - val_loss: 0.7112 - val_accuracy: 0.7465\n",
      "Epoch 66/300\n",
      "32/32 [==============================] - 3s 107ms/step - loss: 0.6354 - accuracy: 0.7571 - val_loss: 0.6535 - val_accuracy: 0.7696\n",
      "Epoch 67/300\n",
      "32/32 [==============================] - 3s 106ms/step - loss: 0.5244 - accuracy: 0.8070 - val_loss: 0.9718 - val_accuracy: 0.5899\n",
      "Epoch 68/300\n",
      "32/32 [==============================] - 4s 115ms/step - loss: 0.9737 - accuracy: 0.6365 - val_loss: 0.9797 - val_accuracy: 0.6682\n",
      "Epoch 69/300\n",
      "32/32 [==============================] - 3s 104ms/step - loss: 0.6681 - accuracy: 0.7336 - val_loss: 0.6633 - val_accuracy: 0.7972\n",
      "Epoch 70/300\n",
      "32/32 [==============================] - 3s 103ms/step - loss: 0.5493 - accuracy: 0.7856 - val_loss: 0.9356 - val_accuracy: 0.6406\n",
      "Epoch 71/300\n",
      "32/32 [==============================] - 3s 110ms/step - loss: 0.8207 - accuracy: 0.6828 - val_loss: 0.6769 - val_accuracy: 0.8018\n",
      "Epoch 72/300\n",
      "32/32 [==============================] - 3s 105ms/step - loss: 0.6024 - accuracy: 0.7841 - val_loss: 0.6704 - val_accuracy: 0.7419\n",
      "Epoch 73/300\n",
      "32/32 [==============================] - 3s 105ms/step - loss: 0.5464 - accuracy: 0.7866 - val_loss: 0.6272 - val_accuracy: 0.7696\n",
      "Epoch 74/300\n",
      "32/32 [==============================] - 3s 106ms/step - loss: 0.5190 - accuracy: 0.8367 - val_loss: 0.6804 - val_accuracy: 0.7604\n",
      "Epoch 75/300\n",
      "32/32 [==============================] - 3s 107ms/step - loss: 0.5804 - accuracy: 0.7768 - val_loss: 1.0142 - val_accuracy: 0.6175\n",
      "Epoch 76/300\n",
      "32/32 [==============================] - 3s 107ms/step - loss: 0.6961 - accuracy: 0.7314 - val_loss: 0.7127 - val_accuracy: 0.7604\n",
      "Epoch 77/300\n",
      "32/32 [==============================] - 3s 106ms/step - loss: 0.4503 - accuracy: 0.8383 - val_loss: 0.7254 - val_accuracy: 0.7512\n",
      "Epoch 78/300\n",
      "32/32 [==============================] - 3s 106ms/step - loss: 0.4176 - accuracy: 0.8480 - val_loss: 0.7157 - val_accuracy: 0.7419\n",
      "Epoch 79/300\n",
      "32/32 [==============================] - 3s 106ms/step - loss: 0.6262 - accuracy: 0.7509 - val_loss: 0.6595 - val_accuracy: 0.7788\n",
      "Epoch 80/300\n",
      "32/32 [==============================] - 3s 108ms/step - loss: 0.5463 - accuracy: 0.7894 - val_loss: 0.6483 - val_accuracy: 0.7512\n",
      "Epoch 81/300\n",
      "32/32 [==============================] - 3s 107ms/step - loss: 0.5095 - accuracy: 0.7931 - val_loss: 1.1266 - val_accuracy: 0.5853\n",
      "Epoch 82/300\n",
      "32/32 [==============================] - 3s 105ms/step - loss: 0.6371 - accuracy: 0.7548 - val_loss: 0.6266 - val_accuracy: 0.7834\n",
      "Epoch 83/300\n",
      "32/32 [==============================] - 3s 105ms/step - loss: 0.4915 - accuracy: 0.8108 - val_loss: 0.7806 - val_accuracy: 0.6912\n",
      "Epoch 84/300\n",
      "32/32 [==============================] - 3s 104ms/step - loss: 0.7149 - accuracy: 0.7102 - val_loss: 0.8726 - val_accuracy: 0.6682\n",
      "Epoch 85/300\n",
      "32/32 [==============================] - 3s 109ms/step - loss: 0.5397 - accuracy: 0.8091 - val_loss: 1.2894 - val_accuracy: 0.6267\n",
      "Epoch 86/300\n",
      "32/32 [==============================] - 3s 106ms/step - loss: 0.6985 - accuracy: 0.7633 - val_loss: 0.6425 - val_accuracy: 0.7880\n",
      "Epoch 87/300\n",
      "32/32 [==============================] - 3s 106ms/step - loss: 0.5489 - accuracy: 0.7979 - val_loss: 0.6170 - val_accuracy: 0.7742\n",
      "Epoch 88/300\n",
      "32/32 [==============================] - 3s 106ms/step - loss: 0.5355 - accuracy: 0.7627 - val_loss: 0.8126 - val_accuracy: 0.7005\n",
      "Epoch 89/300\n",
      "32/32 [==============================] - 3s 106ms/step - loss: 0.5082 - accuracy: 0.8011 - val_loss: 0.6699 - val_accuracy: 0.7465\n",
      "Epoch 90/300\n",
      "32/32 [==============================] - 4s 111ms/step - loss: 0.5414 - accuracy: 0.7843 - val_loss: 0.6268 - val_accuracy: 0.7742\n",
      "Epoch 91/300\n",
      "32/32 [==============================] - 3s 105ms/step - loss: 0.4709 - accuracy: 0.8164 - val_loss: 0.5942 - val_accuracy: 0.7972\n",
      "Epoch 92/300\n",
      "32/32 [==============================] - 3s 105ms/step - loss: 0.3702 - accuracy: 0.8817 - val_loss: 0.6336 - val_accuracy: 0.7650\n",
      "Epoch 93/300\n",
      "32/32 [==============================] - 3s 105ms/step - loss: 0.4408 - accuracy: 0.8196 - val_loss: 0.7683 - val_accuracy: 0.7143\n",
      "Epoch 94/300\n",
      "32/32 [==============================] - 3s 109ms/step - loss: 0.6267 - accuracy: 0.7364 - val_loss: 0.6259 - val_accuracy: 0.7742\n",
      "Epoch 95/300\n",
      "32/32 [==============================] - 3s 108ms/step - loss: 0.4002 - accuracy: 0.8294 - val_loss: 0.6108 - val_accuracy: 0.7788\n",
      "Epoch 96/300\n",
      "32/32 [==============================] - 3s 107ms/step - loss: 0.4431 - accuracy: 0.8312 - val_loss: 0.8965 - val_accuracy: 0.7143\n",
      "Epoch 97/300\n",
      "32/32 [==============================] - 4s 110ms/step - loss: 0.5890 - accuracy: 0.7489 - val_loss: 0.7675 - val_accuracy: 0.7419\n",
      "Epoch 98/300\n",
      "32/32 [==============================] - 3s 109ms/step - loss: 0.6124 - accuracy: 0.7622 - val_loss: 0.5609 - val_accuracy: 0.7972\n",
      "Epoch 99/300\n",
      "32/32 [==============================] - 4s 110ms/step - loss: 0.3962 - accuracy: 0.8379 - val_loss: 0.6512 - val_accuracy: 0.7788\n",
      "Epoch 100/300\n",
      "32/32 [==============================] - 3s 107ms/step - loss: 0.6271 - accuracy: 0.7190 - val_loss: 0.8144 - val_accuracy: 0.7235\n",
      "Epoch 101/300\n",
      "32/32 [==============================] - 3s 107ms/step - loss: 0.5697 - accuracy: 0.7465 - val_loss: 0.6779 - val_accuracy: 0.7788\n",
      "Epoch 102/300\n",
      "32/32 [==============================] - 3s 108ms/step - loss: 0.5272 - accuracy: 0.7960 - val_loss: 0.6726 - val_accuracy: 0.7696\n",
      "Epoch 103/300\n",
      "32/32 [==============================] - 3s 105ms/step - loss: 0.3752 - accuracy: 0.8512 - val_loss: 0.7566 - val_accuracy: 0.7604\n",
      "Epoch 104/300\n",
      "32/32 [==============================] - 4s 112ms/step - loss: 0.3843 - accuracy: 0.8716 - val_loss: 0.5749 - val_accuracy: 0.8111\n",
      "Epoch 105/300\n",
      "32/32 [==============================] - 3s 108ms/step - loss: 0.4442 - accuracy: 0.8305 - val_loss: 0.6233 - val_accuracy: 0.7696\n",
      "Epoch 106/300\n",
      "32/32 [==============================] - 3s 110ms/step - loss: 0.3906 - accuracy: 0.8607 - val_loss: 0.7471 - val_accuracy: 0.7419\n",
      "Epoch 107/300\n",
      "32/32 [==============================] - 4s 113ms/step - loss: 0.5785 - accuracy: 0.7878 - val_loss: 0.6698 - val_accuracy: 0.7558\n",
      "Epoch 108/300\n",
      "32/32 [==============================] - 4s 114ms/step - loss: 0.4523 - accuracy: 0.8109 - val_loss: 0.5713 - val_accuracy: 0.7926\n",
      "Epoch 109/300\n",
      "32/32 [==============================] - 3s 109ms/step - loss: 0.4428 - accuracy: 0.7885 - val_loss: 0.9022 - val_accuracy: 0.6774\n",
      "Epoch 110/300\n",
      "32/32 [==============================] - 3s 109ms/step - loss: 0.3968 - accuracy: 0.8329 - val_loss: 0.5661 - val_accuracy: 0.8157\n",
      "Epoch 111/300\n",
      "32/32 [==============================] - 4s 111ms/step - loss: 0.3215 - accuracy: 0.8622 - val_loss: 0.5495 - val_accuracy: 0.8249\n",
      "Epoch 112/300\n",
      "32/32 [==============================] - 4s 112ms/step - loss: 0.3798 - accuracy: 0.8439 - val_loss: 0.7744 - val_accuracy: 0.7373\n",
      "Epoch 113/300\n",
      "32/32 [==============================] - 4s 116ms/step - loss: 0.4888 - accuracy: 0.8271 - val_loss: 0.6345 - val_accuracy: 0.7834\n",
      "Epoch 114/300\n",
      "32/32 [==============================] - 4s 113ms/step - loss: 0.3984 - accuracy: 0.8340 - val_loss: 0.5831 - val_accuracy: 0.7788\n"
     ]
    },
    {
     "name": "stdout",
     "output_type": "stream",
     "text": [
      "Epoch 115/300\n",
      "32/32 [==============================] - 3s 106ms/step - loss: 0.3707 - accuracy: 0.8562 - val_loss: 0.6584 - val_accuracy: 0.7742\n",
      "Epoch 116/300\n",
      "32/32 [==============================] - 3s 106ms/step - loss: 0.4926 - accuracy: 0.7983 - val_loss: 0.6515 - val_accuracy: 0.7558\n",
      "Epoch 117/300\n",
      "32/32 [==============================] - 4s 111ms/step - loss: 0.3684 - accuracy: 0.8388 - val_loss: 0.8898 - val_accuracy: 0.6590\n",
      "Epoch 118/300\n",
      "32/32 [==============================] - 4s 110ms/step - loss: 0.4770 - accuracy: 0.8046 - val_loss: 0.5631 - val_accuracy: 0.8203\n",
      "Epoch 119/300\n",
      "32/32 [==============================] - 3s 109ms/step - loss: 0.3162 - accuracy: 0.8940 - val_loss: 0.5070 - val_accuracy: 0.8111\n",
      "Epoch 120/300\n",
      "32/32 [==============================] - 4s 112ms/step - loss: 0.3714 - accuracy: 0.8430 - val_loss: 0.4863 - val_accuracy: 0.8341\n",
      "Epoch 121/300\n",
      "32/32 [==============================] - 3s 110ms/step - loss: 0.3244 - accuracy: 0.8764 - val_loss: 0.5404 - val_accuracy: 0.8203\n",
      "Epoch 122/300\n",
      "32/32 [==============================] - 4s 114ms/step - loss: 0.3173 - accuracy: 0.8726 - val_loss: 0.5881 - val_accuracy: 0.7788\n",
      "Epoch 123/300\n",
      "32/32 [==============================] - 3s 107ms/step - loss: 0.3462 - accuracy: 0.8560 - val_loss: 0.5992 - val_accuracy: 0.8065\n",
      "Epoch 124/300\n",
      "32/32 [==============================] - 3s 106ms/step - loss: 0.4193 - accuracy: 0.8355 - val_loss: 0.6455 - val_accuracy: 0.7926\n",
      "Epoch 125/300\n",
      "32/32 [==============================] - 3s 109ms/step - loss: 0.5915 - accuracy: 0.7254 - val_loss: 0.6585 - val_accuracy: 0.7512\n",
      "Epoch 126/300\n",
      "32/32 [==============================] - 4s 110ms/step - loss: 0.3926 - accuracy: 0.8376 - val_loss: 0.5727 - val_accuracy: 0.8111\n",
      "Epoch 127/300\n",
      "32/32 [==============================] - 3s 109ms/step - loss: 0.3208 - accuracy: 0.8769 - val_loss: 0.5542 - val_accuracy: 0.8157\n",
      "Epoch 128/300\n",
      "32/32 [==============================] - 3s 109ms/step - loss: 0.3066 - accuracy: 0.8776 - val_loss: 1.0746 - val_accuracy: 0.6313\n",
      "Epoch 129/300\n",
      "32/32 [==============================] - 3s 108ms/step - loss: 0.6412 - accuracy: 0.7204 - val_loss: 0.8573 - val_accuracy: 0.6912\n",
      "Epoch 130/300\n",
      "32/32 [==============================] - 4s 111ms/step - loss: 0.4162 - accuracy: 0.8479 - val_loss: 0.6017 - val_accuracy: 0.7696\n",
      "Epoch 131/300\n",
      "32/32 [==============================] - 4s 112ms/step - loss: 0.2817 - accuracy: 0.8851 - val_loss: 0.5245 - val_accuracy: 0.8295\n",
      "Epoch 132/300\n",
      "32/32 [==============================] - 3s 109ms/step - loss: 0.2650 - accuracy: 0.9082 - val_loss: 0.5756 - val_accuracy: 0.8065\n",
      "Epoch 133/300\n",
      "32/32 [==============================] - 3s 109ms/step - loss: 0.4114 - accuracy: 0.8388 - val_loss: 0.5841 - val_accuracy: 0.8065\n",
      "Epoch 134/300\n",
      "32/32 [==============================] - 3s 108ms/step - loss: 0.3969 - accuracy: 0.8192 - val_loss: 0.6511 - val_accuracy: 0.7465\n",
      "Epoch 135/300\n",
      "32/32 [==============================] - 3s 109ms/step - loss: 0.3563 - accuracy: 0.8431 - val_loss: 1.1297 - val_accuracy: 0.5806\n",
      "Epoch 136/300\n",
      "32/32 [==============================] - 4s 112ms/step - loss: 0.8126 - accuracy: 0.6875 - val_loss: 1.3004 - val_accuracy: 0.6129\n",
      "Epoch 137/300\n",
      "32/32 [==============================] - 3s 108ms/step - loss: 0.7899 - accuracy: 0.7155 - val_loss: 0.6014 - val_accuracy: 0.8065\n",
      "Epoch 138/300\n",
      "32/32 [==============================] - 3s 108ms/step - loss: 0.2854 - accuracy: 0.8959 - val_loss: 0.6205 - val_accuracy: 0.7834\n",
      "Epoch 139/300\n",
      "32/32 [==============================] - 3s 109ms/step - loss: 0.2654 - accuracy: 0.9022 - val_loss: 0.5086 - val_accuracy: 0.8479\n",
      "Epoch 140/300\n",
      "32/32 [==============================] - 4s 114ms/step - loss: 0.2580 - accuracy: 0.9123 - val_loss: 0.4780 - val_accuracy: 0.8387\n",
      "Epoch 141/300\n",
      "32/32 [==============================] - 3s 109ms/step - loss: 0.2598 - accuracy: 0.9107 - val_loss: 0.4660 - val_accuracy: 0.8433\n",
      "Epoch 142/300\n",
      "32/32 [==============================] - 4s 110ms/step - loss: 0.4054 - accuracy: 0.8279 - val_loss: 0.5334 - val_accuracy: 0.7972\n",
      "Epoch 143/300\n",
      "32/32 [==============================] - 4s 113ms/step - loss: 0.2708 - accuracy: 0.9068 - val_loss: 0.7232 - val_accuracy: 0.7327\n",
      "Epoch 144/300\n",
      "32/32 [==============================] - 4s 114ms/step - loss: 0.3621 - accuracy: 0.8690 - val_loss: 0.8003 - val_accuracy: 0.7051\n",
      "Epoch 145/300\n",
      "32/32 [==============================] - 4s 115ms/step - loss: 0.4493 - accuracy: 0.8397 - val_loss: 0.5635 - val_accuracy: 0.8018\n",
      "Epoch 146/300\n",
      "32/32 [==============================] - 3s 107ms/step - loss: 0.4047 - accuracy: 0.8487 - val_loss: 0.5174 - val_accuracy: 0.8203\n",
      "Epoch 147/300\n",
      "32/32 [==============================] - 3s 110ms/step - loss: 0.3016 - accuracy: 0.8696 - val_loss: 0.4673 - val_accuracy: 0.8525\n",
      "Epoch 148/300\n",
      "32/32 [==============================] - 4s 112ms/step - loss: 0.2809 - accuracy: 0.8856 - val_loss: 0.5868 - val_accuracy: 0.7926\n",
      "Epoch 149/300\n",
      "32/32 [==============================] - 4s 113ms/step - loss: 0.2598 - accuracy: 0.8882 - val_loss: 0.5006 - val_accuracy: 0.8479\n",
      "Epoch 150/300\n",
      "32/32 [==============================] - 3s 109ms/step - loss: 0.2123 - accuracy: 0.9285 - val_loss: 0.5760 - val_accuracy: 0.7742\n",
      "Epoch 151/300\n",
      "32/32 [==============================] - 3s 108ms/step - loss: 0.2457 - accuracy: 0.9128 - val_loss: 0.6140 - val_accuracy: 0.7604\n",
      "Epoch 152/300\n",
      "32/32 [==============================] - 4s 111ms/step - loss: 0.2369 - accuracy: 0.9196 - val_loss: 0.5619 - val_accuracy: 0.7788\n",
      "Epoch 153/300\n",
      "32/32 [==============================] - 3s 109ms/step - loss: 0.2577 - accuracy: 0.8926 - val_loss: 0.4709 - val_accuracy: 0.8433\n",
      "Epoch 154/300\n",
      "32/32 [==============================] - 4s 115ms/step - loss: 0.2041 - accuracy: 0.9359 - val_loss: 0.4811 - val_accuracy: 0.8341\n",
      "Epoch 155/300\n",
      "32/32 [==============================] - 3s 108ms/step - loss: 0.2178 - accuracy: 0.9231 - val_loss: 0.9893 - val_accuracy: 0.6498\n",
      "Epoch 156/300\n",
      "32/32 [==============================] - 4s 111ms/step - loss: 0.5883 - accuracy: 0.7899 - val_loss: 0.8782 - val_accuracy: 0.7051\n",
      "Epoch 157/300\n",
      "32/32 [==============================] - 3s 107ms/step - loss: 0.5276 - accuracy: 0.7795 - val_loss: 0.6120 - val_accuracy: 0.7419\n",
      "Epoch 158/300\n",
      "32/32 [==============================] - 4s 114ms/step - loss: 0.4094 - accuracy: 0.8363 - val_loss: 0.7833 - val_accuracy: 0.7097\n",
      "Epoch 159/300\n",
      "32/32 [==============================] - 3s 109ms/step - loss: 0.3967 - accuracy: 0.8454 - val_loss: 0.4252 - val_accuracy: 0.8571\n",
      "Epoch 160/300\n",
      "32/32 [==============================] - 4s 117ms/step - loss: 0.2679 - accuracy: 0.8878 - val_loss: 0.4985 - val_accuracy: 0.8295\n",
      "Epoch 161/300\n",
      "32/32 [==============================] - 4s 113ms/step - loss: 0.4162 - accuracy: 0.8225 - val_loss: 0.5110 - val_accuracy: 0.8295\n",
      "Epoch 162/300\n",
      "32/32 [==============================] - 4s 111ms/step - loss: 0.2869 - accuracy: 0.8648 - val_loss: 0.4727 - val_accuracy: 0.8341\n",
      "Epoch 163/300\n",
      "32/32 [==============================] - 4s 120ms/step - loss: 0.2207 - accuracy: 0.9282 - val_loss: 0.5047 - val_accuracy: 0.8525\n",
      "Epoch 164/300\n",
      "32/32 [==============================] - 4s 115ms/step - loss: 0.2580 - accuracy: 0.8775 - val_loss: 0.4846 - val_accuracy: 0.8571\n",
      "Epoch 165/300\n",
      "32/32 [==============================] - 4s 119ms/step - loss: 0.3198 - accuracy: 0.8670 - val_loss: 0.4702 - val_accuracy: 0.8525\n",
      "Epoch 166/300\n",
      "32/32 [==============================] - 4s 119ms/step - loss: 0.1697 - accuracy: 0.9548 - val_loss: 0.4731 - val_accuracy: 0.8479\n",
      "Epoch 167/300\n",
      "32/32 [==============================] - 4s 127ms/step - loss: 0.3118 - accuracy: 0.8587 - val_loss: 0.5297 - val_accuracy: 0.8387\n",
      "Epoch 168/300\n",
      "32/32 [==============================] - 4s 121ms/step - loss: 0.2703 - accuracy: 0.8932 - val_loss: 0.4503 - val_accuracy: 0.8571\n",
      "Epoch 169/300\n",
      "32/32 [==============================] - 4s 120ms/step - loss: 0.2564 - accuracy: 0.9264 - val_loss: 0.5994 - val_accuracy: 0.7880\n",
      "Epoch 170/300\n",
      "32/32 [==============================] - 4s 125ms/step - loss: 0.4236 - accuracy: 0.8232 - val_loss: 0.5585 - val_accuracy: 0.8111\n",
      "Epoch 171/300\n",
      "32/32 [==============================] - 4s 138ms/step - loss: 0.2465 - accuracy: 0.9119 - val_loss: 0.6911 - val_accuracy: 0.8018\n",
      "Epoch 172/300\n",
      "32/32 [==============================] - 4s 128ms/step - loss: 0.2633 - accuracy: 0.8947 - val_loss: 0.4337 - val_accuracy: 0.8479\n",
      "Epoch 173/300\n",
      "32/32 [==============================] - 4s 129ms/step - loss: 0.2306 - accuracy: 0.9225 - val_loss: 0.5315 - val_accuracy: 0.8157\n",
      "Epoch 174/300\n",
      "32/32 [==============================] - 4s 130ms/step - loss: 0.2470 - accuracy: 0.8920 - val_loss: 0.5237 - val_accuracy: 0.8249\n",
      "Epoch 175/300\n",
      "32/32 [==============================] - 4s 136ms/step - loss: 0.1793 - accuracy: 0.9556 - val_loss: 0.4709 - val_accuracy: 0.8618\n",
      "Epoch 176/300\n",
      "32/32 [==============================] - 4s 129ms/step - loss: 0.1707 - accuracy: 0.9570 - val_loss: 0.4417 - val_accuracy: 0.8618\n",
      "Epoch 177/300\n",
      "32/32 [==============================] - 4s 132ms/step - loss: 0.1373 - accuracy: 0.9586 - val_loss: 0.4374 - val_accuracy: 0.8664\n",
      "Epoch 178/300\n",
      "32/32 [==============================] - 4s 136ms/step - loss: 0.4699 - accuracy: 0.8319 - val_loss: 0.7489 - val_accuracy: 0.7419\n",
      "Epoch 179/300\n",
      "32/32 [==============================] - 4s 141ms/step - loss: 0.4085 - accuracy: 0.8191 - val_loss: 0.8093 - val_accuracy: 0.7051\n",
      "Epoch 180/300\n",
      "32/32 [==============================] - 4s 136ms/step - loss: 0.4366 - accuracy: 0.8242 - val_loss: 0.8220 - val_accuracy: 0.7051\n",
      "Epoch 181/300\n",
      "32/32 [==============================] - 4s 127ms/step - loss: 0.3034 - accuracy: 0.8924 - val_loss: 0.5912 - val_accuracy: 0.7834\n",
      "Epoch 182/300\n",
      "32/32 [==============================] - 4s 120ms/step - loss: 0.3100 - accuracy: 0.8832 - val_loss: 0.7077 - val_accuracy: 0.7650\n",
      "Epoch 183/300\n",
      "32/32 [==============================] - 4s 121ms/step - loss: 0.2262 - accuracy: 0.9015 - val_loss: 0.5093 - val_accuracy: 0.8295\n",
      "Epoch 184/300\n",
      "32/32 [==============================] - 4s 122ms/step - loss: 0.1526 - accuracy: 0.9640 - val_loss: 0.8610 - val_accuracy: 0.6682\n",
      "Epoch 185/300\n",
      "32/32 [==============================] - 4s 119ms/step - loss: 0.4773 - accuracy: 0.7988 - val_loss: 0.5808 - val_accuracy: 0.8111\n",
      "Epoch 186/300\n",
      "32/32 [==============================] - 4s 119ms/step - loss: 0.2765 - accuracy: 0.8784 - val_loss: 0.5477 - val_accuracy: 0.8018\n",
      "Epoch 187/300\n",
      "32/32 [==============================] - 4s 123ms/step - loss: 0.2046 - accuracy: 0.9272 - val_loss: 0.4657 - val_accuracy: 0.8525\n",
      "Epoch 188/300\n",
      "32/32 [==============================] - 4s 124ms/step - loss: 0.1707 - accuracy: 0.9349 - val_loss: 0.5014 - val_accuracy: 0.8387\n",
      "Epoch 189/300\n",
      "32/32 [==============================] - 4s 120ms/step - loss: 0.1832 - accuracy: 0.9361 - val_loss: 0.4752 - val_accuracy: 0.8433\n",
      "Epoch 190/300\n",
      "32/32 [==============================] - 4s 120ms/step - loss: 0.1626 - accuracy: 0.9506 - val_loss: 0.4816 - val_accuracy: 0.8433\n",
      "Epoch 191/300\n",
      "32/32 [==============================] - 4s 128ms/step - loss: 0.1559 - accuracy: 0.9457 - val_loss: 0.5486 - val_accuracy: 0.8249\n",
      "Epoch 192/300\n",
      "32/32 [==============================] - 4s 120ms/step - loss: 0.3461 - accuracy: 0.8610 - val_loss: 0.6087 - val_accuracy: 0.7972\n",
      "Epoch 193/300\n",
      "32/32 [==============================] - 4s 117ms/step - loss: 0.2199 - accuracy: 0.9205 - val_loss: 0.9288 - val_accuracy: 0.6774\n",
      "Epoch 194/300\n",
      "32/32 [==============================] - 4s 120ms/step - loss: 0.3754 - accuracy: 0.8454 - val_loss: 0.5886 - val_accuracy: 0.7834\n",
      "Epoch 195/300\n",
      "32/32 [==============================] - 4s 122ms/step - loss: 0.2599 - accuracy: 0.8932 - val_loss: 0.5100 - val_accuracy: 0.8479\n",
      "Epoch 196/300\n",
      "32/32 [==============================] - 4s 110ms/step - loss: 0.2378 - accuracy: 0.9132 - val_loss: 0.5205 - val_accuracy: 0.8249\n",
      "Epoch 197/300\n",
      "32/32 [==============================] - 3s 109ms/step - loss: 0.1724 - accuracy: 0.9409 - val_loss: 0.6002 - val_accuracy: 0.7788\n",
      "Epoch 198/300\n",
      "32/32 [==============================] - 4s 110ms/step - loss: 0.2554 - accuracy: 0.9078 - val_loss: 0.6927 - val_accuracy: 0.7696\n",
      "Epoch 199/300\n",
      "32/32 [==============================] - 4s 114ms/step - loss: 0.2380 - accuracy: 0.9108 - val_loss: 0.5522 - val_accuracy: 0.8479\n",
      "Epoch 200/300\n",
      "32/32 [==============================] - 3s 109ms/step - loss: 0.1728 - accuracy: 0.9334 - val_loss: 0.9090 - val_accuracy: 0.6636\n",
      "Epoch 201/300\n",
      "32/32 [==============================] - 4s 114ms/step - loss: 0.5007 - accuracy: 0.8083 - val_loss: 0.8537 - val_accuracy: 0.6774\n",
      "Epoch 202/300\n",
      "32/32 [==============================] - 4s 112ms/step - loss: 0.4489 - accuracy: 0.8275 - val_loss: 0.4946 - val_accuracy: 0.7972\n",
      "Epoch 203/300\n",
      "32/32 [==============================] - 4s 121ms/step - loss: 0.2240 - accuracy: 0.8969 - val_loss: 0.5504 - val_accuracy: 0.8249\n",
      "Epoch 204/300\n",
      "32/32 [==============================] - 4s 117ms/step - loss: 0.1866 - accuracy: 0.9367 - val_loss: 0.5239 - val_accuracy: 0.8341\n",
      "Epoch 205/300\n",
      "32/32 [==============================] - 4s 113ms/step - loss: 0.1875 - accuracy: 0.9064 - val_loss: 0.5652 - val_accuracy: 0.8249\n",
      "Epoch 206/300\n",
      "32/32 [==============================] - 4s 117ms/step - loss: 0.1413 - accuracy: 0.9528 - val_loss: 0.5122 - val_accuracy: 0.8295\n",
      "Epoch 207/300\n",
      "32/32 [==============================] - 4s 116ms/step - loss: 0.1511 - accuracy: 0.9541 - val_loss: 0.5645 - val_accuracy: 0.7972\n",
      "Epoch 208/300\n",
      "32/32 [==============================] - 4s 121ms/step - loss: 0.1648 - accuracy: 0.9329 - val_loss: 0.6102 - val_accuracy: 0.8018\n",
      "Epoch 209/300\n",
      "32/32 [==============================] - 4s 128ms/step - loss: 0.3311 - accuracy: 0.8628 - val_loss: 0.5866 - val_accuracy: 0.8157\n",
      "Epoch 210/300\n",
      "32/32 [==============================] - 4s 130ms/step - loss: 0.1689 - accuracy: 0.9401 - val_loss: 0.5758 - val_accuracy: 0.7972\n",
      "Epoch 211/300\n",
      "32/32 [==============================] - 4s 121ms/step - loss: 0.1854 - accuracy: 0.9125 - val_loss: 0.5059 - val_accuracy: 0.8387\n",
      "Epoch 212/300\n",
      "32/32 [==============================] - 4s 122ms/step - loss: 0.1475 - accuracy: 0.9551 - val_loss: 0.7006 - val_accuracy: 0.7788\n",
      "Epoch 213/300\n",
      "32/32 [==============================] - 4s 120ms/step - loss: 0.1787 - accuracy: 0.9327 - val_loss: 0.6021 - val_accuracy: 0.8018\n",
      "Epoch 214/300\n",
      "32/32 [==============================] - 4s 119ms/step - loss: 0.1746 - accuracy: 0.9400 - val_loss: 0.4932 - val_accuracy: 0.8387\n",
      "Epoch 215/300\n",
      "32/32 [==============================] - 4s 123ms/step - loss: 0.2132 - accuracy: 0.8997 - val_loss: 0.5871 - val_accuracy: 0.7972\n",
      "Epoch 216/300\n",
      "32/32 [==============================] - 4s 120ms/step - loss: 0.2433 - accuracy: 0.9032 - val_loss: 1.0547 - val_accuracy: 0.6313\n",
      "Epoch 217/300\n",
      "32/32 [==============================] - 4s 116ms/step - loss: 0.3752 - accuracy: 0.8597 - val_loss: 0.5762 - val_accuracy: 0.8387\n",
      "Epoch 218/300\n",
      "32/32 [==============================] - 4s 116ms/step - loss: 0.2170 - accuracy: 0.8997 - val_loss: 0.6975 - val_accuracy: 0.7465\n",
      "Epoch 219/300\n",
      "32/32 [==============================] - 4s 114ms/step - loss: 0.1935 - accuracy: 0.9292 - val_loss: 0.8385 - val_accuracy: 0.6728\n",
      "Epoch 220/300\n",
      "32/32 [==============================] - 4s 114ms/step - loss: 0.2335 - accuracy: 0.9088 - val_loss: 0.6628 - val_accuracy: 0.7650\n",
      "Epoch 221/300\n",
      "32/32 [==============================] - 4s 113ms/step - loss: 0.2571 - accuracy: 0.8951 - val_loss: 0.6019 - val_accuracy: 0.8018\n",
      "Epoch 222/300\n",
      "32/32 [==============================] - 4s 112ms/step - loss: 0.2682 - accuracy: 0.9100 - val_loss: 0.4536 - val_accuracy: 0.8618\n",
      "Epoch 223/300\n",
      "32/32 [==============================] - 4s 111ms/step - loss: 0.1396 - accuracy: 0.9555 - val_loss: 0.6231 - val_accuracy: 0.7788\n",
      "Epoch 224/300\n",
      "32/32 [==============================] - 4s 115ms/step - loss: 0.1923 - accuracy: 0.9373 - val_loss: 0.5110 - val_accuracy: 0.8479\n",
      "Epoch 225/300\n",
      "32/32 [==============================] - 4s 125ms/step - loss: 0.1737 - accuracy: 0.9386 - val_loss: 0.5133 - val_accuracy: 0.8571\n",
      "Epoch 226/300\n",
      "32/32 [==============================] - 4s 112ms/step - loss: 0.1826 - accuracy: 0.9249 - val_loss: 0.5775 - val_accuracy: 0.8157\n",
      "Epoch 227/300\n"
     ]
    },
    {
     "name": "stdout",
     "output_type": "stream",
     "text": [
      "32/32 [==============================] - 4s 116ms/step - loss: 0.2938 - accuracy: 0.8609 - val_loss: 0.5335 - val_accuracy: 0.8203\n",
      "Epoch 228/300\n",
      "32/32 [==============================] - 4s 116ms/step - loss: 0.2066 - accuracy: 0.9230 - val_loss: 0.4573 - val_accuracy: 0.8479\n",
      "Epoch 229/300\n",
      "32/32 [==============================] - 4s 112ms/step - loss: 0.1484 - accuracy: 0.9407 - val_loss: 0.5569 - val_accuracy: 0.8341\n",
      "Epoch 230/300\n",
      "32/32 [==============================] - 4s 127ms/step - loss: 0.1517 - accuracy: 0.9464 - val_loss: 0.5355 - val_accuracy: 0.8341\n",
      "Epoch 231/300\n",
      "32/32 [==============================] - 4s 123ms/step - loss: 0.1471 - accuracy: 0.9533 - val_loss: 0.7618 - val_accuracy: 0.7650\n",
      "Epoch 232/300\n",
      "32/32 [==============================] - 4s 113ms/step - loss: 0.3219 - accuracy: 0.8804 - val_loss: 1.0091 - val_accuracy: 0.6820\n",
      "Epoch 233/300\n",
      "32/32 [==============================] - 4s 112ms/step - loss: 0.3635 - accuracy: 0.8682 - val_loss: 0.6247 - val_accuracy: 0.8065\n",
      "Epoch 234/300\n",
      "32/32 [==============================] - 4s 113ms/step - loss: 0.2221 - accuracy: 0.9054 - val_loss: 0.5072 - val_accuracy: 0.8341\n",
      "Epoch 235/300\n",
      "32/32 [==============================] - 3s 107ms/step - loss: 0.1495 - accuracy: 0.9524 - val_loss: 0.6946 - val_accuracy: 0.7742\n",
      "Epoch 236/300\n",
      "32/32 [==============================] - 4s 112ms/step - loss: 0.2525 - accuracy: 0.9018 - val_loss: 0.5856 - val_accuracy: 0.8433\n",
      "Epoch 237/300\n",
      "32/32 [==============================] - 3s 108ms/step - loss: 0.1490 - accuracy: 0.9456 - val_loss: 0.4398 - val_accuracy: 0.8710\n",
      "Epoch 238/300\n",
      "32/32 [==============================] - 4s 113ms/step - loss: 0.1222 - accuracy: 0.9627 - val_loss: 0.4341 - val_accuracy: 0.8848\n",
      "Epoch 239/300\n",
      "32/32 [==============================] - 3s 107ms/step - loss: 0.1671 - accuracy: 0.9226 - val_loss: 0.9468 - val_accuracy: 0.7512\n",
      "Epoch 240/300\n",
      "32/32 [==============================] - 3s 108ms/step - loss: 0.4297 - accuracy: 0.8553 - val_loss: 0.8336 - val_accuracy: 0.7327\n",
      "Epoch 241/300\n",
      "32/32 [==============================] - 3s 108ms/step - loss: 0.2960 - accuracy: 0.8998 - val_loss: 0.7201 - val_accuracy: 0.7512\n",
      "Epoch 242/300\n",
      "32/32 [==============================] - 4s 111ms/step - loss: 0.1781 - accuracy: 0.9318 - val_loss: 0.5008 - val_accuracy: 0.8479\n",
      "Epoch 243/300\n",
      "32/32 [==============================] - 4s 111ms/step - loss: 0.1672 - accuracy: 0.9310 - val_loss: 0.8399 - val_accuracy: 0.7281\n",
      "Epoch 244/300\n",
      "32/32 [==============================] - 3s 110ms/step - loss: 0.1443 - accuracy: 0.9436 - val_loss: 0.5073 - val_accuracy: 0.8295\n",
      "Epoch 245/300\n",
      "32/32 [==============================] - 4s 111ms/step - loss: 0.1137 - accuracy: 0.9522 - val_loss: 0.4423 - val_accuracy: 0.8802\n",
      "Epoch 246/300\n",
      "32/32 [==============================] - 4s 116ms/step - loss: 0.0912 - accuracy: 0.9811 - val_loss: 0.4633 - val_accuracy: 0.8710\n",
      "Epoch 247/300\n",
      "32/32 [==============================] - 4s 115ms/step - loss: 0.1024 - accuracy: 0.9606 - val_loss: 0.5309 - val_accuracy: 0.8018\n",
      "Epoch 248/300\n",
      "32/32 [==============================] - 4s 117ms/step - loss: 0.1230 - accuracy: 0.9493 - val_loss: 0.4402 - val_accuracy: 0.8710\n",
      "Epoch 249/300\n",
      "32/32 [==============================] - 4s 111ms/step - loss: 0.0780 - accuracy: 0.9742 - val_loss: 0.6308 - val_accuracy: 0.8018\n",
      "Epoch 250/300\n",
      "32/32 [==============================] - 3s 109ms/step - loss: 0.1684 - accuracy: 0.9204 - val_loss: 0.5394 - val_accuracy: 0.8249\n",
      "Epoch 251/300\n",
      "32/32 [==============================] - 4s 111ms/step - loss: 0.3874 - accuracy: 0.8818 - val_loss: 0.6615 - val_accuracy: 0.8157\n",
      "Epoch 252/300\n",
      "32/32 [==============================] - 3s 108ms/step - loss: 0.2788 - accuracy: 0.8876 - val_loss: 0.6818 - val_accuracy: 0.7742\n",
      "Epoch 253/300\n",
      "32/32 [==============================] - 4s 111ms/step - loss: 0.1796 - accuracy: 0.9226 - val_loss: 0.6382 - val_accuracy: 0.7880\n",
      "Epoch 254/300\n",
      "32/32 [==============================] - 3s 109ms/step - loss: 0.1486 - accuracy: 0.9547 - val_loss: 0.4422 - val_accuracy: 0.8848\n",
      "Epoch 255/300\n",
      "32/32 [==============================] - 3s 109ms/step - loss: 0.1548 - accuracy: 0.9453 - val_loss: 1.0690 - val_accuracy: 0.6544\n",
      "Epoch 256/300\n",
      "32/32 [==============================] - 4s 114ms/step - loss: 0.2843 - accuracy: 0.8814 - val_loss: 0.7044 - val_accuracy: 0.7972\n",
      "Epoch 257/300\n",
      "32/32 [==============================] - 3s 107ms/step - loss: 0.1795 - accuracy: 0.9370 - val_loss: 0.5531 - val_accuracy: 0.8157\n",
      "Epoch 258/300\n",
      "32/32 [==============================] - 4s 111ms/step - loss: 0.1276 - accuracy: 0.9768 - val_loss: 0.6309 - val_accuracy: 0.7926\n",
      "Epoch 259/300\n",
      "32/32 [==============================] - 3s 109ms/step - loss: 0.1045 - accuracy: 0.9716 - val_loss: 0.7922 - val_accuracy: 0.7512\n",
      "Epoch 260/300\n",
      "32/32 [==============================] - 3s 110ms/step - loss: 0.1878 - accuracy: 0.9305 - val_loss: 0.5953 - val_accuracy: 0.8111\n",
      "Epoch 261/300\n",
      "32/32 [==============================] - 4s 112ms/step - loss: 0.2667 - accuracy: 0.9049 - val_loss: 0.4921 - val_accuracy: 0.8571\n",
      "Epoch 262/300\n",
      "32/32 [==============================] - 3s 110ms/step - loss: 0.1127 - accuracy: 0.9640 - val_loss: 0.4837 - val_accuracy: 0.8571\n",
      "Epoch 263/300\n",
      "32/32 [==============================] - 4s 111ms/step - loss: 0.1066 - accuracy: 0.9616 - val_loss: 0.5013 - val_accuracy: 0.8387\n",
      "Epoch 264/300\n",
      "32/32 [==============================] - 3s 110ms/step - loss: 0.0860 - accuracy: 0.9699 - val_loss: 0.4481 - val_accuracy: 0.8710\n",
      "Epoch 265/300\n",
      "32/32 [==============================] - 4s 115ms/step - loss: 0.0879 - accuracy: 0.9610 - val_loss: 0.5255 - val_accuracy: 0.8249\n",
      "Epoch 266/300\n",
      "32/32 [==============================] - 3s 109ms/step - loss: 0.1120 - accuracy: 0.9582 - val_loss: 0.5342 - val_accuracy: 0.8249\n",
      "Epoch 267/300\n",
      "32/32 [==============================] - 3s 109ms/step - loss: 0.1790 - accuracy: 0.9279 - val_loss: 0.4783 - val_accuracy: 0.8387\n",
      "Epoch 268/300\n",
      "32/32 [==============================] - 3s 109ms/step - loss: 0.1618 - accuracy: 0.9231 - val_loss: 0.5788 - val_accuracy: 0.8249\n",
      "Epoch 269/300\n",
      "32/32 [==============================] - 3s 108ms/step - loss: 0.1098 - accuracy: 0.9611 - val_loss: 0.5736 - val_accuracy: 0.8387\n",
      "Epoch 270/300\n",
      "32/32 [==============================] - 4s 115ms/step - loss: 0.1267 - accuracy: 0.9552 - val_loss: 0.6878 - val_accuracy: 0.7880\n",
      "Epoch 271/300\n",
      "32/32 [==============================] - 4s 110ms/step - loss: 0.1168 - accuracy: 0.9613 - val_loss: 0.9677 - val_accuracy: 0.7235\n",
      "Epoch 272/300\n",
      "32/32 [==============================] - 4s 110ms/step - loss: 0.1602 - accuracy: 0.9278 - val_loss: 0.5383 - val_accuracy: 0.8525\n",
      "Epoch 273/300\n",
      "32/32 [==============================] - 4s 110ms/step - loss: 0.0840 - accuracy: 0.9764 - val_loss: 0.6094 - val_accuracy: 0.8249\n",
      "Epoch 274/300\n",
      "32/32 [==============================] - 4s 113ms/step - loss: 0.1273 - accuracy: 0.9605 - val_loss: 0.8297 - val_accuracy: 0.7512\n",
      "Epoch 275/300\n",
      "32/32 [==============================] - 4s 112ms/step - loss: 0.2109 - accuracy: 0.9014 - val_loss: 0.5138 - val_accuracy: 0.8387\n",
      "Epoch 276/300\n",
      "32/32 [==============================] - 3s 109ms/step - loss: 0.1263 - accuracy: 0.9602 - val_loss: 0.5216 - val_accuracy: 0.8387\n",
      "Epoch 277/300\n",
      "32/32 [==============================] - 4s 112ms/step - loss: 0.1207 - accuracy: 0.9567 - val_loss: 0.6018 - val_accuracy: 0.8295\n",
      "Epoch 278/300\n",
      "32/32 [==============================] - 4s 114ms/step - loss: 0.1731 - accuracy: 0.9241 - val_loss: 0.7117 - val_accuracy: 0.7880\n",
      "Epoch 279/300\n",
      "32/32 [==============================] - 4s 113ms/step - loss: 0.2115 - accuracy: 0.9158 - val_loss: 0.7046 - val_accuracy: 0.7880\n",
      "Epoch 280/300\n",
      "32/32 [==============================] - 4s 110ms/step - loss: 0.3148 - accuracy: 0.8893 - val_loss: 0.5509 - val_accuracy: 0.8433\n",
      "Epoch 281/300\n",
      "32/32 [==============================] - 4s 112ms/step - loss: 0.1709 - accuracy: 0.9256 - val_loss: 0.9168 - val_accuracy: 0.7189\n",
      "Epoch 282/300\n",
      "32/32 [==============================] - 3s 109ms/step - loss: 0.2332 - accuracy: 0.9111 - val_loss: 0.7415 - val_accuracy: 0.7834\n",
      "Epoch 283/300\n",
      "32/32 [==============================] - 4s 114ms/step - loss: 0.1771 - accuracy: 0.9255 - val_loss: 0.8439 - val_accuracy: 0.7281\n",
      "Epoch 284/300\n",
      "32/32 [==============================] - 3s 108ms/step - loss: 0.1466 - accuracy: 0.9440 - val_loss: 0.6013 - val_accuracy: 0.8295\n",
      "Epoch 285/300\n",
      "32/32 [==============================] - 3s 108ms/step - loss: 0.1109 - accuracy: 0.9648 - val_loss: 0.5401 - val_accuracy: 0.8618\n",
      "Epoch 286/300\n",
      "32/32 [==============================] - 3s 109ms/step - loss: 0.0703 - accuracy: 0.9792 - val_loss: 0.5059 - val_accuracy: 0.8664\n",
      "Epoch 287/300\n",
      "32/32 [==============================] - 3s 107ms/step - loss: 0.1043 - accuracy: 0.9583 - val_loss: 0.5491 - val_accuracy: 0.8433\n",
      "Epoch 288/300\n",
      "32/32 [==============================] - 4s 112ms/step - loss: 0.1412 - accuracy: 0.9504 - val_loss: 0.6815 - val_accuracy: 0.7926\n",
      "Epoch 289/300\n",
      "32/32 [==============================] - 4s 110ms/step - loss: 0.1510 - accuracy: 0.9528 - val_loss: 0.4172 - val_accuracy: 0.8940\n",
      "Epoch 290/300\n",
      "32/32 [==============================] - 3s 107ms/step - loss: 0.0800 - accuracy: 0.9857 - val_loss: 0.5087 - val_accuracy: 0.8387\n",
      "Epoch 291/300\n",
      "32/32 [==============================] - 3s 109ms/step - loss: 0.0819 - accuracy: 0.9761 - val_loss: 0.5293 - val_accuracy: 0.8525\n",
      "Epoch 292/300\n",
      "32/32 [==============================] - 4s 113ms/step - loss: 0.1523 - accuracy: 0.9433 - val_loss: 0.5272 - val_accuracy: 0.8664\n",
      "Epoch 293/300\n",
      "32/32 [==============================] - 4s 113ms/step - loss: 0.2648 - accuracy: 0.8937 - val_loss: 0.7146 - val_accuracy: 0.7834\n",
      "Epoch 294/300\n",
      "32/32 [==============================] - 4s 122ms/step - loss: 0.2069 - accuracy: 0.9070 - val_loss: 0.4988 - val_accuracy: 0.8341\n",
      "Epoch 295/300\n",
      "32/32 [==============================] - 4s 112ms/step - loss: 0.1247 - accuracy: 0.9513 - val_loss: 0.4781 - val_accuracy: 0.8571\n",
      "Epoch 296/300\n",
      "32/32 [==============================] - 4s 111ms/step - loss: 0.1136 - accuracy: 0.9600 - val_loss: 0.5258 - val_accuracy: 0.8618\n",
      "Epoch 297/300\n",
      "32/32 [==============================] - 4s 116ms/step - loss: 0.0665 - accuracy: 0.9848 - val_loss: 0.5630 - val_accuracy: 0.8295\n",
      "Epoch 298/300\n",
      "32/32 [==============================] - 4s 111ms/step - loss: 0.1215 - accuracy: 0.9422 - val_loss: 0.6714 - val_accuracy: 0.8018\n",
      "Epoch 299/300\n",
      "32/32 [==============================] - 3s 109ms/step - loss: 0.2640 - accuracy: 0.8991 - val_loss: 0.4982 - val_accuracy: 0.8571\n",
      "Epoch 300/300\n",
      "32/32 [==============================] - 3s 110ms/step - loss: 0.0778 - accuracy: 0.9762 - val_loss: 0.4571 - val_accuracy: 0.8664\n"
     ]
    }
   ],
   "source": [
    "#from pandas import DataFrame\n",
    "#train_lstm_loss = DataFrame()\n",
    "#val_lstm_loss = DataFrame()\n",
    "#score_lstm = DataFrame()\n",
    "#acc_lstm = DataFrame()\n",
    "\n",
    "my_callbacks_lstm = [\n",
    "        #tf.keras.callbacks.EarlyStopping(monitor='val_accuracy', mode='max', min_delta=0),\n",
    "        tf.keras.callbacks.EarlyStopping(monitor='val_loss', mode='min', verbose=1, patience=30),\n",
    "        tf.keras.callbacks.ModelCheckpoint('best_model_lstm-v2.h5', monitor='val_loss', mode='min', save_best_only=True,verbouse = 1),\n",
    "        tf.keras.callbacks.TensorBoard(log_dir='./logs'),\n",
    "    ]\n",
    "#X_train, X_test, y_train, y_test\n",
    "#for i in range(5):\n",
    "    #dirname=\"/Users/anusorn/Desktop/TSl/outputvideo/landmark/Absolute/\"\n",
    "    #x_train,y_train,x_test,y_test=load_data(dirname)\n",
    "    #model_lstm=build_model_lstm(y_train.shape[1])\n",
    "history_lstm=model_lstm.fit(\n",
    "    X_train,y_train,\n",
    "    epochs=300,\n",
    "    batch_size=16,\n",
    "    validation_data=(X_test,y_test),\n",
    "    validation_split=0.3,\n",
    "    #callbacks = my_callbacks_lstm,\n",
    "    verbose=1\n",
    ")\n",
    "\n",
    " "
   ]
  },
  {
   "cell_type": "markdown",
   "metadata": {},
   "source": [
    "# train bdlstm model"
   ]
  },
  {
   "cell_type": "code",
   "execution_count": 27,
   "metadata": {},
   "outputs": [
    {
     "name": "stdout",
     "output_type": "stream",
     "text": [
      "Epoch 1/1000\n",
      "32/32 [==============================] - 17s 276ms/step - loss: 2.8364 - accuracy: 0.0799 - val_loss: 2.7380 - val_accuracy: 0.0783\n",
      "Epoch 2/1000\n",
      "32/32 [==============================] - 6s 181ms/step - loss: 2.7440 - accuracy: 0.0514 - val_loss: 2.7760 - val_accuracy: 0.0645\n",
      "Epoch 3/1000\n",
      "32/32 [==============================] - 6s 183ms/step - loss: 2.7386 - accuracy: 0.0778 - val_loss: 2.7466 - val_accuracy: 0.0691\n",
      "Epoch 4/1000\n",
      "32/32 [==============================] - 6s 193ms/step - loss: 2.5440 - accuracy: 0.1363 - val_loss: 2.6757 - val_accuracy: 0.0783\n",
      "Epoch 5/1000\n",
      "32/32 [==============================] - 6s 193ms/step - loss: 2.3468 - accuracy: 0.1291 - val_loss: 2.1072 - val_accuracy: 0.2350\n",
      "Epoch 6/1000\n",
      "32/32 [==============================] - 6s 193ms/step - loss: 2.0858 - accuracy: 0.2070 - val_loss: 1.9206 - val_accuracy: 0.2857\n",
      "Epoch 7/1000\n",
      "32/32 [==============================] - 6s 192ms/step - loss: 2.0425 - accuracy: 0.2577 - val_loss: 1.9701 - val_accuracy: 0.2120\n",
      "Epoch 8/1000\n",
      "32/32 [==============================] - 6s 194ms/step - loss: 1.9074 - accuracy: 0.2698 - val_loss: 1.8114 - val_accuracy: 0.2949\n",
      "Epoch 9/1000\n",
      "32/32 [==============================] - 6s 202ms/step - loss: 1.9572 - accuracy: 0.2654 - val_loss: 2.4712 - val_accuracy: 0.1982\n",
      "Epoch 10/1000\n",
      "32/32 [==============================] - 6s 193ms/step - loss: 1.8946 - accuracy: 0.2853 - val_loss: 1.7900 - val_accuracy: 0.2535\n",
      "Epoch 11/1000\n",
      "32/32 [==============================] - 6s 196ms/step - loss: 1.7629 - accuracy: 0.3323 - val_loss: 1.8950 - val_accuracy: 0.3594\n",
      "Epoch 12/1000\n",
      "32/32 [==============================] - 6s 195ms/step - loss: 1.7224 - accuracy: 0.3442 - val_loss: 1.5545 - val_accuracy: 0.4470\n",
      "Epoch 13/1000\n",
      "32/32 [==============================] - 6s 198ms/step - loss: 1.7089 - accuracy: 0.3725 - val_loss: 1.9081 - val_accuracy: 0.3272\n",
      "Epoch 14/1000\n",
      "32/32 [==============================] - 6s 199ms/step - loss: 1.8234 - accuracy: 0.3195 - val_loss: 1.5592 - val_accuracy: 0.4608\n",
      "Epoch 15/1000\n",
      "32/32 [==============================] - 6s 192ms/step - loss: 1.5459 - accuracy: 0.3851 - val_loss: 1.8824 - val_accuracy: 0.2995\n",
      "Epoch 16/1000\n",
      "32/32 [==============================] - 6s 195ms/step - loss: 1.6091 - accuracy: 0.3888 - val_loss: 1.5152 - val_accuracy: 0.4286\n",
      "Epoch 17/1000\n",
      "32/32 [==============================] - 6s 197ms/step - loss: 1.4741 - accuracy: 0.4554 - val_loss: 1.9713 - val_accuracy: 0.2995\n",
      "Epoch 18/1000\n",
      "32/32 [==============================] - 6s 194ms/step - loss: 1.6226 - accuracy: 0.3807 - val_loss: 2.2680 - val_accuracy: 0.1982\n",
      "Epoch 19/1000\n",
      "32/32 [==============================] - 6s 201ms/step - loss: 1.6549 - accuracy: 0.4315 - val_loss: 1.4118 - val_accuracy: 0.4562\n",
      "Epoch 20/1000\n",
      "32/32 [==============================] - 6s 192ms/step - loss: 1.4582 - accuracy: 0.4646 - val_loss: 1.6821 - val_accuracy: 0.3871\n",
      "Epoch 21/1000\n",
      "32/32 [==============================] - 6s 197ms/step - loss: 1.4941 - accuracy: 0.4419 - val_loss: 1.5282 - val_accuracy: 0.4424\n",
      "Epoch 22/1000\n",
      "32/32 [==============================] - 6s 200ms/step - loss: 1.4019 - accuracy: 0.5103 - val_loss: 2.2219 - val_accuracy: 0.3733\n",
      "Epoch 23/1000\n",
      "32/32 [==============================] - 6s 195ms/step - loss: 1.5691 - accuracy: 0.4425 - val_loss: 1.6258 - val_accuracy: 0.3733\n",
      "Epoch 24/1000\n",
      "32/32 [==============================] - 7s 209ms/step - loss: 1.3693 - accuracy: 0.4865 - val_loss: 1.3838 - val_accuracy: 0.4885\n",
      "Epoch 25/1000\n",
      "32/32 [==============================] - 7s 204ms/step - loss: 1.3616 - accuracy: 0.4772 - val_loss: 1.2676 - val_accuracy: 0.5576\n",
      "Epoch 26/1000\n",
      "32/32 [==============================] - 7s 206ms/step - loss: 1.1920 - accuracy: 0.5642 - val_loss: 1.2672 - val_accuracy: 0.5484\n",
      "Epoch 27/1000\n",
      "32/32 [==============================] - 7s 210ms/step - loss: 1.1271 - accuracy: 0.5831 - val_loss: 1.5266 - val_accuracy: 0.4470\n",
      "Epoch 28/1000\n",
      "32/32 [==============================] - 7s 209ms/step - loss: 1.2486 - accuracy: 0.5278 - val_loss: 1.2422 - val_accuracy: 0.6037\n",
      "Epoch 29/1000\n",
      "32/32 [==============================] - 7s 214ms/step - loss: 1.1995 - accuracy: 0.5468 - val_loss: 1.5274 - val_accuracy: 0.4885\n",
      "Epoch 30/1000\n",
      "32/32 [==============================] - 6s 204ms/step - loss: 1.2021 - accuracy: 0.6041 - val_loss: 1.7108 - val_accuracy: 0.3963\n",
      "Epoch 31/1000\n",
      "32/32 [==============================] - 7s 207ms/step - loss: 1.1547 - accuracy: 0.5622 - val_loss: 1.1705 - val_accuracy: 0.5714\n",
      "Epoch 32/1000\n",
      "32/32 [==============================] - 7s 207ms/step - loss: 1.1258 - accuracy: 0.6020 - val_loss: 1.2063 - val_accuracy: 0.5576\n",
      "Epoch 33/1000\n",
      "32/32 [==============================] - 7s 206ms/step - loss: 1.1303 - accuracy: 0.6284 - val_loss: 2.0833 - val_accuracy: 0.3641\n",
      "Epoch 34/1000\n",
      "32/32 [==============================] - 7s 210ms/step - loss: 1.2278 - accuracy: 0.5662 - val_loss: 1.3456 - val_accuracy: 0.5392\n",
      "Epoch 35/1000\n",
      "32/32 [==============================] - 6s 204ms/step - loss: 1.1362 - accuracy: 0.5843 - val_loss: 1.4432 - val_accuracy: 0.4977\n",
      "Epoch 36/1000\n",
      "32/32 [==============================] - 7s 211ms/step - loss: 1.0520 - accuracy: 0.6147 - val_loss: 2.3053 - val_accuracy: 0.2949\n",
      "Epoch 37/1000\n",
      "32/32 [==============================] - 7s 215ms/step - loss: 1.1812 - accuracy: 0.5723 - val_loss: 1.5979 - val_accuracy: 0.4516\n",
      "Epoch 38/1000\n",
      "32/32 [==============================] - 7s 208ms/step - loss: 1.1505 - accuracy: 0.5591 - val_loss: 1.0506 - val_accuracy: 0.6175\n",
      "Epoch 39/1000\n",
      "32/32 [==============================] - 7s 209ms/step - loss: 0.9587 - accuracy: 0.6767 - val_loss: 1.1466 - val_accuracy: 0.5760\n",
      "Epoch 40/1000\n",
      "32/32 [==============================] - 7s 207ms/step - loss: 1.0315 - accuracy: 0.6318 - val_loss: 1.6013 - val_accuracy: 0.4009\n",
      "Epoch 41/1000\n",
      "32/32 [==============================] - 7s 209ms/step - loss: 0.9158 - accuracy: 0.6856 - val_loss: 1.3455 - val_accuracy: 0.4793\n",
      "Epoch 42/1000\n",
      "32/32 [==============================] - 7s 208ms/step - loss: 0.9879 - accuracy: 0.6563 - val_loss: 1.1725 - val_accuracy: 0.5576\n",
      "Epoch 43/1000\n",
      "32/32 [==============================] - 7s 214ms/step - loss: 0.8828 - accuracy: 0.6885 - val_loss: 1.2437 - val_accuracy: 0.5069\n",
      "Epoch 44/1000\n",
      "32/32 [==============================] - 7s 209ms/step - loss: 0.9620 - accuracy: 0.6389 - val_loss: 1.0763 - val_accuracy: 0.6313\n",
      "Epoch 45/1000\n",
      "32/32 [==============================] - 7s 208ms/step - loss: 0.8705 - accuracy: 0.6683 - val_loss: 0.9896 - val_accuracy: 0.7005\n",
      "Epoch 46/1000\n",
      "32/32 [==============================] - 7s 209ms/step - loss: 0.8506 - accuracy: 0.6808 - val_loss: 1.2764 - val_accuracy: 0.5161\n",
      "Epoch 47/1000\n",
      "32/32 [==============================] - 7s 204ms/step - loss: 0.8641 - accuracy: 0.6785 - val_loss: 0.9395 - val_accuracy: 0.6636\n",
      "Epoch 48/1000\n",
      "32/32 [==============================] - 7s 208ms/step - loss: 0.8220 - accuracy: 0.7015 - val_loss: 1.0815 - val_accuracy: 0.5806\n",
      "Epoch 49/1000\n",
      "32/32 [==============================] - 7s 206ms/step - loss: 0.8078 - accuracy: 0.6829 - val_loss: 0.8758 - val_accuracy: 0.6636\n",
      "Epoch 50/1000\n",
      "32/32 [==============================] - 7s 209ms/step - loss: 0.7594 - accuracy: 0.7367 - val_loss: 0.8803 - val_accuracy: 0.7281\n",
      "Epoch 51/1000\n",
      "32/32 [==============================] - 7s 212ms/step - loss: 0.7360 - accuracy: 0.7250 - val_loss: 1.0446 - val_accuracy: 0.6267\n",
      "Epoch 52/1000\n",
      "32/32 [==============================] - 7s 206ms/step - loss: 0.7884 - accuracy: 0.6802 - val_loss: 1.0191 - val_accuracy: 0.6498\n",
      "Epoch 53/1000\n",
      "32/32 [==============================] - 7s 219ms/step - loss: 0.7333 - accuracy: 0.6962 - val_loss: 2.1246 - val_accuracy: 0.3548\n",
      "Epoch 54/1000\n",
      "32/32 [==============================] - 7s 217ms/step - loss: 0.8602 - accuracy: 0.6714 - val_loss: 1.1200 - val_accuracy: 0.6129\n",
      "Epoch 55/1000\n",
      "32/32 [==============================] - 7s 214ms/step - loss: 0.9184 - accuracy: 0.6664 - val_loss: 1.4565 - val_accuracy: 0.5069\n",
      "Epoch 56/1000\n",
      "32/32 [==============================] - 7s 210ms/step - loss: 0.7249 - accuracy: 0.7393 - val_loss: 1.0522 - val_accuracy: 0.6682\n",
      "Epoch 57/1000\n",
      "32/32 [==============================] - 6s 201ms/step - loss: 0.6532 - accuracy: 0.7724 - val_loss: 1.8624 - val_accuracy: 0.4839\n",
      "Epoch 58/1000\n",
      "32/32 [==============================] - 7s 210ms/step - loss: 0.7901 - accuracy: 0.7061 - val_loss: 1.2982 - val_accuracy: 0.5438\n",
      "Epoch 59/1000\n",
      "32/32 [==============================] - 6s 203ms/step - loss: 0.6711 - accuracy: 0.7311 - val_loss: 2.0777 - val_accuracy: 0.4424\n",
      "Epoch 60/1000\n",
      "32/32 [==============================] - 7s 208ms/step - loss: 1.0961 - accuracy: 0.6446 - val_loss: 1.4795 - val_accuracy: 0.5668\n",
      "Epoch 61/1000\n",
      "32/32 [==============================] - 7s 206ms/step - loss: 0.6604 - accuracy: 0.7590 - val_loss: 1.4331 - val_accuracy: 0.5115\n",
      "Epoch 62/1000\n",
      "32/32 [==============================] - 7s 206ms/step - loss: 0.7082 - accuracy: 0.7097 - val_loss: 0.9716 - val_accuracy: 0.6774\n",
      "Epoch 63/1000\n",
      "32/32 [==============================] - 7s 208ms/step - loss: 0.5813 - accuracy: 0.7902 - val_loss: 0.9749 - val_accuracy: 0.6636\n",
      "Epoch 64/1000\n",
      "32/32 [==============================] - 7s 207ms/step - loss: 0.5635 - accuracy: 0.7830 - val_loss: 2.5339 - val_accuracy: 0.4793\n",
      "Epoch 65/1000\n",
      "32/32 [==============================] - 7s 217ms/step - loss: 0.6440 - accuracy: 0.7734 - val_loss: 1.0790 - val_accuracy: 0.6175\n",
      "Epoch 66/1000\n",
      "32/32 [==============================] - 7s 209ms/step - loss: 0.6530 - accuracy: 0.7521 - val_loss: 1.3228 - val_accuracy: 0.5991\n",
      "Epoch 67/1000\n",
      "32/32 [==============================] - 7s 212ms/step - loss: 0.6003 - accuracy: 0.7827 - val_loss: 1.6746 - val_accuracy: 0.5622\n",
      "Epoch 68/1000\n",
      "32/32 [==============================] - 7s 211ms/step - loss: 0.6443 - accuracy: 0.7471 - val_loss: 0.9960 - val_accuracy: 0.6820\n",
      "Epoch 69/1000\n",
      "32/32 [==============================] - 7s 211ms/step - loss: 0.5145 - accuracy: 0.8166 - val_loss: 0.9315 - val_accuracy: 0.7189\n",
      "Epoch 70/1000\n",
      "32/32 [==============================] - 7s 215ms/step - loss: 0.5625 - accuracy: 0.7859 - val_loss: 0.9129 - val_accuracy: 0.7005\n",
      "Epoch 71/1000\n",
      "32/32 [==============================] - 7s 210ms/step - loss: 0.5824 - accuracy: 0.7618 - val_loss: 1.2156 - val_accuracy: 0.6498\n",
      "Epoch 72/1000\n",
      "32/32 [==============================] - 7s 216ms/step - loss: 0.4465 - accuracy: 0.8194 - val_loss: 1.7218 - val_accuracy: 0.5346\n",
      "Epoch 73/1000\n",
      "32/32 [==============================] - 7s 211ms/step - loss: 0.6637 - accuracy: 0.7442 - val_loss: 1.0273 - val_accuracy: 0.6590\n",
      "Epoch 74/1000\n",
      "32/32 [==============================] - 7s 211ms/step - loss: 0.4553 - accuracy: 0.8270 - val_loss: 1.3125 - val_accuracy: 0.5714\n",
      "Epoch 75/1000\n",
      "32/32 [==============================] - 7s 213ms/step - loss: 0.4964 - accuracy: 0.7823 - val_loss: 1.2110 - val_accuracy: 0.6313\n",
      "Epoch 76/1000\n",
      "32/32 [==============================] - 7s 207ms/step - loss: 0.5925 - accuracy: 0.7702 - val_loss: 0.9660 - val_accuracy: 0.7097\n",
      "Epoch 77/1000\n",
      "32/32 [==============================] - 7s 214ms/step - loss: 0.5356 - accuracy: 0.7819 - val_loss: 1.1314 - val_accuracy: 0.5899\n",
      "Epoch 78/1000\n",
      "32/32 [==============================] - 7s 213ms/step - loss: 0.4827 - accuracy: 0.8236 - val_loss: 1.0597 - val_accuracy: 0.6452- accuracy: 0.\n",
      "Epoch 79/1000\n",
      "32/32 [==============================] - 7s 213ms/step - loss: 0.5144 - accuracy: 0.8110 - val_loss: 1.4662 - val_accuracy: 0.5945\n",
      "Epoch 80/1000\n",
      "32/32 [==============================] - 7s 209ms/step - loss: 0.6879 - accuracy: 0.7758 - val_loss: 1.0313 - val_accuracy: 0.6820\n",
      "Epoch 81/1000\n",
      "32/32 [==============================] - 7s 215ms/step - loss: 0.4807 - accuracy: 0.8068 - val_loss: 1.0359 - val_accuracy: 0.6590\n",
      "Epoch 82/1000\n",
      "32/32 [==============================] - 7s 212ms/step - loss: 0.4295 - accuracy: 0.8410 - val_loss: 2.0515 - val_accuracy: 0.5945\n",
      "Epoch 83/1000\n",
      "32/32 [==============================] - 7s 206ms/step - loss: 0.9273 - accuracy: 0.7499 - val_loss: 0.9653 - val_accuracy: 0.7281\n",
      "Epoch 84/1000\n",
      "32/32 [==============================] - 7s 211ms/step - loss: 0.3923 - accuracy: 0.8535 - val_loss: 0.8081 - val_accuracy: 0.7373\n",
      "Epoch 85/1000\n",
      "32/32 [==============================] - 6s 203ms/step - loss: 0.4172 - accuracy: 0.8470 - val_loss: 0.9833 - val_accuracy: 0.6728\n",
      "Epoch 86/1000\n",
      "32/32 [==============================] - 7s 210ms/step - loss: 0.6209 - accuracy: 0.8048 - val_loss: 0.9001 - val_accuracy: 0.7650\n",
      "Epoch 87/1000\n",
      "32/32 [==============================] - 7s 208ms/step - loss: 0.4433 - accuracy: 0.8366 - val_loss: 1.6575 - val_accuracy: 0.5438\n",
      "Epoch 88/1000\n",
      "32/32 [==============================] - 7s 208ms/step - loss: 0.3748 - accuracy: 0.8510 - val_loss: 1.1190 - val_accuracy: 0.6912\n",
      "Epoch 89/1000\n",
      "32/32 [==============================] - 7s 215ms/step - loss: 0.5408 - accuracy: 0.8035 - val_loss: 0.8858 - val_accuracy: 0.7512\n",
      "Epoch 90/1000\n",
      "32/32 [==============================] - 7s 213ms/step - loss: 0.2745 - accuracy: 0.9216 - val_loss: 1.3420 - val_accuracy: 0.6682\n",
      "Epoch 91/1000\n",
      "32/32 [==============================] - 7s 209ms/step - loss: 0.4749 - accuracy: 0.8487 - val_loss: 0.8684 - val_accuracy: 0.7189\n",
      "Epoch 92/1000\n",
      "32/32 [==============================] - 7s 211ms/step - loss: 0.4114 - accuracy: 0.8685 - val_loss: 1.1541 - val_accuracy: 0.6959\n",
      "Epoch 93/1000\n",
      "32/32 [==============================] - 7s 205ms/step - loss: 0.3531 - accuracy: 0.8748 - val_loss: 1.2796 - val_accuracy: 0.6037\n",
      "Epoch 94/1000\n",
      "32/32 [==============================] - 7s 206ms/step - loss: 0.3869 - accuracy: 0.8383 - val_loss: 1.2181 - val_accuracy: 0.6267\n",
      "Epoch 95/1000\n",
      "32/32 [==============================] - 6s 203ms/step - loss: 0.3208 - accuracy: 0.8788 - val_loss: 1.1286 - val_accuracy: 0.7373\n",
      "Epoch 96/1000\n",
      "32/32 [==============================] - 7s 214ms/step - loss: 0.3943 - accuracy: 0.8501 - val_loss: 1.2274 - val_accuracy: 0.6590\n",
      "Epoch 97/1000\n",
      "32/32 [==============================] - 7s 204ms/step - loss: 0.3836 - accuracy: 0.8733 - val_loss: 1.2792 - val_accuracy: 0.6590\n",
      "Epoch 98/1000\n",
      "32/32 [==============================] - 7s 207ms/step - loss: 0.3756 - accuracy: 0.8475 - val_loss: 0.9879 - val_accuracy: 0.7512\n",
      "Epoch 99/1000\n",
      "32/32 [==============================] - 7s 207ms/step - loss: 0.3536 - accuracy: 0.8859 - val_loss: 0.7258 - val_accuracy: 0.7788\n",
      "Epoch 100/1000\n",
      "32/32 [==============================] - 7s 211ms/step - loss: 0.3021 - accuracy: 0.8984 - val_loss: 0.9070 - val_accuracy: 0.7051\n",
      "Epoch 101/1000\n",
      "32/32 [==============================] - 7s 211ms/step - loss: 0.3255 - accuracy: 0.8886 - val_loss: 1.0831 - val_accuracy: 0.6912\n",
      "Epoch 102/1000\n",
      "32/32 [==============================] - 7s 207ms/step - loss: 0.3092 - accuracy: 0.9076 - val_loss: 1.0132 - val_accuracy: 0.7327\n",
      "Epoch 103/1000\n",
      "32/32 [==============================] - 7s 212ms/step - loss: 0.3300 - accuracy: 0.8668 - val_loss: 0.7895 - val_accuracy: 0.7696\n",
      "Epoch 104/1000\n",
      "32/32 [==============================] - 7s 207ms/step - loss: 0.3609 - accuracy: 0.8715 - val_loss: 2.0672 - val_accuracy: 0.4839\n",
      "Epoch 105/1000\n",
      "32/32 [==============================] - 7s 210ms/step - loss: 0.4967 - accuracy: 0.8417 - val_loss: 1.2761 - val_accuracy: 0.5899\n",
      "Epoch 106/1000\n",
      "32/32 [==============================] - 7s 211ms/step - loss: 0.3196 - accuracy: 0.8836 - val_loss: 0.9477 - val_accuracy: 0.7512\n",
      "Epoch 107/1000\n",
      "32/32 [==============================] - 7s 207ms/step - loss: 0.2707 - accuracy: 0.9025 - val_loss: 0.9764 - val_accuracy: 0.7373\n",
      "Epoch 108/1000\n",
      "32/32 [==============================] - 7s 213ms/step - loss: 0.3264 - accuracy: 0.8849 - val_loss: 1.2435 - val_accuracy: 0.6452\n",
      "Epoch 109/1000\n",
      "32/32 [==============================] - 7s 207ms/step - loss: 0.3737 - accuracy: 0.8615 - val_loss: 0.7982 - val_accuracy: 0.7788\n",
      "Epoch 110/1000\n",
      "32/32 [==============================] - 7s 212ms/step - loss: 0.4343 - accuracy: 0.8502 - val_loss: 1.0708 - val_accuracy: 0.7604\n",
      "Epoch 111/1000\n",
      "32/32 [==============================] - 7s 210ms/step - loss: 0.2993 - accuracy: 0.9104 - val_loss: 0.9658 - val_accuracy: 0.7005\n",
      "Epoch 112/1000\n",
      "32/32 [==============================] - 7s 206ms/step - loss: 0.2224 - accuracy: 0.9113 - val_loss: 0.9186 - val_accuracy: 0.7097\n",
      "Epoch 113/1000\n"
     ]
    },
    {
     "name": "stdout",
     "output_type": "stream",
     "text": [
      "32/32 [==============================] - 7s 210ms/step - loss: 0.2689 - accuracy: 0.9067 - val_loss: 1.0959 - val_accuracy: 0.6820\n",
      "Epoch 114/1000\n",
      "32/32 [==============================] - 6s 203ms/step - loss: 0.3566 - accuracy: 0.8698 - val_loss: 0.9077 - val_accuracy: 0.7558\n",
      "Epoch 115/1000\n",
      "32/32 [==============================] - 7s 210ms/step - loss: 0.3284 - accuracy: 0.8714 - val_loss: 0.8036 - val_accuracy: 0.7604\n",
      "Epoch 116/1000\n",
      "32/32 [==============================] - 7s 206ms/step - loss: 0.3032 - accuracy: 0.8968 - val_loss: 0.8143 - val_accuracy: 0.7558\n",
      "Epoch 117/1000\n",
      "32/32 [==============================] - 7s 210ms/step - loss: 0.2307 - accuracy: 0.9209 - val_loss: 0.8879 - val_accuracy: 0.7373\n",
      "Epoch 118/1000\n",
      "32/32 [==============================] - 7s 209ms/step - loss: 0.5118 - accuracy: 0.8328 - val_loss: 1.7359 - val_accuracy: 0.5714\n",
      "Epoch 119/1000\n",
      "32/32 [==============================] - 7s 234ms/step - loss: 0.3720 - accuracy: 0.8847 - val_loss: 0.8799 - val_accuracy: 0.7696\n",
      "Epoch 120/1000\n",
      "32/32 [==============================] - 7s 211ms/step - loss: 0.2138 - accuracy: 0.9241 - val_loss: 1.2704 - val_accuracy: 0.6590\n",
      "Epoch 121/1000\n",
      "32/32 [==============================] - 7s 210ms/step - loss: 0.3041 - accuracy: 0.8661 - val_loss: 0.8275 - val_accuracy: 0.7880\n",
      "Epoch 122/1000\n",
      "32/32 [==============================] - 7s 211ms/step - loss: 0.2648 - accuracy: 0.9031 - val_loss: 0.8275 - val_accuracy: 0.7604\n",
      "Epoch 123/1000\n",
      "32/32 [==============================] - 7s 207ms/step - loss: 0.1914 - accuracy: 0.9411 - val_loss: 1.1143 - val_accuracy: 0.6820\n",
      "Epoch 124/1000\n",
      "32/32 [==============================] - 7s 209ms/step - loss: 0.2478 - accuracy: 0.9125 - val_loss: 1.2971 - val_accuracy: 0.6498\n",
      "Epoch 125/1000\n",
      "32/32 [==============================] - 7s 211ms/step - loss: 0.2662 - accuracy: 0.8811 - val_loss: 1.3156 - val_accuracy: 0.6037\n",
      "Epoch 126/1000\n",
      "32/32 [==============================] - 7s 207ms/step - loss: 0.3235 - accuracy: 0.8916 - val_loss: 1.1241 - val_accuracy: 0.7235\n",
      "Epoch 127/1000\n",
      "32/32 [==============================] - 7s 211ms/step - loss: 0.1927 - accuracy: 0.9390 - val_loss: 0.9445 - val_accuracy: 0.7235\n",
      "Epoch 128/1000\n",
      "32/32 [==============================] - 7s 208ms/step - loss: 0.2326 - accuracy: 0.9190 - val_loss: 1.5405 - val_accuracy: 0.6267\n",
      "Epoch 129/1000\n",
      "32/32 [==============================] - 7s 210ms/step - loss: 0.4746 - accuracy: 0.8549 - val_loss: 0.9101 - val_accuracy: 0.7742\n",
      "Epoch 130/1000\n",
      "32/32 [==============================] - 7s 209ms/step - loss: 0.2232 - accuracy: 0.9361 - val_loss: 0.8124 - val_accuracy: 0.7972\n",
      "Epoch 131/1000\n",
      "32/32 [==============================] - 7s 205ms/step - loss: 0.1628 - accuracy: 0.9399 - val_loss: 1.0318 - val_accuracy: 0.7465\n",
      "Epoch 132/1000\n",
      "32/32 [==============================] - 7s 211ms/step - loss: 0.2194 - accuracy: 0.9145 - val_loss: 1.3146 - val_accuracy: 0.6129\n",
      "Epoch 133/1000\n",
      "32/32 [==============================] - 7s 208ms/step - loss: 0.4068 - accuracy: 0.8619 - val_loss: 1.2289 - val_accuracy: 0.6820\n",
      "Epoch 134/1000\n",
      "32/32 [==============================] - 7s 216ms/step - loss: 0.2769 - accuracy: 0.8953 - val_loss: 1.2277 - val_accuracy: 0.6728\n",
      "Epoch 135/1000\n",
      "32/32 [==============================] - 7s 216ms/step - loss: 0.3026 - accuracy: 0.9131 - val_loss: 0.8458 - val_accuracy: 0.7465\n",
      "Epoch 136/1000\n",
      "32/32 [==============================] - 7s 209ms/step - loss: 0.2339 - accuracy: 0.9365 - val_loss: 0.9721 - val_accuracy: 0.7650\n",
      "Epoch 137/1000\n",
      "32/32 [==============================] - 7s 211ms/step - loss: 0.1808 - accuracy: 0.9333 - val_loss: 0.9878 - val_accuracy: 0.7419\n",
      "Epoch 138/1000\n",
      "32/32 [==============================] - 7s 212ms/step - loss: 0.2978 - accuracy: 0.8932 - val_loss: 1.0606 - val_accuracy: 0.7005\n",
      "Epoch 139/1000\n",
      "32/32 [==============================] - 7s 214ms/step - loss: 0.1643 - accuracy: 0.9525 - val_loss: 0.8917 - val_accuracy: 0.7465\n",
      "Epoch 140/1000\n",
      "32/32 [==============================] - 7s 209ms/step - loss: 0.1978 - accuracy: 0.9458 - val_loss: 0.9113 - val_accuracy: 0.7512\n",
      "Epoch 141/1000\n",
      "32/32 [==============================] - 7s 215ms/step - loss: 0.1651 - accuracy: 0.9467 - val_loss: 1.0087 - val_accuracy: 0.7235\n",
      "Epoch 142/1000\n",
      "32/32 [==============================] - 7s 211ms/step - loss: 0.2048 - accuracy: 0.9236 - val_loss: 1.1842 - val_accuracy: 0.6728\n",
      "Epoch 143/1000\n",
      "32/32 [==============================] - 7s 215ms/step - loss: 0.4470 - accuracy: 0.8723 - val_loss: 1.6302 - val_accuracy: 0.5484\n",
      "Epoch 144/1000\n",
      "32/32 [==============================] - 7s 210ms/step - loss: 0.2669 - accuracy: 0.9126 - val_loss: 1.2570 - val_accuracy: 0.6590\n",
      "Epoch 145/1000\n",
      "32/32 [==============================] - 7s 213ms/step - loss: 0.2008 - accuracy: 0.9183 - val_loss: 1.3056 - val_accuracy: 0.6359\n",
      "Epoch 146/1000\n",
      "32/32 [==============================] - 7s 214ms/step - loss: 0.2832 - accuracy: 0.9065 - val_loss: 1.3268 - val_accuracy: 0.6590\n",
      "Epoch 147/1000\n",
      "32/32 [==============================] - 7s 208ms/step - loss: 0.3561 - accuracy: 0.8746 - val_loss: 0.9146 - val_accuracy: 0.7650\n",
      "Epoch 148/1000\n",
      "32/32 [==============================] - 7s 212ms/step - loss: 0.1700 - accuracy: 0.9378 - val_loss: 1.8662 - val_accuracy: 0.5622\n",
      "Epoch 149/1000\n",
      "32/32 [==============================] - 7s 213ms/step - loss: 0.2535 - accuracy: 0.9201 - val_loss: 1.2945 - val_accuracy: 0.6866\n",
      "Epoch 00149: early stopping\n",
      "Test performance BLSTM: accuracy=0.6833333373069763, loss=1.1518017053604126\n"
     ]
    }
   ],
   "source": [
    "my_callbacks_blstm = [\n",
    "        tf.keras.callbacks.EarlyStopping(monitor='val_loss', mode='min', verbose=1, patience=50),\n",
    "        tf.keras.callbacks.ModelCheckpoint('best_model_bdlstm.h5', monitor='val_loss', mode='min', save_best_only=True,verbouse = 1),\n",
    "        tf.keras.callbacks.TensorBoard(log_dir='./logs'),\n",
    "    ]\n",
    "\n",
    "history_bdlstm=model_bdlstm.fit(\n",
    "    X_train,y_train,\n",
    "    epochs=1000,\n",
    "    batch_size=16,\n",
    "    validation_data=(X_test,y_test),\n",
    "    validation_split=0.3,\n",
    "    callbacks = my_callbacks_blstm,\n",
    "    verbose=1\n",
    ")\n",
    "score_blstm, acc_blstm = model_bdlstm.evaluate(X_test,y_test,batch_size=16,verbose=0)\n",
    "print('Test performance BLSTM: accuracy={0}, loss={1}'.format(acc_blstm, score_blstm))\n",
    " "
   ]
  },
  {
   "cell_type": "markdown",
   "metadata": {},
   "source": [
    "# train gru"
   ]
  },
  {
   "cell_type": "code",
   "execution_count": 31,
   "metadata": {},
   "outputs": [
    {
     "name": "stdout",
     "output_type": "stream",
     "text": [
      "Epoch 1/1000\n",
      "32/32 [==============================] - 8s 136ms/step - loss: 2.9355 - accuracy: 0.0450 - val_loss: 2.7311 - val_accuracy: 0.0645\n",
      "Epoch 2/1000\n",
      "32/32 [==============================] - 3s 98ms/step - loss: 2.7141 - accuracy: 0.0525 - val_loss: 2.6635 - val_accuracy: 0.2673\n",
      "Epoch 3/1000\n",
      "32/32 [==============================] - 3s 101ms/step - loss: 2.6366 - accuracy: 0.1591 - val_loss: 2.5184 - val_accuracy: 0.2442\n",
      "Epoch 4/1000\n",
      "32/32 [==============================] - 3s 99ms/step - loss: 2.4599 - accuracy: 0.2454 - val_loss: 2.2435 - val_accuracy: 0.2488\n",
      "Epoch 5/1000\n",
      "32/32 [==============================] - 3s 101ms/step - loss: 2.2159 - accuracy: 0.2661 - val_loss: 2.1009 - val_accuracy: 0.2949\n",
      "Epoch 6/1000\n",
      "32/32 [==============================] - 3s 101ms/step - loss: 2.0699 - accuracy: 0.3418 - val_loss: 2.1187 - val_accuracy: 0.2765\n",
      "Epoch 7/1000\n",
      "32/32 [==============================] - 3s 102ms/step - loss: 1.9759 - accuracy: 0.3311 - val_loss: 1.8864 - val_accuracy: 0.3548\n",
      "Epoch 8/1000\n",
      "32/32 [==============================] - 3s 107ms/step - loss: 1.8904 - accuracy: 0.3565 - val_loss: 1.7301 - val_accuracy: 0.4240\n",
      "Epoch 9/1000\n",
      "32/32 [==============================] - 3s 101ms/step - loss: 1.7301 - accuracy: 0.4346 - val_loss: 1.7186 - val_accuracy: 0.4101\n",
      "Epoch 10/1000\n",
      "32/32 [==============================] - 3s 103ms/step - loss: 1.5679 - accuracy: 0.4802 - val_loss: 1.5971 - val_accuracy: 0.4700\n",
      "Epoch 11/1000\n",
      "32/32 [==============================] - 3s 102ms/step - loss: 1.5281 - accuracy: 0.4947 - val_loss: 1.4960 - val_accuracy: 0.5945\n",
      "Epoch 12/1000\n",
      "32/32 [==============================] - 3s 104ms/step - loss: 1.3612 - accuracy: 0.5939 - val_loss: 1.4636 - val_accuracy: 0.5576\n",
      "Epoch 13/1000\n",
      "32/32 [==============================] - 3s 105ms/step - loss: 1.4299 - accuracy: 0.5792 - val_loss: 1.5129 - val_accuracy: 0.5300\n",
      "Epoch 14/1000\n",
      "32/32 [==============================] - 3s 101ms/step - loss: 1.4099 - accuracy: 0.5292 - val_loss: 1.3585 - val_accuracy: 0.5760\n",
      "Epoch 15/1000\n",
      "32/32 [==============================] - 3s 102ms/step - loss: 1.3033 - accuracy: 0.5785 - val_loss: 1.3888 - val_accuracy: 0.5438\n",
      "Epoch 16/1000\n",
      "32/32 [==============================] - 3s 102ms/step - loss: 1.2584 - accuracy: 0.6032 - val_loss: 1.2798 - val_accuracy: 0.5945\n",
      "Epoch 17/1000\n",
      "32/32 [==============================] - 3s 104ms/step - loss: 1.1674 - accuracy: 0.6457 - val_loss: 1.2715 - val_accuracy: 0.5991\n",
      "Epoch 18/1000\n",
      "32/32 [==============================] - 3s 104ms/step - loss: 1.1502 - accuracy: 0.6760 - val_loss: 1.1440 - val_accuracy: 0.6728\n",
      "Epoch 19/1000\n",
      "32/32 [==============================] - 3s 101ms/step - loss: 1.0774 - accuracy: 0.6822 - val_loss: 1.1050 - val_accuracy: 0.6912\n",
      "Epoch 20/1000\n",
      "32/32 [==============================] - 3s 102ms/step - loss: 0.9729 - accuracy: 0.7092 - val_loss: 1.2286 - val_accuracy: 0.5899\n",
      "Epoch 21/1000\n",
      "32/32 [==============================] - 3s 101ms/step - loss: 1.0474 - accuracy: 0.6985 - val_loss: 1.1611 - val_accuracy: 0.6590\n",
      "Epoch 22/1000\n",
      "32/32 [==============================] - 3s 104ms/step - loss: 1.0421 - accuracy: 0.6709 - val_loss: 1.0711 - val_accuracy: 0.6221\n",
      "Epoch 23/1000\n",
      "32/32 [==============================] - 3s 102ms/step - loss: 0.9168 - accuracy: 0.7430 - val_loss: 0.9986 - val_accuracy: 0.7281\n",
      "Epoch 24/1000\n",
      "32/32 [==============================] - 3s 102ms/step - loss: 0.8989 - accuracy: 0.7408 - val_loss: 1.0812 - val_accuracy: 0.6728\n",
      "Epoch 25/1000\n",
      "32/32 [==============================] - 3s 102ms/step - loss: 0.9091 - accuracy: 0.7128 - val_loss: 1.1084 - val_accuracy: 0.5806\n",
      "Epoch 26/1000\n",
      "32/32 [==============================] - 3s 101ms/step - loss: 0.9938 - accuracy: 0.6318 - val_loss: 1.1805 - val_accuracy: 0.5945\n",
      "Epoch 27/1000\n",
      "32/32 [==============================] - 3s 104ms/step - loss: 0.9742 - accuracy: 0.6881 - val_loss: 0.9071 - val_accuracy: 0.7465\n",
      "Epoch 28/1000\n",
      "32/32 [==============================] - 3s 100ms/step - loss: 0.7372 - accuracy: 0.7799 - val_loss: 0.8868 - val_accuracy: 0.7558\n",
      "Epoch 29/1000\n",
      "32/32 [==============================] - 3s 102ms/step - loss: 0.8325 - accuracy: 0.7373 - val_loss: 0.8822 - val_accuracy: 0.7327\n",
      "Epoch 30/1000\n",
      "32/32 [==============================] - 3s 102ms/step - loss: 0.7897 - accuracy: 0.7560 - val_loss: 0.7814 - val_accuracy: 0.8018\n",
      "Epoch 31/1000\n",
      "32/32 [==============================] - 3s 100ms/step - loss: 0.6903 - accuracy: 0.7909 - val_loss: 1.0124 - val_accuracy: 0.6544\n",
      "Epoch 32/1000\n",
      "32/32 [==============================] - 3s 107ms/step - loss: 0.8345 - accuracy: 0.7019 - val_loss: 0.9543 - val_accuracy: 0.7005\n",
      "Epoch 33/1000\n",
      "32/32 [==============================] - 3s 101ms/step - loss: 0.7483 - accuracy: 0.7580 - val_loss: 0.7345 - val_accuracy: 0.7880\n",
      "Epoch 34/1000\n",
      "32/32 [==============================] - 3s 104ms/step - loss: 0.6075 - accuracy: 0.8261 - val_loss: 0.8612 - val_accuracy: 0.7097\n",
      "Epoch 35/1000\n",
      "32/32 [==============================] - 3s 101ms/step - loss: 0.7636 - accuracy: 0.7404 - val_loss: 0.8446 - val_accuracy: 0.7465\n",
      "Epoch 36/1000\n",
      "32/32 [==============================] - 3s 101ms/step - loss: 0.6893 - accuracy: 0.7851 - val_loss: 0.6792 - val_accuracy: 0.7972\n",
      "Epoch 37/1000\n",
      "32/32 [==============================] - 3s 107ms/step - loss: 0.5866 - accuracy: 0.8056 - val_loss: 0.7108 - val_accuracy: 0.7604\n",
      "Epoch 38/1000\n",
      "32/32 [==============================] - 3s 103ms/step - loss: 0.5806 - accuracy: 0.8139 - val_loss: 0.9155 - val_accuracy: 0.6866\n",
      "Epoch 39/1000\n",
      "32/32 [==============================] - 3s 105ms/step - loss: 0.7112 - accuracy: 0.7334 - val_loss: 0.7591 - val_accuracy: 0.7558\n",
      "Epoch 40/1000\n",
      "32/32 [==============================] - 3s 104ms/step - loss: 0.5860 - accuracy: 0.8001 - val_loss: 0.8180 - val_accuracy: 0.7189\n",
      "Epoch 41/1000\n",
      "32/32 [==============================] - 3s 107ms/step - loss: 0.6484 - accuracy: 0.7785 - val_loss: 0.9745 - val_accuracy: 0.6359\n",
      "Epoch 42/1000\n",
      "32/32 [==============================] - 3s 104ms/step - loss: 0.7289 - accuracy: 0.7364 - val_loss: 0.6310 - val_accuracy: 0.8295\n",
      "Epoch 43/1000\n",
      "32/32 [==============================] - 3s 107ms/step - loss: 0.5527 - accuracy: 0.8292 - val_loss: 0.6063 - val_accuracy: 0.8387\n",
      "Epoch 44/1000\n",
      "32/32 [==============================] - 3s 101ms/step - loss: 0.4945 - accuracy: 0.8441 - val_loss: 0.6027 - val_accuracy: 0.8249\n",
      "Epoch 45/1000\n",
      "32/32 [==============================] - 3s 101ms/step - loss: 0.5268 - accuracy: 0.8426 - val_loss: 0.5798 - val_accuracy: 0.8295\n",
      "Epoch 46/1000\n",
      "32/32 [==============================] - 3s 109ms/step - loss: 0.5924 - accuracy: 0.7752 - val_loss: 0.6476 - val_accuracy: 0.8065\n",
      "Epoch 47/1000\n",
      "32/32 [==============================] - 3s 106ms/step - loss: 0.4261 - accuracy: 0.8708 - val_loss: 0.6650 - val_accuracy: 0.7742\n",
      "Epoch 48/1000\n",
      "32/32 [==============================] - 3s 103ms/step - loss: 0.4730 - accuracy: 0.8439 - val_loss: 0.5343 - val_accuracy: 0.8525\n",
      "Epoch 49/1000\n",
      "32/32 [==============================] - 3s 105ms/step - loss: 0.5459 - accuracy: 0.8099 - val_loss: 0.6054 - val_accuracy: 0.7880\n",
      "Epoch 50/1000\n",
      "32/32 [==============================] - 4s 115ms/step - loss: 0.4563 - accuracy: 0.8413 - val_loss: 0.6289 - val_accuracy: 0.77425  - ETA: 0s - loss: 0.4498 - accuracy\n",
      "Epoch 51/1000\n",
      "32/32 [==============================] - 3s 109ms/step - loss: 0.4918 - accuracy: 0.8226 - val_loss: 0.5877 - val_accuracy: 0.7926\n",
      "Epoch 52/1000\n",
      "32/32 [==============================] - 3s 105ms/step - loss: 0.4445 - accuracy: 0.8347 - val_loss: 0.7807 - val_accuracy: 0.7972\n",
      "Epoch 53/1000\n",
      "32/32 [==============================] - 3s 104ms/step - loss: 0.4936 - accuracy: 0.8395 - val_loss: 0.5472 - val_accuracy: 0.8387\n",
      "Epoch 54/1000\n",
      "32/32 [==============================] - 3s 105ms/step - loss: 0.3628 - accuracy: 0.8818 - val_loss: 0.4808 - val_accuracy: 0.8802\n",
      "Epoch 55/1000\n",
      "32/32 [==============================] - 3s 106ms/step - loss: 0.3629 - accuracy: 0.8894 - val_loss: 0.4620 - val_accuracy: 0.8525\n",
      "Epoch 56/1000\n",
      "32/32 [==============================] - 3s 110ms/step - loss: 0.3392 - accuracy: 0.9100 - val_loss: 0.4562 - val_accuracy: 0.8571\n",
      "Epoch 57/1000\n",
      "32/32 [==============================] - 3s 103ms/step - loss: 0.4027 - accuracy: 0.8507 - val_loss: 0.6432 - val_accuracy: 0.7972\n",
      "Epoch 58/1000\n",
      "32/32 [==============================] - 3s 101ms/step - loss: 0.4777 - accuracy: 0.8224 - val_loss: 0.6239 - val_accuracy: 0.7742\n",
      "Epoch 59/1000\n",
      "32/32 [==============================] - 3s 101ms/step - loss: 0.4472 - accuracy: 0.8173 - val_loss: 0.5100 - val_accuracy: 0.8249\n",
      "Epoch 60/1000\n",
      "32/32 [==============================] - 3s 102ms/step - loss: 0.4873 - accuracy: 0.8147 - val_loss: 0.4809 - val_accuracy: 0.8525\n",
      "Epoch 61/1000\n",
      "32/32 [==============================] - 3s 104ms/step - loss: 0.3706 - accuracy: 0.8586 - val_loss: 0.6992 - val_accuracy: 0.7512\n",
      "Epoch 62/1000\n",
      "32/32 [==============================] - 3s 103ms/step - loss: 0.3491 - accuracy: 0.8650 - val_loss: 0.4309 - val_accuracy: 0.8618\n",
      "Epoch 63/1000\n",
      "32/32 [==============================] - 3s 101ms/step - loss: 0.3673 - accuracy: 0.8707 - val_loss: 0.4891 - val_accuracy: 0.8479\n",
      "Epoch 64/1000\n",
      "32/32 [==============================] - 3s 102ms/step - loss: 0.4121 - accuracy: 0.8709 - val_loss: 0.6885 - val_accuracy: 0.7834\n",
      "Epoch 65/1000\n",
      "32/32 [==============================] - 3s 105ms/step - loss: 0.3555 - accuracy: 0.8714 - val_loss: 0.4258 - val_accuracy: 0.8571\n",
      "Epoch 66/1000\n",
      "32/32 [==============================] - 3s 104ms/step - loss: 0.3133 - accuracy: 0.8939 - val_loss: 0.4720 - val_accuracy: 0.8571\n",
      "Epoch 67/1000\n",
      "32/32 [==============================] - 3s 101ms/step - loss: 0.3378 - accuracy: 0.8750 - val_loss: 0.4371 - val_accuracy: 0.8756\n",
      "Epoch 68/1000\n",
      "32/32 [==============================] - 3s 103ms/step - loss: 0.4050 - accuracy: 0.8344 - val_loss: 0.6182 - val_accuracy: 0.7604\n",
      "Epoch 69/1000\n",
      "32/32 [==============================] - 3s 101ms/step - loss: 0.5044 - accuracy: 0.8108 - val_loss: 0.8601 - val_accuracy: 0.7373\n",
      "Epoch 70/1000\n",
      "32/32 [==============================] - 3s 104ms/step - loss: 0.5135 - accuracy: 0.8247 - val_loss: 0.5493 - val_accuracy: 0.7926\n",
      "Epoch 71/1000\n",
      "32/32 [==============================] - 3s 106ms/step - loss: 0.3831 - accuracy: 0.8612 - val_loss: 0.4767 - val_accuracy: 0.8802\n",
      "Epoch 72/1000\n",
      "32/32 [==============================] - 3s 101ms/step - loss: 0.3271 - accuracy: 0.8950 - val_loss: 0.4721 - val_accuracy: 0.8479\n",
      "Epoch 73/1000\n",
      "32/32 [==============================] - 3s 101ms/step - loss: 0.2771 - accuracy: 0.9004 - val_loss: 0.4369 - val_accuracy: 0.8802\n",
      "Epoch 74/1000\n",
      "32/32 [==============================] - 3s 102ms/step - loss: 0.2740 - accuracy: 0.9108 - val_loss: 0.5633 - val_accuracy: 0.8571\n",
      "Epoch 75/1000\n",
      "32/32 [==============================] - 3s 110ms/step - loss: 0.3892 - accuracy: 0.8768 - val_loss: 0.4825 - val_accuracy: 0.8756\n",
      "Epoch 76/1000\n",
      "32/32 [==============================] - 3s 109ms/step - loss: 0.2868 - accuracy: 0.8950 - val_loss: 0.5219 - val_accuracy: 0.8111\n",
      "Epoch 77/1000\n",
      "32/32 [==============================] - 3s 106ms/step - loss: 0.3535 - accuracy: 0.8575 - val_loss: 0.4867 - val_accuracy: 0.8249\n",
      "Epoch 78/1000\n",
      "32/32 [==============================] - 3s 108ms/step - loss: 0.3165 - accuracy: 0.8877 - val_loss: 0.6074 - val_accuracy: 0.8018\n",
      "Epoch 79/1000\n",
      "32/32 [==============================] - 4s 110ms/step - loss: 0.3989 - accuracy: 0.8458 - val_loss: 0.5381 - val_accuracy: 0.8341\n",
      "Epoch 80/1000\n",
      "32/32 [==============================] - 4s 112ms/step - loss: 0.3249 - accuracy: 0.8815 - val_loss: 0.5001 - val_accuracy: 0.8479\n",
      "Epoch 81/1000\n",
      "32/32 [==============================] - 3s 107ms/step - loss: 0.3829 - accuracy: 0.8301 - val_loss: 0.5594 - val_accuracy: 0.8249\n",
      "Epoch 82/1000\n",
      "32/32 [==============================] - 3s 105ms/step - loss: 0.3404 - accuracy: 0.8749 - val_loss: 0.4624 - val_accuracy: 0.8341\n",
      "Epoch 83/1000\n",
      "32/32 [==============================] - 3s 109ms/step - loss: 0.3378 - accuracy: 0.8597 - val_loss: 0.7233 - val_accuracy: 0.7696\n",
      "Epoch 84/1000\n",
      "32/32 [==============================] - 4s 110ms/step - loss: 0.4761 - accuracy: 0.8058 - val_loss: 0.5071 - val_accuracy: 0.8756\n",
      "Epoch 85/1000\n",
      "32/32 [==============================] - 3s 107ms/step - loss: 0.3193 - accuracy: 0.8984 - val_loss: 0.6550 - val_accuracy: 0.8111\n",
      "Epoch 86/1000\n",
      "32/32 [==============================] - 3s 105ms/step - loss: 0.4067 - accuracy: 0.8476 - val_loss: 0.4232 - val_accuracy: 0.8894\n",
      "Epoch 87/1000\n",
      "32/32 [==============================] - 3s 106ms/step - loss: 0.2901 - accuracy: 0.8946 - val_loss: 0.4201 - val_accuracy: 0.8848\n",
      "Epoch 88/1000\n",
      "32/32 [==============================] - 3s 107ms/step - loss: 0.4415 - accuracy: 0.8029 - val_loss: 0.4594 - val_accuracy: 0.8710\n",
      "Epoch 89/1000\n",
      "32/32 [==============================] - 4s 113ms/step - loss: 0.3757 - accuracy: 0.8462 - val_loss: 0.6091 - val_accuracy: 0.8065\n",
      "Epoch 90/1000\n",
      "32/32 [==============================] - 3s 108ms/step - loss: 0.3771 - accuracy: 0.8620 - val_loss: 0.4096 - val_accuracy: 0.8894\n",
      "Epoch 91/1000\n",
      "32/32 [==============================] - 3s 105ms/step - loss: 0.2708 - accuracy: 0.8894 - val_loss: 0.4410 - val_accuracy: 0.8433\n",
      "Epoch 92/1000\n",
      "32/32 [==============================] - 3s 109ms/step - loss: 0.2453 - accuracy: 0.9046 - val_loss: 0.8332 - val_accuracy: 0.7327\n",
      "Epoch 93/1000\n",
      "32/32 [==============================] - 3s 109ms/step - loss: 0.4646 - accuracy: 0.8124 - val_loss: 0.5371 - val_accuracy: 0.8433\n",
      "Epoch 94/1000\n",
      "32/32 [==============================] - 4s 110ms/step - loss: 0.2456 - accuracy: 0.9087 - val_loss: 0.4114 - val_accuracy: 0.8710\n",
      "Epoch 95/1000\n",
      "32/32 [==============================] - 3s 108ms/step - loss: 0.2512 - accuracy: 0.8953 - val_loss: 0.4306 - val_accuracy: 0.8940\n",
      "Epoch 96/1000\n",
      "32/32 [==============================] - 3s 108ms/step - loss: 0.2494 - accuracy: 0.9266 - val_loss: 0.4124 - val_accuracy: 0.8710\n",
      "Epoch 97/1000\n",
      "32/32 [==============================] - 3s 108ms/step - loss: 0.2465 - accuracy: 0.9157 - val_loss: 0.3915 - val_accuracy: 0.8479\n",
      "Epoch 98/1000\n",
      "32/32 [==============================] - 4s 111ms/step - loss: 0.2483 - accuracy: 0.8972 - val_loss: 0.4100 - val_accuracy: 0.8940\n",
      "Epoch 99/1000\n",
      "32/32 [==============================] - 3s 107ms/step - loss: 0.3006 - accuracy: 0.8819 - val_loss: 0.4066 - val_accuracy: 0.8848\n",
      "Epoch 100/1000\n",
      "32/32 [==============================] - 3s 108ms/step - loss: 0.2354 - accuracy: 0.9132 - val_loss: 0.4311 - val_accuracy: 0.8894\n",
      "Epoch 101/1000\n",
      "32/32 [==============================] - 3s 108ms/step - loss: 0.2513 - accuracy: 0.9131 - val_loss: 0.4320 - val_accuracy: 0.8618\n",
      "Epoch 102/1000\n",
      "32/32 [==============================] - 3s 106ms/step - loss: 0.2416 - accuracy: 0.8997 - val_loss: 0.4046 - val_accuracy: 0.8894\n",
      "Epoch 103/1000\n",
      "32/32 [==============================] - 4s 111ms/step - loss: 0.2726 - accuracy: 0.9161 - val_loss: 0.4746 - val_accuracy: 0.8157\n",
      "Epoch 104/1000\n",
      "32/32 [==============================] - 3s 107ms/step - loss: 0.3046 - accuracy: 0.8816 - val_loss: 0.5717 - val_accuracy: 0.8018\n",
      "Epoch 105/1000\n",
      "32/32 [==============================] - 3s 109ms/step - loss: 0.2880 - accuracy: 0.8845 - val_loss: 0.5511 - val_accuracy: 0.8618\n",
      "Epoch 106/1000\n",
      "32/32 [==============================] - 3s 109ms/step - loss: 0.2582 - accuracy: 0.9068 - val_loss: 0.4441 - val_accuracy: 0.8802\n",
      "Epoch 107/1000\n",
      "32/32 [==============================] - 4s 112ms/step - loss: 0.1894 - accuracy: 0.9381 - val_loss: 0.5369 - val_accuracy: 0.8433\n",
      "Epoch 108/1000\n",
      "32/32 [==============================] - 4s 111ms/step - loss: 0.1771 - accuracy: 0.9617 - val_loss: 0.3854 - val_accuracy: 0.9078\n",
      "Epoch 109/1000\n",
      "32/32 [==============================] - 4s 111ms/step - loss: 0.1637 - accuracy: 0.9581 - val_loss: 0.3946 - val_accuracy: 0.9032\n",
      "Epoch 110/1000\n",
      "32/32 [==============================] - 3s 108ms/step - loss: 0.1889 - accuracy: 0.9360 - val_loss: 0.5700 - val_accuracy: 0.8065\n",
      "Epoch 111/1000\n",
      "32/32 [==============================] - 3s 110ms/step - loss: 0.3256 - accuracy: 0.8549 - val_loss: 0.4034 - val_accuracy: 0.8433\n",
      "Epoch 112/1000\n",
      "32/32 [==============================] - 4s 113ms/step - loss: 0.2515 - accuracy: 0.9138 - val_loss: 0.3932 - val_accuracy: 0.8848\n",
      "Epoch 113/1000\n"
     ]
    },
    {
     "name": "stdout",
     "output_type": "stream",
     "text": [
      "32/32 [==============================] - 3s 105ms/step - loss: 0.1843 - accuracy: 0.9427 - val_loss: 0.3771 - val_accuracy: 0.8940\n",
      "Epoch 114/1000\n",
      "32/32 [==============================] - 3s 104ms/step - loss: 0.1691 - accuracy: 0.9342 - val_loss: 0.4398 - val_accuracy: 0.8710\n",
      "Epoch 115/1000\n",
      "32/32 [==============================] - 3s 105ms/step - loss: 0.3126 - accuracy: 0.8819 - val_loss: 0.4694 - val_accuracy: 0.8756\n",
      "Epoch 116/1000\n",
      "32/32 [==============================] - 3s 106ms/step - loss: 0.1981 - accuracy: 0.9314 - val_loss: 0.8672 - val_accuracy: 0.7281\n",
      "Epoch 117/1000\n",
      "32/32 [==============================] - 3s 107ms/step - loss: 0.4310 - accuracy: 0.8241 - val_loss: 0.5645 - val_accuracy: 0.8157\n",
      "Epoch 118/1000\n",
      "32/32 [==============================] - 3s 105ms/step - loss: 0.3548 - accuracy: 0.8637 - val_loss: 0.5215 - val_accuracy: 0.8479\n",
      "Epoch 119/1000\n",
      "32/32 [==============================] - 3s 107ms/step - loss: 0.2545 - accuracy: 0.8872 - val_loss: 0.3963 - val_accuracy: 0.8894\n",
      "Epoch 120/1000\n",
      "32/32 [==============================] - 3s 105ms/step - loss: 0.1830 - accuracy: 0.9458 - val_loss: 0.4084 - val_accuracy: 0.8710\n",
      "Epoch 121/1000\n",
      "32/32 [==============================] - 3s 109ms/step - loss: 0.2100 - accuracy: 0.9211 - val_loss: 0.3768 - val_accuracy: 0.8894\n",
      "Epoch 122/1000\n",
      "32/32 [==============================] - 3s 107ms/step - loss: 0.1870 - accuracy: 0.9491 - val_loss: 0.3934 - val_accuracy: 0.8756\n",
      "Epoch 123/1000\n",
      "32/32 [==============================] - 3s 104ms/step - loss: 0.1789 - accuracy: 0.9402 - val_loss: 0.3958 - val_accuracy: 0.8986\n",
      "Epoch 124/1000\n",
      "32/32 [==============================] - 3s 109ms/step - loss: 0.1624 - accuracy: 0.9444 - val_loss: 0.4440 - val_accuracy: 0.8433\n",
      "Epoch 125/1000\n",
      "32/32 [==============================] - 3s 105ms/step - loss: 0.2517 - accuracy: 0.8969 - val_loss: 0.5743 - val_accuracy: 0.8341\n",
      "Epoch 126/1000\n",
      "32/32 [==============================] - 3s 108ms/step - loss: 0.2532 - accuracy: 0.9058 - val_loss: 0.6819 - val_accuracy: 0.7742\n",
      "Epoch 127/1000\n",
      "32/32 [==============================] - 3s 106ms/step - loss: 0.2884 - accuracy: 0.8831 - val_loss: 0.6986 - val_accuracy: 0.7742\n",
      "Epoch 128/1000\n",
      "32/32 [==============================] - 3s 107ms/step - loss: 0.3335 - accuracy: 0.8772 - val_loss: 0.3896 - val_accuracy: 0.8802\n",
      "Epoch 129/1000\n",
      "32/32 [==============================] - 3s 110ms/step - loss: 0.2258 - accuracy: 0.9234 - val_loss: 0.4491 - val_accuracy: 0.8618\n",
      "Epoch 130/1000\n",
      "32/32 [==============================] - 3s 106ms/step - loss: 0.1711 - accuracy: 0.9428 - val_loss: 0.3883 - val_accuracy: 0.9078\n",
      "Epoch 131/1000\n",
      "32/32 [==============================] - 4s 111ms/step - loss: 0.1691 - accuracy: 0.9425 - val_loss: 0.3960 - val_accuracy: 0.9078\n",
      "Epoch 132/1000\n",
      "32/32 [==============================] - 3s 108ms/step - loss: 0.2092 - accuracy: 0.9054 - val_loss: 0.4281 - val_accuracy: 0.8618\n",
      "Epoch 133/1000\n",
      "32/32 [==============================] - 3s 106ms/step - loss: 0.2537 - accuracy: 0.9073 - val_loss: 0.5559 - val_accuracy: 0.8433\n",
      "Epoch 134/1000\n",
      "32/32 [==============================] - 3s 107ms/step - loss: 0.1739 - accuracy: 0.9389 - val_loss: 0.3828 - val_accuracy: 0.9124\n",
      "Epoch 135/1000\n",
      "32/32 [==============================] - 4s 111ms/step - loss: 0.2266 - accuracy: 0.9007 - val_loss: 0.5063 - val_accuracy: 0.8203\n",
      "Epoch 136/1000\n",
      "32/32 [==============================] - 3s 109ms/step - loss: 0.1981 - accuracy: 0.9240 - val_loss: 0.5194 - val_accuracy: 0.8387\n",
      "Epoch 137/1000\n",
      "32/32 [==============================] - 4s 110ms/step - loss: 0.1844 - accuracy: 0.9447 - val_loss: 0.4360 - val_accuracy: 0.8802\n",
      "Epoch 138/1000\n",
      "32/32 [==============================] - 3s 106ms/step - loss: 0.1489 - accuracy: 0.9456 - val_loss: 0.4138 - val_accuracy: 0.8802\n",
      "Epoch 139/1000\n",
      "32/32 [==============================] - 3s 106ms/step - loss: 0.1671 - accuracy: 0.9384 - val_loss: 0.4248 - val_accuracy: 0.8756\n",
      "Epoch 140/1000\n",
      "32/32 [==============================] - 4s 110ms/step - loss: 0.2251 - accuracy: 0.9154 - val_loss: 0.4515 - val_accuracy: 0.8756\n",
      "Epoch 141/1000\n",
      "32/32 [==============================] - 3s 106ms/step - loss: 0.1477 - accuracy: 0.9540 - val_loss: 0.3902 - val_accuracy: 0.8940\n",
      "Epoch 142/1000\n",
      "32/32 [==============================] - 3s 106ms/step - loss: 0.1285 - accuracy: 0.9600 - val_loss: 0.4104 - val_accuracy: 0.8940\n",
      "Epoch 143/1000\n",
      "32/32 [==============================] - 3s 107ms/step - loss: 0.1463 - accuracy: 0.9466 - val_loss: 0.4369 - val_accuracy: 0.8848\n",
      "Epoch 144/1000\n",
      "32/32 [==============================] - 3s 107ms/step - loss: 0.1452 - accuracy: 0.9517 - val_loss: 0.4814 - val_accuracy: 0.8664\n",
      "Epoch 145/1000\n",
      "32/32 [==============================] - 4s 110ms/step - loss: 0.1667 - accuracy: 0.9413 - val_loss: 0.4350 - val_accuracy: 0.8894\n",
      "Epoch 146/1000\n",
      "32/32 [==============================] - 3s 107ms/step - loss: 0.2754 - accuracy: 0.8852 - val_loss: 0.7211 - val_accuracy: 0.7788\n",
      "Epoch 147/1000\n",
      "32/32 [==============================] - 3s 107ms/step - loss: 0.2791 - accuracy: 0.8863 - val_loss: 0.4073 - val_accuracy: 0.8756\n",
      "Epoch 148/1000\n",
      "32/32 [==============================] - 4s 116ms/step - loss: 0.1544 - accuracy: 0.9327 - val_loss: 0.3669 - val_accuracy: 0.9171\n",
      "Epoch 149/1000\n",
      "32/32 [==============================] - 4s 114ms/step - loss: 0.2091 - accuracy: 0.9145 - val_loss: 0.4754 - val_accuracy: 0.8802\n",
      "Epoch 150/1000\n",
      "32/32 [==============================] - 4s 111ms/step - loss: 0.1733 - accuracy: 0.9410 - val_loss: 0.4968 - val_accuracy: 0.8249\n",
      "Epoch 151/1000\n",
      "32/32 [==============================] - 4s 111ms/step - loss: 0.1944 - accuracy: 0.9170 - val_loss: 0.6390 - val_accuracy: 0.8433\n",
      "Epoch 152/1000\n",
      "32/32 [==============================] - 4s 110ms/step - loss: 0.2809 - accuracy: 0.8944 - val_loss: 0.4619 - val_accuracy: 0.8756\n",
      "Epoch 153/1000\n",
      "32/32 [==============================] - 3s 107ms/step - loss: 0.4311 - accuracy: 0.8446 - val_loss: 0.7982 - val_accuracy: 0.7558\n",
      "Epoch 154/1000\n",
      "32/32 [==============================] - 4s 113ms/step - loss: 0.4265 - accuracy: 0.8501 - val_loss: 0.6467 - val_accuracy: 0.7834\n",
      "Epoch 155/1000\n",
      "32/32 [==============================] - 3s 110ms/step - loss: 0.2590 - accuracy: 0.8978 - val_loss: 0.5412 - val_accuracy: 0.8479\n",
      "Epoch 156/1000\n",
      "32/32 [==============================] - 3s 109ms/step - loss: 0.2294 - accuracy: 0.9091 - val_loss: 0.4143 - val_accuracy: 0.8756\n",
      "Epoch 157/1000\n",
      "32/32 [==============================] - 3s 109ms/step - loss: 0.1558 - accuracy: 0.9461 - val_loss: 0.3674 - val_accuracy: 0.8894\n",
      "Epoch 158/1000\n",
      "32/32 [==============================] - 4s 117ms/step - loss: 0.1043 - accuracy: 0.9750 - val_loss: 0.3759 - val_accuracy: 0.8986\n",
      "Epoch 159/1000\n",
      "32/32 [==============================] - 4s 110ms/step - loss: 0.1044 - accuracy: 0.9701 - val_loss: 0.4272 - val_accuracy: 0.8802\n",
      "Epoch 160/1000\n",
      "32/32 [==============================] - 4s 110ms/step - loss: 0.1261 - accuracy: 0.9631 - val_loss: 0.4640 - val_accuracy: 0.8756\n",
      "Epoch 161/1000\n",
      "32/32 [==============================] - 4s 111ms/step - loss: 0.1342 - accuracy: 0.9485 - val_loss: 0.3923 - val_accuracy: 0.8802\n",
      "Epoch 162/1000\n",
      "32/32 [==============================] - 3s 109ms/step - loss: 0.1154 - accuracy: 0.9668 - val_loss: 0.4027 - val_accuracy: 0.8848\n",
      "Epoch 163/1000\n",
      "32/32 [==============================] - 4s 115ms/step - loss: 0.1263 - accuracy: 0.9734 - val_loss: 0.4619 - val_accuracy: 0.8710\n",
      "Epoch 164/1000\n",
      "32/32 [==============================] - 4s 114ms/step - loss: 0.1588 - accuracy: 0.9482 - val_loss: 0.4112 - val_accuracy: 0.8848\n",
      "Epoch 165/1000\n",
      "32/32 [==============================] - 4s 120ms/step - loss: 0.1604 - accuracy: 0.9248 - val_loss: 0.5828 - val_accuracy: 0.8203\n",
      "Epoch 166/1000\n",
      "32/32 [==============================] - 4s 116ms/step - loss: 0.1794 - accuracy: 0.9381 - val_loss: 0.4088 - val_accuracy: 0.8848\n",
      "Epoch 167/1000\n",
      "32/32 [==============================] - 4s 117ms/step - loss: 0.1302 - accuracy: 0.9523 - val_loss: 0.4713 - val_accuracy: 0.8571\n",
      "Epoch 168/1000\n",
      "32/32 [==============================] - 4s 115ms/step - loss: 0.1837 - accuracy: 0.9130 - val_loss: 0.4560 - val_accuracy: 0.8571\n",
      "Epoch 169/1000\n",
      "32/32 [==============================] - 4s 113ms/step - loss: 0.1607 - accuracy: 0.9423 - val_loss: 0.5733 - val_accuracy: 0.8295\n",
      "Epoch 170/1000\n",
      "32/32 [==============================] - 4s 113ms/step - loss: 0.2679 - accuracy: 0.8929 - val_loss: 0.4539 - val_accuracy: 0.8802\n",
      "Epoch 171/1000\n",
      "32/32 [==============================] - 4s 113ms/step - loss: 0.1297 - accuracy: 0.9661 - val_loss: 0.7985 - val_accuracy: 0.7696\n",
      "Epoch 172/1000\n",
      "32/32 [==============================] - 4s 113ms/step - loss: 0.1958 - accuracy: 0.9202 - val_loss: 0.5696 - val_accuracy: 0.8249\n",
      "Epoch 173/1000\n",
      "32/32 [==============================] - 3s 109ms/step - loss: 0.1376 - accuracy: 0.9469 - val_loss: 0.5442 - val_accuracy: 0.8756\n",
      "Epoch 174/1000\n",
      "32/32 [==============================] - 4s 110ms/step - loss: 0.1424 - accuracy: 0.9464 - val_loss: 0.4993 - val_accuracy: 0.8710\n",
      "Epoch 175/1000\n",
      "32/32 [==============================] - 3s 109ms/step - loss: 0.1908 - accuracy: 0.9436 - val_loss: 0.5424 - val_accuracy: 0.8479\n",
      "Epoch 176/1000\n",
      "32/32 [==============================] - 4s 113ms/step - loss: 0.1719 - accuracy: 0.9275 - val_loss: 0.5394 - val_accuracy: 0.8341\n",
      "Epoch 177/1000\n",
      "32/32 [==============================] - 3s 109ms/step - loss: 0.3502 - accuracy: 0.8778 - val_loss: 0.5450 - val_accuracy: 0.8479\n",
      "Epoch 178/1000\n",
      "32/32 [==============================] - 4s 116ms/step - loss: 0.2200 - accuracy: 0.9268 - val_loss: 0.4611 - val_accuracy: 0.8664\n",
      "Epoch 179/1000\n",
      "32/32 [==============================] - 4s 112ms/step - loss: 0.1383 - accuracy: 0.9455 - val_loss: 0.3896 - val_accuracy: 0.8710\n",
      "Epoch 180/1000\n",
      "32/32 [==============================] - 3s 107ms/step - loss: 0.1449 - accuracy: 0.9378 - val_loss: 0.4572 - val_accuracy: 0.8802\n",
      "Epoch 181/1000\n",
      "32/32 [==============================] - 3s 108ms/step - loss: 0.1044 - accuracy: 0.9641 - val_loss: 0.3491 - val_accuracy: 0.8802\n",
      "Epoch 182/1000\n",
      "32/32 [==============================] - 3s 106ms/step - loss: 0.0754 - accuracy: 0.9826 - val_loss: 0.5302 - val_accuracy: 0.8295\n",
      "Epoch 183/1000\n",
      "32/32 [==============================] - 3s 108ms/step - loss: 0.2069 - accuracy: 0.9096 - val_loss: 0.4301 - val_accuracy: 0.8664\n",
      "Epoch 184/1000\n",
      "32/32 [==============================] - 3s 106ms/step - loss: 0.1169 - accuracy: 0.9547 - val_loss: 0.5166 - val_accuracy: 0.8433\n",
      "Epoch 185/1000\n",
      "32/32 [==============================] - 3s 110ms/step - loss: 0.1536 - accuracy: 0.9424 - val_loss: 0.4376 - val_accuracy: 0.8940\n",
      "Epoch 186/1000\n",
      "32/32 [==============================] - 3s 108ms/step - loss: 0.1191 - accuracy: 0.9651 - val_loss: 0.3864 - val_accuracy: 0.8848\n",
      "Epoch 187/1000\n",
      "32/32 [==============================] - 3s 107ms/step - loss: 0.1789 - accuracy: 0.9245 - val_loss: 0.4531 - val_accuracy: 0.8848\n",
      "Epoch 188/1000\n",
      "32/32 [==============================] - 3s 105ms/step - loss: 0.1081 - accuracy: 0.9648 - val_loss: 0.3919 - val_accuracy: 0.8756\n",
      "Epoch 189/1000\n",
      "32/32 [==============================] - 3s 107ms/step - loss: 0.0843 - accuracy: 0.9760 - val_loss: 0.6083 - val_accuracy: 0.8157\n",
      "Epoch 190/1000\n",
      "32/32 [==============================] - 4s 111ms/step - loss: 0.1571 - accuracy: 0.9493 - val_loss: 0.3927 - val_accuracy: 0.9078\n",
      "Epoch 191/1000\n",
      "32/32 [==============================] - 3s 108ms/step - loss: 0.1270 - accuracy: 0.9585 - val_loss: 0.4444 - val_accuracy: 0.8710\n",
      "Epoch 192/1000\n",
      "32/32 [==============================] - 3s 109ms/step - loss: 0.1894 - accuracy: 0.9367 - val_loss: 0.5876 - val_accuracy: 0.8203\n",
      "Epoch 193/1000\n",
      "32/32 [==============================] - 3s 106ms/step - loss: 0.1737 - accuracy: 0.9488 - val_loss: 0.3811 - val_accuracy: 0.9078\n",
      "Epoch 194/1000\n",
      "32/32 [==============================] - 3s 110ms/step - loss: 0.1004 - accuracy: 0.9699 - val_loss: 0.4039 - val_accuracy: 0.8940\n",
      "Epoch 195/1000\n",
      "32/32 [==============================] - 4s 112ms/step - loss: 0.1428 - accuracy: 0.9552 - val_loss: 0.3544 - val_accuracy: 0.9032\n",
      "Epoch 196/1000\n",
      "32/32 [==============================] - 3s 109ms/step - loss: 0.0811 - accuracy: 0.9806 - val_loss: 0.3675 - val_accuracy: 0.9078\n",
      "Epoch 197/1000\n",
      "32/32 [==============================] - 3s 107ms/step - loss: 0.0702 - accuracy: 0.9853 - val_loss: 0.5301 - val_accuracy: 0.8525\n",
      "Epoch 198/1000\n",
      "32/32 [==============================] - 3s 108ms/step - loss: 0.1560 - accuracy: 0.9346 - val_loss: 0.4183 - val_accuracy: 0.8940\n",
      "Epoch 199/1000\n",
      "32/32 [==============================] - 4s 112ms/step - loss: 0.0930 - accuracy: 0.9720 - val_loss: 0.4453 - val_accuracy: 0.8848\n",
      "Epoch 200/1000\n",
      "32/32 [==============================] - 3s 107ms/step - loss: 0.1318 - accuracy: 0.9520 - val_loss: 0.4577 - val_accuracy: 0.8710\n",
      "Epoch 201/1000\n",
      "32/32 [==============================] - 3s 107ms/step - loss: 0.0820 - accuracy: 0.9915 - val_loss: 0.3714 - val_accuracy: 0.9078\n",
      "Epoch 202/1000\n",
      "32/32 [==============================] - 3s 107ms/step - loss: 0.0827 - accuracy: 0.9760 - val_loss: 0.4558 - val_accuracy: 0.8756\n",
      "Epoch 203/1000\n",
      "32/32 [==============================] - 3s 108ms/step - loss: 0.0902 - accuracy: 0.9715 - val_loss: 0.3466 - val_accuracy: 0.9124\n",
      "Epoch 204/1000\n",
      "32/32 [==============================] - 4s 113ms/step - loss: 0.0802 - accuracy: 0.9784 - val_loss: 0.3803 - val_accuracy: 0.9032\n",
      "Epoch 205/1000\n",
      "32/32 [==============================] - 3s 108ms/step - loss: 0.0650 - accuracy: 0.9877 - val_loss: 0.6189 - val_accuracy: 0.8571\n",
      "Epoch 206/1000\n",
      "32/32 [==============================] - 3s 105ms/step - loss: 0.1219 - accuracy: 0.9597 - val_loss: 0.5179 - val_accuracy: 0.8802\n",
      "Epoch 207/1000\n",
      "32/32 [==============================] - 3s 105ms/step - loss: 0.1325 - accuracy: 0.9621 - val_loss: 0.4658 - val_accuracy: 0.8802\n",
      "Epoch 208/1000\n",
      "32/32 [==============================] - 3s 107ms/step - loss: 0.1511 - accuracy: 0.9401 - val_loss: 0.4036 - val_accuracy: 0.8940\n",
      "Epoch 209/1000\n",
      "32/32 [==============================] - 3s 109ms/step - loss: 0.0940 - accuracy: 0.9713 - val_loss: 0.5119 - val_accuracy: 0.8664\n",
      "Epoch 210/1000\n",
      "32/32 [==============================] - 3s 108ms/step - loss: 0.1181 - accuracy: 0.9547 - val_loss: 0.5418 - val_accuracy: 0.8295\n",
      "Epoch 211/1000\n",
      "32/32 [==============================] - 3s 104ms/step - loss: 0.1728 - accuracy: 0.9526 - val_loss: 0.5581 - val_accuracy: 0.8433\n",
      "Epoch 212/1000\n",
      "32/32 [==============================] - 3s 106ms/step - loss: 0.1035 - accuracy: 0.9633 - val_loss: 0.6360 - val_accuracy: 0.8065\n",
      "Epoch 213/1000\n",
      "32/32 [==============================] - 4s 110ms/step - loss: 0.2572 - accuracy: 0.9093 - val_loss: 0.5918 - val_accuracy: 0.8664\n",
      "Epoch 214/1000\n",
      "32/32 [==============================] - 3s 109ms/step - loss: 0.1183 - accuracy: 0.9673 - val_loss: 0.4565 - val_accuracy: 0.8802\n",
      "Epoch 215/1000\n",
      "32/32 [==============================] - 4s 111ms/step - loss: 0.1089 - accuracy: 0.9628 - val_loss: 0.3723 - val_accuracy: 0.9124\n",
      "Epoch 216/1000\n",
      "32/32 [==============================] - 3s 109ms/step - loss: 0.0596 - accuracy: 0.9864 - val_loss: 0.3465 - val_accuracy: 0.8986\n",
      "Epoch 217/1000\n",
      "32/32 [==============================] - 3s 107ms/step - loss: 0.0689 - accuracy: 0.9806 - val_loss: 0.3608 - val_accuracy: 0.9032\n",
      "Epoch 218/1000\n",
      "32/32 [==============================] - 4s 111ms/step - loss: 0.0693 - accuracy: 0.9842 - val_loss: 0.3653 - val_accuracy: 0.9124\n",
      "Epoch 219/1000\n",
      "32/32 [==============================] - 3s 107ms/step - loss: 0.0644 - accuracy: 0.9842 - val_loss: 0.3263 - val_accuracy: 0.9171\n",
      "Epoch 220/1000\n",
      "32/32 [==============================] - 3s 106ms/step - loss: 0.0407 - accuracy: 0.9924 - val_loss: 0.4155 - val_accuracy: 0.8894\n",
      "Epoch 221/1000\n",
      "32/32 [==============================] - 3s 108ms/step - loss: 0.0545 - accuracy: 0.9864 - val_loss: 0.3602 - val_accuracy: 0.9078\n",
      "Epoch 222/1000\n",
      "32/32 [==============================] - 4s 110ms/step - loss: 0.0547 - accuracy: 0.9917 - val_loss: 0.4581 - val_accuracy: 0.8756\n",
      "Epoch 223/1000\n",
      "32/32 [==============================] - 3s 109ms/step - loss: 0.0856 - accuracy: 0.9678 - val_loss: 0.4261 - val_accuracy: 0.8940\n",
      "Epoch 224/1000\n",
      "32/32 [==============================] - 4s 110ms/step - loss: 0.0681 - accuracy: 0.9792 - val_loss: 0.4752 - val_accuracy: 0.8664\n",
      "Epoch 225/1000\n"
     ]
    },
    {
     "name": "stdout",
     "output_type": "stream",
     "text": [
      "32/32 [==============================] - 3s 104ms/step - loss: 0.1103 - accuracy: 0.9641 - val_loss: 0.3469 - val_accuracy: 0.9217\n",
      "Epoch 226/1000\n",
      "32/32 [==============================] - 3s 105ms/step - loss: 0.0642 - accuracy: 0.9804 - val_loss: 0.3877 - val_accuracy: 0.9032\n",
      "Epoch 227/1000\n",
      "32/32 [==============================] - 4s 111ms/step - loss: 0.0938 - accuracy: 0.9675 - val_loss: 0.3826 - val_accuracy: 0.9124\n",
      "Epoch 228/1000\n",
      "32/32 [==============================] - 3s 104ms/step - loss: 0.0571 - accuracy: 0.9926 - val_loss: 0.4906 - val_accuracy: 0.8756\n",
      "Epoch 229/1000\n",
      "32/32 [==============================] - 3s 106ms/step - loss: 0.0559 - accuracy: 0.9797 - val_loss: 0.3957 - val_accuracy: 0.8848\n",
      "Epoch 230/1000\n",
      "32/32 [==============================] - 3s 105ms/step - loss: 0.0980 - accuracy: 0.9662 - val_loss: 0.3746 - val_accuracy: 0.8986\n",
      "Epoch 231/1000\n",
      "32/32 [==============================] - 3s 105ms/step - loss: 0.0767 - accuracy: 0.9782 - val_loss: 0.5691 - val_accuracy: 0.8664\n",
      "Epoch 232/1000\n",
      "32/32 [==============================] - 3s 108ms/step - loss: 0.1235 - accuracy: 0.9666 - val_loss: 0.7573 - val_accuracy: 0.8065\n",
      "Epoch 233/1000\n",
      "32/32 [==============================] - 3s 106ms/step - loss: 0.3985 - accuracy: 0.8804 - val_loss: 0.4730 - val_accuracy: 0.8756\n",
      "Epoch 234/1000\n",
      "32/32 [==============================] - 4s 110ms/step - loss: 0.1067 - accuracy: 0.9668 - val_loss: 0.4586 - val_accuracy: 0.8802\n",
      "Epoch 235/1000\n",
      "32/32 [==============================] - 3s 107ms/step - loss: 0.1201 - accuracy: 0.9635 - val_loss: 0.4485 - val_accuracy: 0.8986\n",
      "Epoch 236/1000\n",
      "32/32 [==============================] - 4s 121ms/step - loss: 0.1199 - accuracy: 0.9484 - val_loss: 0.6577 - val_accuracy: 0.8479\n",
      "Epoch 237/1000\n",
      "32/32 [==============================] - 3s 105ms/step - loss: 0.0805 - accuracy: 0.9816 - val_loss: 0.4026 - val_accuracy: 0.9078oss: 0.0826 - accuracy\n",
      "Epoch 238/1000\n",
      "32/32 [==============================] - 3s 104ms/step - loss: 0.0404 - accuracy: 0.9938 - val_loss: 0.3808 - val_accuracy: 0.9078\n",
      "Epoch 239/1000\n",
      "32/32 [==============================] - 3s 105ms/step - loss: 0.0423 - accuracy: 0.9925 - val_loss: 0.3985 - val_accuracy: 0.9124\n",
      "Epoch 240/1000\n",
      "32/32 [==============================] - 3s 103ms/step - loss: 0.0358 - accuracy: 0.9992 - val_loss: 0.3997 - val_accuracy: 0.8986\n",
      "Epoch 241/1000\n",
      "32/32 [==============================] - 4s 111ms/step - loss: 0.0501 - accuracy: 0.9921 - val_loss: 0.3904 - val_accuracy: 0.9124\n",
      "Epoch 242/1000\n",
      "32/32 [==============================] - 3s 105ms/step - loss: 0.0283 - accuracy: 0.9988 - val_loss: 0.4198 - val_accuracy: 0.9032\n",
      "Epoch 243/1000\n",
      "32/32 [==============================] - 3s 104ms/step - loss: 0.0461 - accuracy: 0.9852 - val_loss: 0.4246 - val_accuracy: 0.8940\n",
      "Epoch 244/1000\n",
      "32/32 [==============================] - 3s 104ms/step - loss: 0.0774 - accuracy: 0.9655 - val_loss: 0.4647 - val_accuracy: 0.8848\n",
      "Epoch 245/1000\n",
      "32/32 [==============================] - 3s 106ms/step - loss: 0.0835 - accuracy: 0.9769 - val_loss: 0.4629 - val_accuracy: 0.8940\n",
      "Epoch 246/1000\n",
      "32/32 [==============================] - 3s 109ms/step - loss: 0.0891 - accuracy: 0.9734 - val_loss: 0.4555 - val_accuracy: 0.8710\n",
      "Epoch 247/1000\n",
      "32/32 [==============================] - 3s 106ms/step - loss: 0.1582 - accuracy: 0.9547 - val_loss: 0.5928 - val_accuracy: 0.8618\n",
      "Epoch 248/1000\n",
      "32/32 [==============================] - 3s 105ms/step - loss: 0.1404 - accuracy: 0.9299 - val_loss: 0.7555 - val_accuracy: 0.8065\n",
      "Epoch 249/1000\n",
      "32/32 [==============================] - 3s 105ms/step - loss: 0.2596 - accuracy: 0.9091 - val_loss: 0.5208 - val_accuracy: 0.8664\n",
      "Epoch 250/1000\n",
      "32/32 [==============================] - 4s 113ms/step - loss: 0.1145 - accuracy: 0.9664 - val_loss: 0.5604 - val_accuracy: 0.8387\n",
      "Epoch 251/1000\n",
      "32/32 [==============================] - 3s 108ms/step - loss: 0.1622 - accuracy: 0.9547 - val_loss: 0.4853 - val_accuracy: 0.8848\n",
      "Epoch 252/1000\n",
      "32/32 [==============================] - 3s 105ms/step - loss: 0.0579 - accuracy: 0.9901 - val_loss: 0.3935 - val_accuracy: 0.8986\n",
      "Epoch 253/1000\n",
      "32/32 [==============================] - 3s 108ms/step - loss: 0.0593 - accuracy: 0.9828 - val_loss: 0.3864 - val_accuracy: 0.8894\n",
      "Epoch 254/1000\n",
      "32/32 [==============================] - 4s 110ms/step - loss: 0.0311 - accuracy: 0.9950 - val_loss: 0.3901 - val_accuracy: 0.9032\n",
      "Epoch 255/1000\n",
      "32/32 [==============================] - 4s 111ms/step - loss: 0.0470 - accuracy: 0.9893 - val_loss: 0.4022 - val_accuracy: 0.8940\n",
      "Epoch 256/1000\n",
      "32/32 [==============================] - 3s 106ms/step - loss: 0.0361 - accuracy: 0.9907 - val_loss: 0.3637 - val_accuracy: 0.9124\n",
      "Epoch 257/1000\n",
      "32/32 [==============================] - 3s 106ms/step - loss: 0.1218 - accuracy: 0.9589 - val_loss: 0.4822 - val_accuracy: 0.8894\n",
      "Epoch 258/1000\n",
      "32/32 [==============================] - 3s 105ms/step - loss: 0.1391 - accuracy: 0.9618 - val_loss: 0.6362 - val_accuracy: 0.8433\n",
      "Epoch 259/1000\n",
      "32/32 [==============================] - 3s 109ms/step - loss: 0.0896 - accuracy: 0.9689 - val_loss: 0.4718 - val_accuracy: 0.8802\n",
      "Epoch 260/1000\n",
      "32/32 [==============================] - 3s 108ms/step - loss: 0.1334 - accuracy: 0.9558 - val_loss: 0.4668 - val_accuracy: 0.8664\n",
      "Epoch 261/1000\n",
      "32/32 [==============================] - 3s 108ms/step - loss: 0.1060 - accuracy: 0.9623 - val_loss: 0.4377 - val_accuracy: 0.8848\n",
      "Epoch 262/1000\n",
      "32/32 [==============================] - 3s 106ms/step - loss: 0.0500 - accuracy: 0.9829 - val_loss: 0.3766 - val_accuracy: 0.9032\n",
      "Epoch 263/1000\n",
      "32/32 [==============================] - 3s 107ms/step - loss: 0.0289 - accuracy: 0.9977 - val_loss: 0.4100 - val_accuracy: 0.8940\n",
      "Epoch 264/1000\n",
      "32/32 [==============================] - 3s 107ms/step - loss: 0.0389 - accuracy: 0.9968 - val_loss: 0.4371 - val_accuracy: 0.8940\n",
      "Epoch 265/1000\n",
      "32/32 [==============================] - 3s 109ms/step - loss: 0.1117 - accuracy: 0.9585 - val_loss: 0.4246 - val_accuracy: 0.8710\n",
      "Epoch 266/1000\n",
      "32/32 [==============================] - 3s 109ms/step - loss: 0.0927 - accuracy: 0.9683 - val_loss: 0.5226 - val_accuracy: 0.8756\n",
      "Epoch 267/1000\n",
      "32/32 [==============================] - 3s 107ms/step - loss: 0.0559 - accuracy: 0.9755 - val_loss: 0.4737 - val_accuracy: 0.8710\n",
      "Epoch 268/1000\n",
      "32/32 [==============================] - 3s 107ms/step - loss: 0.1178 - accuracy: 0.9569 - val_loss: 0.7579 - val_accuracy: 0.8111\n",
      "Epoch 269/1000\n",
      "32/32 [==============================] - 4s 112ms/step - loss: 0.2744 - accuracy: 0.9163 - val_loss: 0.5067 - val_accuracy: 0.8710\n",
      "Epoch 00269: early stopping\n"
     ]
    }
   ],
   "source": [
    "my_callbacks_gru = [\n",
    "        tf.keras.callbacks.EarlyStopping(monitor='val_loss', mode='min', verbose=1, patience=50),\n",
    "        tf.keras.callbacks.ModelCheckpoint('best_model_gru.h5', monitor='val_loss', mode='min', save_best_only=True,verbouse = 1),\n",
    "        tf.keras.callbacks.TensorBoard(log_dir='./logs'),\n",
    "    ]\n",
    "\n",
    "history_gru=model_gru.fit(\n",
    "    X_train,y_train,\n",
    "    epochs=1000,\n",
    "    batch_size=16,\n",
    "    validation_data=(X_test,y_test),\n",
    "    validation_split=0.3,\n",
    "    callbacks = my_callbacks_gru,\n",
    "    verbose=1\n",
    ")"
   ]
  },
  {
   "cell_type": "code",
   "execution_count": null,
   "metadata": {},
   "outputs": [],
   "source": [
    "history_lstm.history.keys()\n"
   ]
  },
  {
   "cell_type": "code",
   "execution_count": 26,
   "metadata": {},
   "outputs": [
    {
     "data": {
      "image/png": "[encoded data removed]",
      "text/plain": [
       "<Figure size 432x288 with 1 Axes>"
      ]
     },
     "metadata": {
      "needs_background": "light"
     },
     "output_type": "display_data"
    }
   ],
   "source": [
    "plt.plot(history_lstm.history['accuracy'])\n",
    "plt.plot(history_lstm.history['val_accuracy'])\n",
    "plt.title('model accuracy')\n",
    "plt.ylabel('accuracy')\n",
    "plt.xlabel('epoch')\n",
    "plt.legend(['train', 'validation'], loc='lower right')\n",
    "plt.show()"
   ]
  },
  {
   "cell_type": "code",
   "execution_count": 28,
   "metadata": {},
   "outputs": [
    {
     "data": {
      "image/png": "[encoded data removed]",
      "text/plain": [
       "<Figure size 432x288 with 1 Axes>"
      ]
     },
     "metadata": {
      "needs_background": "light"
     },
     "output_type": "display_data"
    }
   ],
   "source": [
    "plt.plot(history_bdlstm.history['accuracy'])\n",
    "plt.plot(history_bdlstm.history['val_accuracy'])\n",
    "plt.title('model accuracy')\n",
    "plt.ylabel('accuracy')\n",
    "plt.xlabel('epoch')\n",
    "plt.legend(['train', 'validation'], loc='lower right')\n",
    "plt.show()"
   ]
  },
  {
   "cell_type": "code",
   "execution_count": 32,
   "metadata": {},
   "outputs": [
    {
     "data": {
      "image/png": "[encoded data removed]",
      "text/plain": [
       "<Figure size 432x288 with 1 Axes>"
      ]
     },
     "metadata": {
      "needs_background": "light"
     },
     "output_type": "display_data"
    }
   ],
   "source": [
    "plt.plot(history_gru.history['accuracy'])\n",
    "plt.plot(history_gru.history['val_accuracy'])\n",
    "plt.title('model accuracy')\n",
    "plt.ylabel('accuracy')\n",
    "plt.xlabel('epoch')\n",
    "plt.legend(['train', 'validation'], loc='lower right')\n",
    "plt.show()"
   ]
  },
  {
   "cell_type": "code",
   "execution_count": 29,
   "metadata": {},
   "outputs": [
    {
     "data": {
      "image/png": "[encoded data removed]",
      "text/plain": [
       "<Figure size 432x288 with 1 Axes>"
      ]
     },
     "metadata": {
      "needs_background": "light"
     },
     "output_type": "display_data"
    }
   ],
   "source": [
    "plt.plot(history_lstm.history['loss'])\n",
    "plt.plot(history_lstm.history['val_loss'])\n",
    "plt.title('model loss')\n",
    "plt.ylabel('loss')\n",
    "plt.xlabel('epoch')\n",
    "plt.legend(['train', 'validation'], loc='upper right')\n",
    "plt.show()"
   ]
  },
  {
   "cell_type": "code",
   "execution_count": 30,
   "metadata": {},
   "outputs": [
    {
     "data": {
      "image/png": "[encoded data removed]",
      "text/plain": [
       "<Figure size 432x288 with 1 Axes>"
      ]
     },
     "metadata": {
      "needs_background": "light"
     },
     "output_type": "display_data"
    }
   ],
   "source": [
    "plt.plot(history_bdlstm.history['loss'])\n",
    "plt.plot(history_bdlstm.history['val_loss'])\n",
    "plt.title('model loss')\n",
    "plt.ylabel('loss')\n",
    "plt.xlabel('epoch')\n",
    "plt.legend(['train', 'validation'], loc='upper right')\n",
    "plt.show()"
   ]
  },
  {
   "cell_type": "code",
   "execution_count": 33,
   "metadata": {},
   "outputs": [
    {
     "data": {
      "image/png": "[encoded data removed]",
      "text/plain": [
       "<Figure size 432x288 with 1 Axes>"
      ]
     },
     "metadata": {
      "needs_background": "light"
     },
     "output_type": "display_data"
    }
   ],
   "source": [
    "plt.plot(history_gru.history['loss'])\n",
    "plt.plot(history_gru.history['val_loss'])\n",
    "plt.title('model loss')\n",
    "plt.ylabel('loss')\n",
    "plt.xlabel('epoch')\n",
    "plt.legend(['train', 'validation'], loc='upper right')\n",
    "plt.show()"
   ]
  },
  {
   "cell_type": "code",
   "execution_count": 34,
   "metadata": {},
   "outputs": [],
   "source": [
    "model_lstm.save('tsl-lstm-action-v6.h5')"
   ]
  },
  {
   "cell_type": "code",
   "execution_count": 35,
   "metadata": {},
   "outputs": [],
   "source": [
    "model_bdlstm.save('tsl-bdlstm-action-v6.h5')"
   ]
  },
  {
   "cell_type": "code",
   "execution_count": 36,
   "metadata": {},
   "outputs": [],
   "source": [
    "model_gru.save('tsl-gru-action-v6.h5')"
   ]
  },
  {
   "cell_type": "code",
   "execution_count": 37,
   "metadata": {},
   "outputs": [],
   "source": [
    "import tensorflow as tf"
   ]
  },
  {
   "cell_type": "code",
   "execution_count": 38,
   "metadata": {},
   "outputs": [
    {
     "name": "stdout",
     "output_type": "stream",
     "text": [
      "Test performance lstm: accuracy=0.9333333373069763, loss=0.2266474813222885\n"
     ]
    }
   ],
   "source": [
    "new_model_lstm = tf.keras.models.load_model('tsl-lstm-action-v5.h5')\n",
    "score_lstm, acc_lstm = new_model_lstm.evaluate(X_test,y_test,batch_size=16,verbose=0)\n",
    "print('Test performance lstm: accuracy={0}, loss={1}'.format(acc_lstm, score_lstm))"
   ]
  },
  {
   "cell_type": "code",
   "execution_count": 39,
   "metadata": {},
   "outputs": [
    {
     "name": "stdout",
     "output_type": "stream",
     "text": [
      "Test performance lstm: accuracy=0.8999999761581421, loss=0.43287357687950134\n"
     ]
    }
   ],
   "source": [
    "new_model_bdlstm = tf.keras.models.load_model('tsl-bdlstm-action-v5.h5')\n",
    "score_lstm, acc_lstm = new_model_bdlstm.evaluate(X_test,y_test,batch_size=16,verbose=0)\n",
    "print('Test performance lstm: accuracy={0}, loss={1}'.format(acc_lstm, score_lstm))"
   ]
  },
  {
   "cell_type": "code",
   "execution_count": 40,
   "metadata": {},
   "outputs": [
    {
     "name": "stdout",
     "output_type": "stream",
     "text": [
      "Test performance lstm: accuracy=0.9611111283302307, loss=0.13453741371631622\n"
     ]
    }
   ],
   "source": [
    "new_model_gru = tf.keras.models.load_model('tsl-gru-action-v5.h5')\n",
    "score_lstm, acc_lstm = new_model_gru.evaluate(X_test,y_test,batch_size=16,verbose=0)\n",
    "print('Test performance lstm: accuracy={0}, loss={1}'.format(acc_lstm, score_lstm))"
   ]
  },
  {
   "cell_type": "code",
   "execution_count": 41,
   "metadata": {},
   "outputs": [
    {
     "name": "stdout",
     "output_type": "stream",
     "text": [
      "Model: \"sequential\"\n",
      "_________________________________________________________________\n",
      "Layer (type)                 Output Shape              Param #   \n",
      "=================================================================\n",
      "lstm (LSTM)                  (None, 30, 128)           916992    \n",
      "_________________________________________________________________\n",
      "lstm_1 (LSTM)                (None, 30, 192)           246528    \n",
      "_________________________________________________________________\n",
      "lstm_2 (LSTM)                (None, 30, 64)            65792     \n",
      "_________________________________________________________________\n",
      "dropout (Dropout)            (None, 30, 64)            0         \n",
      "_________________________________________________________________\n",
      "lstm_3 (LSTM)                (None, 128)               98816     \n",
      "_________________________________________________________________\n",
      "dense (Dense)                (None, 15)                1935      \n",
      "=================================================================\n",
      "Total params: 1,330,063\n",
      "Trainable params: 1,330,063\n",
      "Non-trainable params: 0\n",
      "_________________________________________________________________\n"
     ]
    }
   ],
   "source": [
    "new_model_lstm.summary()"
   ]
  },
  {
   "cell_type": "code",
   "execution_count": 42,
   "metadata": {},
   "outputs": [
    {
     "name": "stdout",
     "output_type": "stream",
     "text": [
      "Model: \"sequential_1\"\n",
      "_________________________________________________________________\n",
      "Layer (type)                 Output Shape              Param #   \n",
      "=================================================================\n",
      "bidirectional (Bidirectional (None, 30, 256)           1833984   \n",
      "_________________________________________________________________\n",
      "bidirectional_1 (Bidirection (None, 30, 256)           394240    \n",
      "_________________________________________________________________\n",
      "bidirectional_2 (Bidirection (None, 30, 256)           394240    \n",
      "_________________________________________________________________\n",
      "bidirectional_3 (Bidirection (None, 128)               164352    \n",
      "_________________________________________________________________\n",
      "dense_1 (Dense)              (None, 15)                1935      \n",
      "=================================================================\n",
      "Total params: 2,788,751\n",
      "Trainable params: 2,788,751\n",
      "Non-trainable params: 0\n",
      "_________________________________________________________________\n"
     ]
    }
   ],
   "source": [
    "new_model_bdlstm.summary()"
   ]
  },
  {
   "cell_type": "code",
   "execution_count": 43,
   "metadata": {},
   "outputs": [
    {
     "name": "stdout",
     "output_type": "stream",
     "text": [
      "Model: \"sequential_2\"\n",
      "_________________________________________________________________\n",
      "Layer (type)                 Output Shape              Param #   \n",
      "=================================================================\n",
      "gru (GRU)                    (None, 30, 192)           1069056   \n",
      "_________________________________________________________________\n",
      "gru_1 (GRU)                  (None, 30, 192)           222336    \n",
      "_________________________________________________________________\n",
      "dropout_1 (Dropout)          (None, 30, 192)           0         \n",
      "_________________________________________________________________\n",
      "gru_2 (GRU)                  (None, 32)                21696     \n",
      "_________________________________________________________________\n",
      "dense_2 (Dense)              (None, 15)                495       \n",
      "=================================================================\n",
      "Total params: 1,313,583\n",
      "Trainable params: 1,313,583\n",
      "Non-trainable params: 0\n",
      "_________________________________________________________________\n"
     ]
    }
   ],
   "source": [
    "new_model_gru.summary()"
   ]
  },
  {
   "cell_type": "markdown",
   "metadata": {},
   "source": [
    "# plot matrix"
   ]
  },
  {
   "cell_type": "code",
   "execution_count": 44,
   "metadata": {},
   "outputs": [],
   "source": [
    "def plot_confusion_matrix(cm, classes,\n",
    "                          normalize=False,\n",
    "                          title='Confusion matrix',\n",
    "                          cmap=plt.cm.Blues):\n",
    "    \"\"\"\n",
    "    This function prints and plots the confusion matrix.\n",
    "    Normalization can be applied by setting `normalize=True`.\n",
    "    \"\"\"\n",
    "    if normalize:\n",
    "        cm = cm.astype('float') / cm.sum(axis=1)[:, np.newaxis]\n",
    "        print(\"Normalized confusion matrix\")\n",
    "    else:\n",
    "        print('Confusion matrix, without normalization')\n",
    "\n",
    "    print(cm)\n",
    "\n",
    "    plt.imshow(cm, interpolation='nearest', cmap=cmap)\n",
    "    plt.title(title, size=12)\n",
    "    plt.colorbar()\n",
    "    tick_marks = np.arange(len(classes))\n",
    "    plt.xticks(tick_marks, classes, rotation=90, fontsize = 12)\n",
    "    plt.yticks(tick_marks, classes, fontsize = 12)\n",
    "\n",
    "    fmt = '.2f' if normalize else 'd'\n",
    "    thresh = cm.max() / 2.\n",
    "    for i, j in itertools.product(range(cm.shape[0]), range(cm.shape[1])):\n",
    "        plt.text(j, i, format(cm[i, j], fmt),\n",
    "                 horizontalalignment=\"center\",\n",
    "                 color=\"white\" if cm[i, j] > thresh else \"black\", fontsize = 10)\n",
    "\n",
    "    plt.tight_layout()\n",
    "    plt.ylabel('True label', fontsize = 8)\n",
    "    plt.xlabel('Predicted label', fontsize = 8)"
   ]
  },
  {
   "cell_type": "markdown",
   "metadata": {},
   "source": [
    "# Plot confusion matrix for lstm"
   ]
  },
  {
   "cell_type": "code",
   "execution_count": 45,
   "metadata": {},
   "outputs": [
    {
     "name": "stdout",
     "output_type": "stream",
     "text": [
      "Normalized confusion matrix\n",
      "[[1.         0.         0.         0.         0.         0.\n",
      "  0.         0.         0.         0.         0.         0.\n",
      "  0.         0.         0.        ]\n",
      " [0.         1.         0.         0.         0.         0.\n",
      "  0.         0.         0.         0.         0.         0.\n",
      "  0.         0.         0.        ]\n",
      " [0.         0.07142857 0.92857143 0.         0.         0.\n",
      "  0.         0.         0.         0.         0.         0.\n",
      "  0.         0.         0.        ]\n",
      " [0.         0.         0.         0.85714286 0.14285714 0.\n",
      "  0.         0.         0.         0.         0.         0.\n",
      "  0.         0.         0.        ]\n",
      " [0.         0.         0.         0.0625     0.9375     0.\n",
      "  0.         0.         0.         0.         0.         0.\n",
      "  0.         0.         0.        ]\n",
      " [0.         0.         0.         0.         0.         1.\n",
      "  0.         0.         0.         0.         0.         0.\n",
      "  0.         0.         0.        ]\n",
      " [0.         0.         0.         0.         0.         0.\n",
      "  1.         0.         0.         0.         0.         0.\n",
      "  0.         0.         0.        ]\n",
      " [0.         0.         0.         0.         0.         0.\n",
      "  0.         0.83333333 0.16666667 0.         0.         0.\n",
      "  0.         0.         0.        ]\n",
      " [0.         0.         0.         0.         0.         0.\n",
      "  0.         0.         1.         0.         0.         0.\n",
      "  0.         0.         0.        ]\n",
      " [0.         0.         0.         0.         0.         0.\n",
      "  0.         0.         0.         1.         0.         0.\n",
      "  0.         0.         0.        ]\n",
      " [0.         0.         0.         0.         0.         0.\n",
      "  0.         0.         0.         0.         1.         0.\n",
      "  0.         0.         0.        ]\n",
      " [0.         0.         0.         0.         0.         0.\n",
      "  0.         0.         0.         0.         0.         1.\n",
      "  0.         0.         0.        ]\n",
      " [0.         0.         0.         0.         0.         0.\n",
      "  0.09090909 0.         0.         0.         0.         0.\n",
      "  0.90909091 0.         0.        ]\n",
      " [0.         0.         0.         0.         0.08333333 0.\n",
      "  0.         0.         0.         0.         0.         0.\n",
      "  0.         0.75       0.16666667]\n",
      " [0.         0.         0.         0.         0.         0.\n",
      "  0.         0.         0.         0.         0.07692308 0.\n",
      "  0.         0.07692308 0.84615385]]\n"
     ]
    },
    {
     "data": {
      "image/png": "[encoded data removed]",
      "text/plain": [
       "<Figure size 576x432 with 2 Axes>"
      ]
     },
     "metadata": {
      "needs_background": "light"
     },
     "output_type": "display_data"
    },
    {
     "data": {
      "text/plain": [
       "<Figure size 432x288 with 0 Axes>"
      ]
     },
     "metadata": {},
     "output_type": "display_data"
    }
   ],
   "source": [
    "from sklearn.metrics import confusion_matrix\n",
    "import itertools\n",
    "\n",
    "xhat_lstm = X_test\n",
    "yhat_lstm = new_model_lstm.predict(xhat_lstm)\n",
    "\n",
    "\n",
    "cfm_lstm = confusion_matrix(np.argmax(y_test,axis=1), np.argmax(yhat_lstm, axis=1))\n",
    "\n",
    "plt.figure(figsize=(8,6))\n",
    "class_names = actions\n",
    "\n",
    "plot_confusion_matrix(cfm_lstm, classes=class_names, normalize = True,title='Confusion Matrix on Test data LSTM')\n",
    "plt.show()\n",
    "plt.tight_layout()"
   ]
  },
  {
   "cell_type": "code",
   "execution_count": 46,
   "metadata": {},
   "outputs": [
    {
     "name": "stdout",
     "output_type": "stream",
     "text": [
      "Normalized confusion matrix\n",
      "[[0.83333333 0.         0.         0.         0.08333333 0.\n",
      "  0.         0.         0.         0.08333333 0.         0.\n",
      "  0.         0.         0.        ]\n",
      " [0.         1.         0.         0.         0.         0.\n",
      "  0.         0.         0.         0.         0.         0.\n",
      "  0.         0.         0.        ]\n",
      " [0.         0.         1.         0.         0.         0.\n",
      "  0.         0.         0.         0.         0.         0.\n",
      "  0.         0.         0.        ]\n",
      " [0.         0.         0.         0.57142857 0.35714286 0.\n",
      "  0.         0.         0.         0.         0.         0.\n",
      "  0.         0.07142857 0.        ]\n",
      " [0.         0.         0.         0.         0.9375     0.\n",
      "  0.         0.         0.         0.         0.         0.\n",
      "  0.         0.         0.0625    ]\n",
      " [0.         0.         0.         0.         0.         1.\n",
      "  0.         0.         0.         0.         0.         0.\n",
      "  0.         0.         0.        ]\n",
      " [0.         0.         0.         0.         0.         0.\n",
      "  1.         0.         0.         0.         0.         0.\n",
      "  0.         0.         0.        ]\n",
      " [0.         0.         0.         0.         0.         0.\n",
      "  0.         0.91666667 0.08333333 0.         0.         0.\n",
      "  0.         0.         0.        ]\n",
      " [0.         0.         0.1        0.         0.         0.\n",
      "  0.         0.         0.9        0.         0.         0.\n",
      "  0.         0.         0.        ]\n",
      " [0.         0.         0.         0.         0.         0.\n",
      "  0.         0.         0.         1.         0.         0.\n",
      "  0.         0.         0.        ]\n",
      " [0.         0.         0.         0.         0.         0.\n",
      "  0.         0.         0.         0.         1.         0.\n",
      "  0.         0.         0.        ]\n",
      " [0.25       0.         0.         0.         0.         0.\n",
      "  0.         0.         0.         0.         0.         0.75\n",
      "  0.         0.         0.        ]\n",
      " [0.         0.         0.         0.         0.         0.\n",
      "  0.         0.         0.         0.         0.         0.\n",
      "  0.90909091 0.09090909 0.        ]\n",
      " [0.         0.         0.         0.08333333 0.08333333 0.\n",
      "  0.08333333 0.         0.         0.         0.         0.\n",
      "  0.         0.66666667 0.08333333]\n",
      " [0.         0.         0.         0.         0.         0.\n",
      "  0.         0.         0.         0.         0.         0.\n",
      "  0.         0.         1.        ]]\n"
     ]
    },
    {
     "data": {
      "image/png": "[encoded data removed]",
      "text/plain": [
       "<Figure size 576x432 with 2 Axes>"
      ]
     },
     "metadata": {
      "needs_background": "light"
     },
     "output_type": "display_data"
    },
    {
     "data": {
      "text/plain": [
       "<Figure size 432x288 with 0 Axes>"
      ]
     },
     "metadata": {},
     "output_type": "display_data"
    }
   ],
   "source": [
    "from sklearn.metrics import confusion_matrix\n",
    "import itertools\n",
    "\n",
    "xhat_bdlstm = X_test\n",
    "yhat_bdlstm = new_model_bdlstm.predict(xhat_bdlstm)\n",
    "\n",
    "\n",
    "cfm_bdlstm = confusion_matrix(np.argmax(y_test,axis=1), np.argmax(yhat_bdlstm, axis=1))\n",
    "\n",
    "plt.figure(figsize=(8,6))\n",
    "class_names = actions\n",
    "\n",
    "plot_confusion_matrix(cfm_bdlstm, classes=class_names, normalize = True,title='Confusion Matrix on Test data BD-LSTM')\n",
    "plt.show()\n",
    "plt.tight_layout()"
   ]
  },
  {
   "cell_type": "code",
   "execution_count": 47,
   "metadata": {},
   "outputs": [
    {
     "name": "stdout",
     "output_type": "stream",
     "text": [
      "Normalized confusion matrix\n",
      "[[1.         0.         0.         0.         0.         0.\n",
      "  0.         0.         0.         0.         0.         0.\n",
      "  0.         0.         0.        ]\n",
      " [0.         1.         0.         0.         0.         0.\n",
      "  0.         0.         0.         0.         0.         0.\n",
      "  0.         0.         0.        ]\n",
      " [0.         0.         1.         0.         0.         0.\n",
      "  0.         0.         0.         0.         0.         0.\n",
      "  0.         0.         0.        ]\n",
      " [0.         0.         0.         0.85714286 0.14285714 0.\n",
      "  0.         0.         0.         0.         0.         0.\n",
      "  0.         0.         0.        ]\n",
      " [0.         0.         0.         0.125      0.875      0.\n",
      "  0.         0.         0.         0.         0.         0.\n",
      "  0.         0.         0.        ]\n",
      " [0.         0.         0.         0.         0.         1.\n",
      "  0.         0.         0.         0.         0.         0.\n",
      "  0.         0.         0.        ]\n",
      " [0.         0.         0.         0.         0.         0.\n",
      "  0.9        0.         0.         0.1        0.         0.\n",
      "  0.         0.         0.        ]\n",
      " [0.         0.         0.         0.         0.         0.\n",
      "  0.         1.         0.         0.         0.         0.\n",
      "  0.         0.         0.        ]\n",
      " [0.         0.         0.         0.         0.         0.\n",
      "  0.         0.         1.         0.         0.         0.\n",
      "  0.         0.         0.        ]\n",
      " [0.         0.         0.         0.         0.         0.\n",
      "  0.         0.         0.         1.         0.         0.\n",
      "  0.         0.         0.        ]\n",
      " [0.         0.         0.         0.         0.         0.\n",
      "  0.         0.         0.         0.         1.         0.\n",
      "  0.         0.         0.        ]\n",
      " [0.         0.         0.         0.         0.         0.\n",
      "  0.         0.         0.         0.         0.         1.\n",
      "  0.         0.         0.        ]\n",
      " [0.         0.         0.         0.         0.         0.\n",
      "  0.         0.         0.         0.         0.         0.09090909\n",
      "  0.90909091 0.         0.        ]\n",
      " [0.08333333 0.         0.         0.         0.         0.\n",
      "  0.         0.         0.         0.         0.         0.\n",
      "  0.         0.91666667 0.        ]\n",
      " [0.         0.         0.         0.         0.         0.\n",
      "  0.         0.         0.         0.         0.         0.\n",
      "  0.         0.         1.        ]]\n"
     ]
    },
    {
     "data": {
      "image/png": "[encoded data removed]",
      "text/plain": [
       "<Figure size 576x432 with 2 Axes>"
      ]
     },
     "metadata": {
      "needs_background": "light"
     },
     "output_type": "display_data"
    },
    {
     "data": {
      "text/plain": [
       "<Figure size 432x288 with 0 Axes>"
      ]
     },
     "metadata": {},
     "output_type": "display_data"
    }
   ],
   "source": [
    "from sklearn.metrics import confusion_matrix\n",
    "import itertools\n",
    "\n",
    "xhat_gru = X_test\n",
    "yhat_gru = new_model_gru.predict(xhat_gru)\n",
    "\n",
    "\n",
    "cfm_gru = confusion_matrix(np.argmax(y_test,axis=1), np.argmax(yhat_gru, axis=1))\n",
    "\n",
    "plt.figure(figsize=(8,6))\n",
    "class_names = actions\n",
    "\n",
    "plot_confusion_matrix(cfm_gru, classes=class_names, normalize = True,title='Confusion Matrix on Test data GRU')\n",
    "plt.show()\n",
    "plt.tight_layout()"
   ]
  },
  {
   "cell_type": "markdown",
   "metadata": {},
   "source": [
    "# test new model from loaded model"
   ]
  },
  {
   "cell_type": "code",
   "execution_count": null,
   "metadata": {},
   "outputs": [],
   "source": [
    "# 1. New detection variables\n",
    "sequence = []\n",
    "sentence = []\n",
    "predictions = []\n",
    "threshold = 0.5\n",
    "\n",
    "cap = cv2.VideoCapture(0)\n",
    "# Set mediapipe model \n",
    "with mp_holistic.Holistic(min_detection_confidence=0.5, min_tracking_confidence=0.5) as holistic:\n",
    "    while cap.isOpened():\n",
    "\n",
    "        # Read feed\n",
    "        ret, frame = cap.read()\n",
    "\n",
    "        # Make detections\n",
    "        image, results = mediapipe_detection(frame, holistic)\n",
    "        print(results)\n",
    "        \n",
    "        # Draw landmarks\n",
    "        draw_styled_landmarks(image, results)\n",
    "        \n",
    "        # 2. Prediction logic\n",
    "        keypoints = extract_keypoints(results)\n",
    "        sequence.append(keypoints)\n",
    "        sequence = sequence[-30:]\n",
    "        \n",
    "        \n",
    "        # Test Model\n",
    "        if len(sequence) == 30:\n",
    "            res = new_model_gru.predict(np.expand_dims(sequence, axis=0))[0]\n",
    "            print(actions[np.argmax(res)])\n",
    "            predictions.append(np.argmax(res))\n",
    "            \n",
    "            \n",
    "        #3. Viz logic\n",
    "            if np.unique(predictions[-10:])[0]==np.argmax(res): \n",
    "                if res[np.argmax(res)] > threshold: \n",
    "                    \n",
    "                    if len(sentence) > 0: \n",
    "                        if actions[np.argmax(res)] != sentence[-1]:\n",
    "                            sentence.append(actions[np.argmax(res)])\n",
    "                    else:\n",
    "                        sentence.append(actions[np.argmax(res)])\n",
    "\n",
    "            if len(sentence) > 5: \n",
    "                sentence = sentence[-5:]\n",
    "\n",
    "            # Viz probabilities\n",
    "            image = prob_viz(res, actions, image, colors)\n",
    "            \n",
    "        cv2.rectangle(image, (0,0), (640, 40), (245, 117, 16), -1)\n",
    "        cv2.putText(image, ' '.join(sentence), (3,30), \n",
    "                       cv2.FONT_HERSHEY_SIMPLEX, 1, (255, 255, 255), 2, cv2.LINE_AA)\n",
    "        \n",
    "        # Show to screen\n",
    "        cv2.imshow('OpenCV Feed', image)\n",
    "\n",
    "        # Break gracefully\n",
    "        if cv2.waitKey(10) & 0xFF == ord('q'):\n",
    "            break\n",
    "    cap.release()\n",
    "    cv2.destroyAllWindows()"
   ]
  },
  {
   "cell_type": "code",
   "execution_count": null,
   "metadata": {},
   "outputs": [],
   "source": []
  }
 ],
 "metadata": {
  "kernelspec": {
   "display_name": "Python 3 (ipykernel)",
   "language": "python",
   "name": "python3"
  },
  "language_info": {
   "codemirror_mode": {
    "name": "ipython",
    "version": 3
   },
   "file_extension": ".py",
   "mimetype": "text/x-python",
   "name": "python",
   "nbconvert_exporter": "python",
   "pygments_lexer": "ipython3",
   "version": "3.8.13"
  }
 },
 "nbformat": 4,
 "nbformat_minor": 2
}
